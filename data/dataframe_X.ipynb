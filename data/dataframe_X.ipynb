{
 "cells": [
  {
   "cell_type": "code",
   "execution_count": 1,
   "id": "02fea117",
   "metadata": {},
   "outputs": [],
   "source": [
    "import pandas as pd\n",
    "from sklearn.preprocessing import LabelEncoder, OrdinalEncoder\n",
    "from sklearn.preprocessing import StandardScaler\n",
    "from sklearn.model_selection import train_test_split as tts      "
   ]
  },
  {
   "cell_type": "code",
   "execution_count": 2,
   "id": "3581e9e2",
   "metadata": {},
   "outputs": [],
   "source": [
    "import pylab as plt"
   ]
  },
  {
   "cell_type": "code",
   "execution_count": 3,
   "id": "c63da779",
   "metadata": {},
   "outputs": [],
   "source": [
    "import seaborn as sns"
   ]
  },
  {
   "cell_type": "code",
   "execution_count": 4,
   "id": "2bae7a32",
   "metadata": {},
   "outputs": [],
   "source": [
    "import numpy as np"
   ]
  },
  {
   "cell_type": "code",
   "execution_count": 5,
   "id": "b024b5a9",
   "metadata": {},
   "outputs": [],
   "source": [
    "salaries_ = pd.read_csv('../data/salaries_data.csv')"
   ]
  },
  {
   "cell_type": "code",
   "execution_count": 6,
   "id": "a7093059",
   "metadata": {},
   "outputs": [
    {
     "data": {
      "text/plain": [
       "(500, 11)"
      ]
     },
     "execution_count": 6,
     "metadata": {},
     "output_type": "execute_result"
    }
   ],
   "source": [
    "salaries_.shape"
   ]
  },
  {
   "cell_type": "code",
   "execution_count": 7,
   "id": "190f0953",
   "metadata": {},
   "outputs": [],
   "source": [
    "testeo = pd.read_csv('../data/testeo.csv')"
   ]
  },
  {
   "cell_type": "code",
   "execution_count": 8,
   "id": "a35dbddf",
   "metadata": {},
   "outputs": [
    {
     "data": {
      "text/plain": [
       "(107, 10)"
      ]
     },
     "execution_count": 8,
     "metadata": {},
     "output_type": "execute_result"
    }
   ],
   "source": [
    "testeo.shape"
   ]
  },
  {
   "cell_type": "code",
   "execution_count": 9,
   "id": "702bad40",
   "metadata": {},
   "outputs": [],
   "source": [
    "salaries_X = pd.concat([salaries_, testeo])"
   ]
  },
  {
   "cell_type": "code",
   "execution_count": 10,
   "id": "3053d9b8",
   "metadata": {},
   "outputs": [],
   "source": [
    "salaries_X.reset_index(drop = True, inplace = True)"
   ]
  },
  {
   "cell_type": "code",
   "execution_count": 11,
   "id": "26cb0e8a",
   "metadata": {},
   "outputs": [
    {
     "data": {
      "text/plain": [
       "Index(['work_year', 'experience_level', 'employment_type', 'job_title',\n",
       "       'salary', 'salary_currency', 'salary_in_usd', 'employee_residence',\n",
       "       'remote_ratio', 'company_location', 'company_size'],\n",
       "      dtype='object')"
      ]
     },
     "execution_count": 11,
     "metadata": {},
     "output_type": "execute_result"
    }
   ],
   "source": [
    "salaries_X.columns"
   ]
  },
  {
   "cell_type": "code",
   "execution_count": 12,
   "id": "988574ee",
   "metadata": {},
   "outputs": [
    {
     "data": {
      "text/plain": [
       "(607, 11)"
      ]
     },
     "execution_count": 12,
     "metadata": {},
     "output_type": "execute_result"
    }
   ],
   "source": [
    "salaries_X.shape"
   ]
  },
  {
   "cell_type": "code",
   "execution_count": 13,
   "id": "d00b7218",
   "metadata": {},
   "outputs": [],
   "source": [
    "#borro las columnas salary y salary_currency porque ya tenemos la y como salary_in_usd en moneda única"
   ]
  },
  {
   "cell_type": "code",
   "execution_count": 14,
   "id": "99114801",
   "metadata": {},
   "outputs": [],
   "source": [
    "salaries_X.drop(['salary', 'salary_currency', 'employee_residence' ], axis = 1, inplace = True)"
   ]
  },
  {
   "cell_type": "code",
   "execution_count": 15,
   "id": "751f3b0f",
   "metadata": {},
   "outputs": [],
   "source": [
    "#salaries_X = salaries.drop('salary_in_usd', axis = 1)"
   ]
  },
  {
   "cell_type": "code",
   "execution_count": 16,
   "id": "f558bc8f",
   "metadata": {},
   "outputs": [],
   "source": [
    "y = salaries_X.salary_in_usd"
   ]
  },
  {
   "cell_type": "code",
   "execution_count": 17,
   "id": "be918a36",
   "metadata": {},
   "outputs": [],
   "source": [
    "y.dropna(inplace = True)"
   ]
  },
  {
   "cell_type": "code",
   "execution_count": 18,
   "id": "1bbb2285",
   "metadata": {},
   "outputs": [
    {
     "data": {
      "text/plain": [
       "array(['Data Engineer', 'BI Data Analyst', 'ML Engineer',\n",
       "       'Machine Learning Scientist', 'Data Scientist', 'Data Analyst',\n",
       "       'Machine Learning Engineer', 'Principal Data Scientist',\n",
       "       'Data Engineering Manager', 'Data Analytics Manager',\n",
       "       'Big Data Engineer', 'Research Scientist',\n",
       "       'Machine Learning Developer', 'Computer Vision Engineer',\n",
       "       'AI Scientist', 'Machine Learning Manager', 'Lead Data Scientist',\n",
       "       'Director of Data Science', '3D Computer Vision Researcher',\n",
       "       'Data Specialist', 'Applied Data Scientist',\n",
       "       'Data Science Engineer', 'Head of Data', 'Analytics Engineer',\n",
       "       'ETL Developer', 'Marketing Data Analyst', 'Data Architect',\n",
       "       'Data Science Consultant', 'Principal Data Analyst',\n",
       "       'Head of Data Science', 'Lead Data Engineer',\n",
       "       'Data Science Manager', 'Applied Machine Learning Scientist',\n",
       "       'Lead Data Analyst', 'Cloud Data Engineer',\n",
       "       'Lead Machine Learning Engineer',\n",
       "       'Machine Learning Infrastructure Engineer', 'Big Data Architect',\n",
       "       'Product Data Analyst', 'Business Data Analyst',\n",
       "       'Director of Data Engineering', 'Data Analytics Lead',\n",
       "       'Financial Data Analyst', 'Finance Data Analyst',\n",
       "       'Head of Machine Learning', 'Staff Data Scientist',\n",
       "       'Data Analytics Engineer', 'Computer Vision Software Engineer',\n",
       "       'Principal Data Engineer', 'NLP Engineer'], dtype=object)"
      ]
     },
     "execution_count": 18,
     "metadata": {},
     "output_type": "execute_result"
    }
   ],
   "source": [
    "salaries_X.job_title.unique()"
   ]
  },
  {
   "cell_type": "code",
   "execution_count": 19,
   "id": "42633f38",
   "metadata": {},
   "outputs": [],
   "source": [
    "def title(x):\n",
    "    if 'Machine' in x or 'ML' in x or 'Computer' in x:\n",
    "        return 'Machine Learning'\n",
    "    if 'Engineer' in x or 'Engineering' in x:\n",
    "        return 'Data Engineer'\n",
    "    if 'Analyst' in x or 'Analytics' in x:\n",
    "        return 'Data Analyst'\n",
    "    else:\n",
    "        return 'Data Scientist'"
   ]
  },
  {
   "cell_type": "code",
   "execution_count": 20,
   "id": "a3b82e5c",
   "metadata": {},
   "outputs": [
    {
     "data": {
      "text/plain": [
       "Data Scientist                              143\n",
       "Data Engineer                               132\n",
       "Data Analyst                                 97\n",
       "Machine Learning Engineer                    41\n",
       "Research Scientist                           16\n",
       "Data Science Manager                         12\n",
       "Data Architect                               11\n",
       "Big Data Engineer                             8\n",
       "Machine Learning Scientist                    8\n",
       "Director of Data Science                      7\n",
       "AI Scientist                                  7\n",
       "Data Analytics Manager                        7\n",
       "Principal Data Scientist                      7\n",
       "Data Science Consultant                       7\n",
       "Computer Vision Engineer                      6\n",
       "Lead Data Engineer                            6\n",
       "BI Data Analyst                               6\n",
       "ML Engineer                                   6\n",
       "Data Engineering Manager                      5\n",
       "Business Data Analyst                         5\n",
       "Applied Data Scientist                        5\n",
       "Head of Data                                  5\n",
       "Head of Data Science                          4\n",
       "Applied Machine Learning Scientist            4\n",
       "Analytics Engineer                            4\n",
       "Data Analytics Engineer                       4\n",
       "Machine Learning Infrastructure Engineer      3\n",
       "Lead Data Analyst                             3\n",
       "Data Science Engineer                         3\n",
       "Computer Vision Software Engineer             3\n",
       "Lead Data Scientist                           3\n",
       "Principal Data Engineer                       3\n",
       "Machine Learning Developer                    3\n",
       "Principal Data Analyst                        2\n",
       "ETL Developer                                 2\n",
       "Financial Data Analyst                        2\n",
       "Cloud Data Engineer                           2\n",
       "Product Data Analyst                          2\n",
       "Director of Data Engineering                  2\n",
       "Staff Data Scientist                          1\n",
       "Head of Machine Learning                      1\n",
       "Finance Data Analyst                          1\n",
       "Marketing Data Analyst                        1\n",
       "Data Analytics Lead                           1\n",
       "Big Data Architect                            1\n",
       "Lead Machine Learning Engineer                1\n",
       "Data Specialist                               1\n",
       "3D Computer Vision Researcher                 1\n",
       "Machine Learning Manager                      1\n",
       "NLP Engineer                                  1\n",
       "Name: job_title, dtype: int64"
      ]
     },
     "execution_count": 20,
     "metadata": {},
     "output_type": "execute_result"
    }
   ],
   "source": [
    "salaries_X.job_title.value_counts()"
   ]
  },
  {
   "cell_type": "code",
   "execution_count": 21,
   "id": "e1e0c6c0",
   "metadata": {},
   "outputs": [],
   "source": [
    "#Convertimos todas las columnas categóricas a números"
   ]
  },
  {
   "cell_type": "code",
   "execution_count": 22,
   "id": "503d67af",
   "metadata": {},
   "outputs": [],
   "source": [
    "salaries_X.job_title = salaries_X.job_title.apply(title)"
   ]
  },
  {
   "cell_type": "code",
   "execution_count": 23,
   "id": "96a7b704",
   "metadata": {
    "scrolled": false
   },
   "outputs": [
    {
     "data": {
      "text/plain": [
       "job_title\n",
       "Data Scientist      122094.610256\n",
       "Data Engineer       111003.900000\n",
       "Machine Learning    110536.816667\n",
       "Data Analyst        100160.990476\n",
       "Name: salary_in_usd, dtype: float64"
      ]
     },
     "execution_count": 23,
     "metadata": {},
     "output_type": "execute_result"
    }
   ],
   "source": [
    "salaries_X.groupby('job_title').salary_in_usd.mean().sort_values(ascending = False)"
   ]
  },
  {
   "cell_type": "code",
   "execution_count": 24,
   "id": "e2800ac1",
   "metadata": {},
   "outputs": [],
   "source": [
    "#Primero los trabajos"
   ]
  },
  {
   "cell_type": "code",
   "execution_count": 25,
   "id": "4d0caddf",
   "metadata": {},
   "outputs": [],
   "source": [
    "trabajo = {'Data Scientist': 1, 'Data Engineer': 2, 'Machine Learning': 3, 'Data Analyst':4}  \n",
    "salaries_X.job_title=salaries_X.job_title.apply(lambda x: trabajo[x])"
   ]
  },
  {
   "cell_type": "code",
   "execution_count": 26,
   "id": "a561ba3b",
   "metadata": {},
   "outputs": [],
   "source": [
    "#salaries_X.job_title=LabelEncoder().fit_transform(salaries_X.job_title)"
   ]
  },
  {
   "cell_type": "code",
   "execution_count": 27,
   "id": "2418c6fd",
   "metadata": {},
   "outputs": [],
   "source": [
    "#Experience_level"
   ]
  },
  {
   "cell_type": "code",
   "execution_count": 28,
   "id": "c4ebd72d",
   "metadata": {
    "scrolled": true
   },
   "outputs": [
    {
     "data": {
      "text/plain": [
       "experience_level\n",
       "EX    196078.850000\n",
       "SE    136341.794239\n",
       "MI     90384.610465\n",
       "EN     59989.569231\n",
       "Name: salary_in_usd, dtype: float64"
      ]
     },
     "execution_count": 28,
     "metadata": {},
     "output_type": "execute_result"
    }
   ],
   "source": [
    "salaries_X.groupby('experience_level').salary_in_usd.mean().sort_values(ascending = False)"
   ]
  },
  {
   "cell_type": "code",
   "execution_count": 29,
   "id": "39f27a2c",
   "metadata": {},
   "outputs": [
    {
     "data": {
      "text/plain": [
       "array(['SE', 'MI', 'EN', 'EX'], dtype=object)"
      ]
     },
     "execution_count": 29,
     "metadata": {},
     "output_type": "execute_result"
    }
   ],
   "source": [
    "salaries_X.experience_level.unique()"
   ]
  },
  {
   "cell_type": "code",
   "execution_count": 30,
   "id": "02c0b119",
   "metadata": {},
   "outputs": [],
   "source": [
    "experiencia = {'EX' : 4, 'SE' : 3, 'MI' : 2, 'EN' : 1}\n",
    "salaries_X.experience_level=salaries_X.experience_level.apply(lambda x: experiencia[x])"
   ]
  },
  {
   "cell_type": "code",
   "execution_count": 31,
   "id": "9727ba33",
   "metadata": {},
   "outputs": [],
   "source": [
    "#salaries_X.experience_level=LabelEncoder().fit_transform(salaries_X.experience_level)"
   ]
  },
  {
   "cell_type": "code",
   "execution_count": 32,
   "id": "4a803c34",
   "metadata": {},
   "outputs": [],
   "source": [
    "#Company_size"
   ]
  },
  {
   "cell_type": "code",
   "execution_count": 33,
   "id": "24bb1135",
   "metadata": {},
   "outputs": [
    {
     "data": {
      "text/plain": [
       "company_size\n",
       "L    121031.375758\n",
       "M    115805.494505\n",
       "S     79242.435484\n",
       "Name: salary_in_usd, dtype: float64"
      ]
     },
     "execution_count": 33,
     "metadata": {},
     "output_type": "execute_result"
    }
   ],
   "source": [
    "salaries_X.groupby('company_size').salary_in_usd.mean().sort_values(ascending = False)"
   ]
  },
  {
   "cell_type": "code",
   "execution_count": 34,
   "id": "8e1fb2b6",
   "metadata": {},
   "outputs": [
    {
     "data": {
      "text/plain": [
       "array(['M', 'L', 'S'], dtype=object)"
      ]
     },
     "execution_count": 34,
     "metadata": {},
     "output_type": "execute_result"
    }
   ],
   "source": [
    "salaries_X.company_size.unique()"
   ]
  },
  {
   "cell_type": "code",
   "execution_count": 35,
   "id": "ed633ab6",
   "metadata": {},
   "outputs": [],
   "source": [
    "size = {'M' : 3, 'L' : 2, 'S' : 1}\n",
    "salaries_X.company_size=salaries_X.company_size.apply(lambda x: size[x])"
   ]
  },
  {
   "cell_type": "code",
   "execution_count": 36,
   "id": "2b61964b",
   "metadata": {},
   "outputs": [],
   "source": [
    "#Employment_type"
   ]
  },
  {
   "cell_type": "code",
   "execution_count": 37,
   "id": "37f3442f",
   "metadata": {},
   "outputs": [],
   "source": [
    "salaries_X.employment_type=LabelEncoder().fit_transform(salaries_X.employment_type)"
   ]
  },
  {
   "cell_type": "code",
   "execution_count": 38,
   "id": "6a021114",
   "metadata": {},
   "outputs": [],
   "source": [
    "#Company_location"
   ]
  },
  {
   "cell_type": "code",
   "execution_count": 39,
   "id": "ca38c4d4",
   "metadata": {
    "scrolled": true
   },
   "outputs": [],
   "source": [
    "counts = pd.DataFrame(salaries_X.company_location.value_counts())"
   ]
  },
  {
   "cell_type": "code",
   "execution_count": 40,
   "id": "3475085a",
   "metadata": {
    "scrolled": false
   },
   "outputs": [],
   "source": [
    "salaries_X.company_location=LabelEncoder().fit_transform(salaries_X.company_location)"
   ]
  },
  {
   "cell_type": "code",
   "execution_count": 41,
   "id": "59569d40",
   "metadata": {},
   "outputs": [],
   "source": [
    "#company_location"
   ]
  },
  {
   "cell_type": "code",
   "execution_count": 42,
   "id": "b900de8c",
   "metadata": {},
   "outputs": [],
   "source": [
    "companies_loc = pd.DataFrame(salaries_X.groupby('company_location').salary_in_usd.mean())"
   ]
  },
  {
   "cell_type": "code",
   "execution_count": 43,
   "id": "b8fe49c4",
   "metadata": {
    "scrolled": true
   },
   "outputs": [],
   "source": [
    "companies_loc.reset_index(drop = False, inplace = True)"
   ]
  },
  {
   "cell_type": "code",
   "execution_count": 44,
   "id": "d2e852de",
   "metadata": {},
   "outputs": [],
   "source": [
    "companies_loc.fillna(companies_loc.salary_in_usd.mean(), inplace = True)"
   ]
  },
  {
   "cell_type": "code",
   "execution_count": 45,
   "id": "0023dfb6",
   "metadata": {},
   "outputs": [],
   "source": [
    "#salaries_X['average_salary_location'] = None"
   ]
  },
  {
   "cell_type": "code",
   "execution_count": 46,
   "id": "3217acae",
   "metadata": {},
   "outputs": [
    {
     "data": {
      "text/plain": [
       "'for e in range(len(salaries_X.company_location)):\\n    if salaries_X.company_location[e]:\\n        for t in range(len(companies_loc)):\\n            if companies_loc.company_location[t] == salaries_X.company_location[e]:\\n                salaries_X.average_salary_location[e] = companies_loc.salary_in_usd[t]'"
      ]
     },
     "execution_count": 46,
     "metadata": {},
     "output_type": "execute_result"
    }
   ],
   "source": [
    "'''for e in range(len(salaries_X.company_location)):\n",
    "    if salaries_X.company_location[e]:\n",
    "        for t in range(len(companies_loc)):\n",
    "            if companies_loc.company_location[t] == salaries_X.company_location[e]:\n",
    "                salaries_X.average_salary_location[e] = companies_loc.salary_in_usd[t]'''"
   ]
  },
  {
   "cell_type": "code",
   "execution_count": 47,
   "id": "dfaafc3d",
   "metadata": {},
   "outputs": [],
   "source": [
    "#salaries_X.drop('salary_in_usd', axis = 1, inplace = True,)"
   ]
  },
  {
   "cell_type": "code",
   "execution_count": 48,
   "id": "f8fdf7e1",
   "metadata": {},
   "outputs": [],
   "source": [
    "#salaries_X.average_salary_location.info()"
   ]
  },
  {
   "cell_type": "code",
   "execution_count": 49,
   "id": "fbdadc60",
   "metadata": {},
   "outputs": [],
   "source": [
    "#salaries_X.average_salary_location.fillna(salaries_X.average_salary_location.mean(), inplace = True)"
   ]
  },
  {
   "cell_type": "code",
   "execution_count": 50,
   "id": "55f2be5c",
   "metadata": {},
   "outputs": [],
   "source": [
    "#salaries_X.average_salary_location"
   ]
  },
  {
   "cell_type": "code",
   "execution_count": 51,
   "id": "0c2b1c7b",
   "metadata": {},
   "outputs": [],
   "source": [
    "#paises = salaries_X.average_salary_location.value_counts().sort_values(ascending = False)"
   ]
  },
  {
   "cell_type": "code",
   "execution_count": 52,
   "id": "532c084b",
   "metadata": {},
   "outputs": [],
   "source": [
    "#paises = pd.DataFrame(paises)"
   ]
  },
  {
   "cell_type": "code",
   "execution_count": 53,
   "id": "1f1bcb50",
   "metadata": {},
   "outputs": [],
   "source": [
    "#paises.reset_index(drop = False, inplace = True)"
   ]
  },
  {
   "cell_type": "code",
   "execution_count": 54,
   "id": "114aaf3e",
   "metadata": {},
   "outputs": [],
   "source": [
    "#paises.rename(columns = {'index' : 'salario'}, inplace = True)"
   ]
  },
  {
   "cell_type": "code",
   "execution_count": 55,
   "id": "742ae762",
   "metadata": {},
   "outputs": [
    {
     "data": {
      "text/html": [
       "<div>\n",
       "<style scoped>\n",
       "    .dataframe tbody tr th:only-of-type {\n",
       "        vertical-align: middle;\n",
       "    }\n",
       "\n",
       "    .dataframe tbody tr th {\n",
       "        vertical-align: top;\n",
       "    }\n",
       "\n",
       "    .dataframe thead th {\n",
       "        text-align: right;\n",
       "    }\n",
       "</style>\n",
       "<table border=\"1\" class=\"dataframe\">\n",
       "  <thead>\n",
       "    <tr style=\"text-align: right;\">\n",
       "      <th></th>\n",
       "      <th>work_year</th>\n",
       "      <th>experience_level</th>\n",
       "      <th>employment_type</th>\n",
       "      <th>job_title</th>\n",
       "      <th>salary_in_usd</th>\n",
       "      <th>remote_ratio</th>\n",
       "      <th>company_location</th>\n",
       "      <th>company_size</th>\n",
       "    </tr>\n",
       "  </thead>\n",
       "  <tbody>\n",
       "    <tr>\n",
       "      <th>0</th>\n",
       "      <td>2022</td>\n",
       "      <td>3</td>\n",
       "      <td>2</td>\n",
       "      <td>2</td>\n",
       "      <td>140250.0</td>\n",
       "      <td>100</td>\n",
       "      <td>48</td>\n",
       "      <td>3</td>\n",
       "    </tr>\n",
       "    <tr>\n",
       "      <th>1</th>\n",
       "      <td>2022</td>\n",
       "      <td>3</td>\n",
       "      <td>2</td>\n",
       "      <td>2</td>\n",
       "      <td>135000.0</td>\n",
       "      <td>100</td>\n",
       "      <td>48</td>\n",
       "      <td>3</td>\n",
       "    </tr>\n",
       "    <tr>\n",
       "      <th>2</th>\n",
       "      <td>2021</td>\n",
       "      <td>2</td>\n",
       "      <td>2</td>\n",
       "      <td>4</td>\n",
       "      <td>100000.0</td>\n",
       "      <td>100</td>\n",
       "      <td>48</td>\n",
       "      <td>3</td>\n",
       "    </tr>\n",
       "    <tr>\n",
       "      <th>3</th>\n",
       "      <td>2021</td>\n",
       "      <td>2</td>\n",
       "      <td>0</td>\n",
       "      <td>3</td>\n",
       "      <td>270000.0</td>\n",
       "      <td>100</td>\n",
       "      <td>48</td>\n",
       "      <td>2</td>\n",
       "    </tr>\n",
       "    <tr>\n",
       "      <th>4</th>\n",
       "      <td>2021</td>\n",
       "      <td>2</td>\n",
       "      <td>2</td>\n",
       "      <td>2</td>\n",
       "      <td>26005.0</td>\n",
       "      <td>0</td>\n",
       "      <td>48</td>\n",
       "      <td>2</td>\n",
       "    </tr>\n",
       "    <tr>\n",
       "      <th>...</th>\n",
       "      <td>...</td>\n",
       "      <td>...</td>\n",
       "      <td>...</td>\n",
       "      <td>...</td>\n",
       "      <td>...</td>\n",
       "      <td>...</td>\n",
       "      <td>...</td>\n",
       "      <td>...</td>\n",
       "    </tr>\n",
       "    <tr>\n",
       "      <th>602</th>\n",
       "      <td>2022</td>\n",
       "      <td>3</td>\n",
       "      <td>2</td>\n",
       "      <td>4</td>\n",
       "      <td>NaN</td>\n",
       "      <td>100</td>\n",
       "      <td>48</td>\n",
       "      <td>3</td>\n",
       "    </tr>\n",
       "    <tr>\n",
       "      <th>603</th>\n",
       "      <td>2022</td>\n",
       "      <td>3</td>\n",
       "      <td>2</td>\n",
       "      <td>1</td>\n",
       "      <td>NaN</td>\n",
       "      <td>100</td>\n",
       "      <td>48</td>\n",
       "      <td>3</td>\n",
       "    </tr>\n",
       "    <tr>\n",
       "      <th>604</th>\n",
       "      <td>2022</td>\n",
       "      <td>3</td>\n",
       "      <td>2</td>\n",
       "      <td>1</td>\n",
       "      <td>NaN</td>\n",
       "      <td>100</td>\n",
       "      <td>48</td>\n",
       "      <td>3</td>\n",
       "    </tr>\n",
       "    <tr>\n",
       "      <th>605</th>\n",
       "      <td>2022</td>\n",
       "      <td>1</td>\n",
       "      <td>2</td>\n",
       "      <td>4</td>\n",
       "      <td>NaN</td>\n",
       "      <td>0</td>\n",
       "      <td>6</td>\n",
       "      <td>3</td>\n",
       "    </tr>\n",
       "    <tr>\n",
       "      <th>606</th>\n",
       "      <td>2022</td>\n",
       "      <td>3</td>\n",
       "      <td>2</td>\n",
       "      <td>4</td>\n",
       "      <td>NaN</td>\n",
       "      <td>0</td>\n",
       "      <td>48</td>\n",
       "      <td>3</td>\n",
       "    </tr>\n",
       "  </tbody>\n",
       "</table>\n",
       "<p>607 rows × 8 columns</p>\n",
       "</div>"
      ],
      "text/plain": [
       "     work_year  experience_level  employment_type  job_title  salary_in_usd  \\\n",
       "0         2022                 3                2          2       140250.0   \n",
       "1         2022                 3                2          2       135000.0   \n",
       "2         2021                 2                2          4       100000.0   \n",
       "3         2021                 2                0          3       270000.0   \n",
       "4         2021                 2                2          2        26005.0   \n",
       "..         ...               ...              ...        ...            ...   \n",
       "602       2022                 3                2          4            NaN   \n",
       "603       2022                 3                2          1            NaN   \n",
       "604       2022                 3                2          1            NaN   \n",
       "605       2022                 1                2          4            NaN   \n",
       "606       2022                 3                2          4            NaN   \n",
       "\n",
       "     remote_ratio  company_location  company_size  \n",
       "0             100                48             3  \n",
       "1             100                48             3  \n",
       "2             100                48             3  \n",
       "3             100                48             2  \n",
       "4               0                48             2  \n",
       "..            ...               ...           ...  \n",
       "602           100                48             3  \n",
       "603           100                48             3  \n",
       "604           100                48             3  \n",
       "605             0                 6             3  \n",
       "606             0                48             3  \n",
       "\n",
       "[607 rows x 8 columns]"
      ]
     },
     "execution_count": 55,
     "metadata": {},
     "output_type": "execute_result"
    }
   ],
   "source": [
    "salaries_X"
   ]
  },
  {
   "cell_type": "code",
   "execution_count": 56,
   "id": "eeaac236",
   "metadata": {},
   "outputs": [],
   "source": [
    "def limpiar_sal(col):\n",
    "    if col < 31243:\n",
    "        return 1\n",
    "    elif col > 31243 and col < 71445:\n",
    "        return 2\n",
    "    elif col > 71445:\n",
    "        return 3"
   ]
  },
  {
   "cell_type": "code",
   "execution_count": 57,
   "id": "415fab3b",
   "metadata": {},
   "outputs": [
    {
     "data": {
      "text/plain": [
       "48    355\n",
       "18     47\n",
       "6      30\n",
       "12     28\n",
       "25     24\n",
       "17     15\n",
       "16     14\n",
       "19     11\n",
       "29      6\n",
       "41      4\n",
       "2       4\n",
       "40      4\n",
       "37      4\n",
       "39      3\n",
       "13      3\n",
       "3       3\n",
       "5       3\n",
       "0       3\n",
       "46      3\n",
       "31      3\n",
       "34      3\n",
       "7       2\n",
       "28      2\n",
       "11      2\n",
       "43      2\n",
       "4       2\n",
       "45      2\n",
       "36      2\n",
       "9       2\n",
       "33      1\n",
       "20      1\n",
       "24      1\n",
       "42      1\n",
       "44      1\n",
       "10      1\n",
       "26      1\n",
       "21      1\n",
       "38      1\n",
       "22      1\n",
       "27      1\n",
       "14      1\n",
       "15      1\n",
       "47      1\n",
       "8       1\n",
       "30      1\n",
       "49      1\n",
       "23      1\n",
       "1       1\n",
       "32      1\n",
       "35      1\n",
       "Name: company_location, dtype: int64"
      ]
     },
     "execution_count": 57,
     "metadata": {},
     "output_type": "execute_result"
    }
   ],
   "source": [
    "salaries_X.company_location.value_counts()"
   ]
  },
  {
   "cell_type": "code",
   "execution_count": 58,
   "id": "67c0a165",
   "metadata": {},
   "outputs": [],
   "source": [
    "#salaries_X.salary_in_usd = salaries_X.salary_in_usd.apply(limpiar_sal)"
   ]
  },
  {
   "cell_type": "code",
   "execution_count": 59,
   "id": "47c449b6",
   "metadata": {},
   "outputs": [],
   "source": [
    "#salaries_X.rename(columns = {'salary_in_usd' : 'company_location1'}, inplace = True)"
   ]
  },
  {
   "cell_type": "code",
   "execution_count": 60,
   "id": "0f72b3df",
   "metadata": {},
   "outputs": [
    {
     "data": {
      "text/html": [
       "<div>\n",
       "<style scoped>\n",
       "    .dataframe tbody tr th:only-of-type {\n",
       "        vertical-align: middle;\n",
       "    }\n",
       "\n",
       "    .dataframe tbody tr th {\n",
       "        vertical-align: top;\n",
       "    }\n",
       "\n",
       "    .dataframe thead th {\n",
       "        text-align: right;\n",
       "    }\n",
       "</style>\n",
       "<table border=\"1\" class=\"dataframe\">\n",
       "  <thead>\n",
       "    <tr style=\"text-align: right;\">\n",
       "      <th></th>\n",
       "      <th>work_year</th>\n",
       "      <th>experience_level</th>\n",
       "      <th>employment_type</th>\n",
       "      <th>job_title</th>\n",
       "      <th>salary_in_usd</th>\n",
       "      <th>remote_ratio</th>\n",
       "      <th>company_location</th>\n",
       "      <th>company_size</th>\n",
       "    </tr>\n",
       "  </thead>\n",
       "  <tbody>\n",
       "    <tr>\n",
       "      <th>0</th>\n",
       "      <td>2022</td>\n",
       "      <td>3</td>\n",
       "      <td>2</td>\n",
       "      <td>2</td>\n",
       "      <td>140250.0</td>\n",
       "      <td>100</td>\n",
       "      <td>48</td>\n",
       "      <td>3</td>\n",
       "    </tr>\n",
       "    <tr>\n",
       "      <th>1</th>\n",
       "      <td>2022</td>\n",
       "      <td>3</td>\n",
       "      <td>2</td>\n",
       "      <td>2</td>\n",
       "      <td>135000.0</td>\n",
       "      <td>100</td>\n",
       "      <td>48</td>\n",
       "      <td>3</td>\n",
       "    </tr>\n",
       "    <tr>\n",
       "      <th>2</th>\n",
       "      <td>2021</td>\n",
       "      <td>2</td>\n",
       "      <td>2</td>\n",
       "      <td>4</td>\n",
       "      <td>100000.0</td>\n",
       "      <td>100</td>\n",
       "      <td>48</td>\n",
       "      <td>3</td>\n",
       "    </tr>\n",
       "    <tr>\n",
       "      <th>3</th>\n",
       "      <td>2021</td>\n",
       "      <td>2</td>\n",
       "      <td>0</td>\n",
       "      <td>3</td>\n",
       "      <td>270000.0</td>\n",
       "      <td>100</td>\n",
       "      <td>48</td>\n",
       "      <td>2</td>\n",
       "    </tr>\n",
       "    <tr>\n",
       "      <th>4</th>\n",
       "      <td>2021</td>\n",
       "      <td>2</td>\n",
       "      <td>2</td>\n",
       "      <td>2</td>\n",
       "      <td>26005.0</td>\n",
       "      <td>0</td>\n",
       "      <td>48</td>\n",
       "      <td>2</td>\n",
       "    </tr>\n",
       "    <tr>\n",
       "      <th>...</th>\n",
       "      <td>...</td>\n",
       "      <td>...</td>\n",
       "      <td>...</td>\n",
       "      <td>...</td>\n",
       "      <td>...</td>\n",
       "      <td>...</td>\n",
       "      <td>...</td>\n",
       "      <td>...</td>\n",
       "    </tr>\n",
       "    <tr>\n",
       "      <th>602</th>\n",
       "      <td>2022</td>\n",
       "      <td>3</td>\n",
       "      <td>2</td>\n",
       "      <td>4</td>\n",
       "      <td>NaN</td>\n",
       "      <td>100</td>\n",
       "      <td>48</td>\n",
       "      <td>3</td>\n",
       "    </tr>\n",
       "    <tr>\n",
       "      <th>603</th>\n",
       "      <td>2022</td>\n",
       "      <td>3</td>\n",
       "      <td>2</td>\n",
       "      <td>1</td>\n",
       "      <td>NaN</td>\n",
       "      <td>100</td>\n",
       "      <td>48</td>\n",
       "      <td>3</td>\n",
       "    </tr>\n",
       "    <tr>\n",
       "      <th>604</th>\n",
       "      <td>2022</td>\n",
       "      <td>3</td>\n",
       "      <td>2</td>\n",
       "      <td>1</td>\n",
       "      <td>NaN</td>\n",
       "      <td>100</td>\n",
       "      <td>48</td>\n",
       "      <td>3</td>\n",
       "    </tr>\n",
       "    <tr>\n",
       "      <th>605</th>\n",
       "      <td>2022</td>\n",
       "      <td>1</td>\n",
       "      <td>2</td>\n",
       "      <td>4</td>\n",
       "      <td>NaN</td>\n",
       "      <td>0</td>\n",
       "      <td>6</td>\n",
       "      <td>3</td>\n",
       "    </tr>\n",
       "    <tr>\n",
       "      <th>606</th>\n",
       "      <td>2022</td>\n",
       "      <td>3</td>\n",
       "      <td>2</td>\n",
       "      <td>4</td>\n",
       "      <td>NaN</td>\n",
       "      <td>0</td>\n",
       "      <td>48</td>\n",
       "      <td>3</td>\n",
       "    </tr>\n",
       "  </tbody>\n",
       "</table>\n",
       "<p>607 rows × 8 columns</p>\n",
       "</div>"
      ],
      "text/plain": [
       "     work_year  experience_level  employment_type  job_title  salary_in_usd  \\\n",
       "0         2022                 3                2          2       140250.0   \n",
       "1         2022                 3                2          2       135000.0   \n",
       "2         2021                 2                2          4       100000.0   \n",
       "3         2021                 2                0          3       270000.0   \n",
       "4         2021                 2                2          2        26005.0   \n",
       "..         ...               ...              ...        ...            ...   \n",
       "602       2022                 3                2          4            NaN   \n",
       "603       2022                 3                2          1            NaN   \n",
       "604       2022                 3                2          1            NaN   \n",
       "605       2022                 1                2          4            NaN   \n",
       "606       2022                 3                2          4            NaN   \n",
       "\n",
       "     remote_ratio  company_location  company_size  \n",
       "0             100                48             3  \n",
       "1             100                48             3  \n",
       "2             100                48             3  \n",
       "3             100                48             2  \n",
       "4               0                48             2  \n",
       "..            ...               ...           ...  \n",
       "602           100                48             3  \n",
       "603           100                48             3  \n",
       "604           100                48             3  \n",
       "605             0                 6             3  \n",
       "606             0                48             3  \n",
       "\n",
       "[607 rows x 8 columns]"
      ]
     },
     "execution_count": 60,
     "metadata": {},
     "output_type": "execute_result"
    }
   ],
   "source": [
    "salaries_X"
   ]
  },
  {
   "cell_type": "code",
   "execution_count": 61,
   "id": "d2da8c55",
   "metadata": {},
   "outputs": [],
   "source": [
    "#salaries_X.drop('company_location', axis = 1, inplace = True)"
   ]
  },
  {
   "cell_type": "code",
   "execution_count": 62,
   "id": "9af6dddf",
   "metadata": {},
   "outputs": [],
   "source": [
    "#salaries_X.rename(columns = {'average_salary_location' : 'company_location'}, inplace = True)"
   ]
  },
  {
   "cell_type": "code",
   "execution_count": 63,
   "id": "b8e30dd0",
   "metadata": {},
   "outputs": [],
   "source": [
    "cols = ['work_year', 'experience_level', 'employment_type', 'job_title',\n",
    "       'remote_ratio', 'company_size', 'company_location']"
   ]
  },
  {
   "cell_type": "code",
   "execution_count": 64,
   "id": "c4701ba6",
   "metadata": {},
   "outputs": [],
   "source": [
    "#normalizamos el dataframe\n"
   ]
  },
  {
   "cell_type": "code",
   "execution_count": 81,
   "id": "9ba031d5",
   "metadata": {},
   "outputs": [],
   "source": [
    "salaries_X.drop('salary_in_usd', axis = 1, inplace = True)"
   ]
  },
  {
   "cell_type": "code",
   "execution_count": 82,
   "id": "c242ecda",
   "metadata": {},
   "outputs": [],
   "source": [
    "scaler=StandardScaler()"
   ]
  },
  {
   "cell_type": "code",
   "execution_count": 83,
   "id": "5245004c",
   "metadata": {},
   "outputs": [],
   "source": [
    "salaries_X[cols] = scaler.fit_transform(salaries_X[cols])"
   ]
  },
  {
   "cell_type": "code",
   "execution_count": 68,
   "id": "992d749f",
   "metadata": {},
   "outputs": [],
   "source": [
    "#separamos testeo"
   ]
  },
  {
   "cell_type": "code",
   "execution_count": 84,
   "id": "8402dae7",
   "metadata": {},
   "outputs": [],
   "source": [
    "X = salaries_X[0:500]"
   ]
  },
  {
   "cell_type": "code",
   "execution_count": 85,
   "id": "d64fe07d",
   "metadata": {},
   "outputs": [],
   "source": [
    "testeo = salaries_X[500:]"
   ]
  },
  {
   "cell_type": "code",
   "execution_count": 86,
   "id": "dd22ab0d",
   "metadata": {},
   "outputs": [],
   "source": [
    "testeo.reset_index(drop = True, inplace = True)"
   ]
  },
  {
   "cell_type": "code",
   "execution_count": 87,
   "id": "6a0ef6fe",
   "metadata": {},
   "outputs": [
    {
     "data": {
      "text/html": [
       "<div>\n",
       "<style scoped>\n",
       "    .dataframe tbody tr th:only-of-type {\n",
       "        vertical-align: middle;\n",
       "    }\n",
       "\n",
       "    .dataframe tbody tr th {\n",
       "        vertical-align: top;\n",
       "    }\n",
       "\n",
       "    .dataframe thead th {\n",
       "        text-align: right;\n",
       "    }\n",
       "</style>\n",
       "<table border=\"1\" class=\"dataframe\">\n",
       "  <thead>\n",
       "    <tr style=\"text-align: right;\">\n",
       "      <th></th>\n",
       "      <th>work_year</th>\n",
       "      <th>experience_level</th>\n",
       "      <th>employment_type</th>\n",
       "      <th>job_title</th>\n",
       "      <th>remote_ratio</th>\n",
       "      <th>company_location</th>\n",
       "      <th>company_size</th>\n",
       "    </tr>\n",
       "  </thead>\n",
       "  <tbody>\n",
       "    <tr>\n",
       "      <th>0</th>\n",
       "      <td>-2.032024</td>\n",
       "      <td>0.761946</td>\n",
       "      <td>0.027854</td>\n",
       "      <td>0.726867</td>\n",
       "      <td>-1.743615</td>\n",
       "      <td>-0.429997</td>\n",
       "      <td>-1.954080</td>\n",
       "    </tr>\n",
       "    <tr>\n",
       "      <th>1</th>\n",
       "      <td>-2.032024</td>\n",
       "      <td>-0.512162</td>\n",
       "      <td>0.027854</td>\n",
       "      <td>1.597100</td>\n",
       "      <td>0.714862</td>\n",
       "      <td>0.756121</td>\n",
       "      <td>-0.558637</td>\n",
       "    </tr>\n",
       "    <tr>\n",
       "      <th>2</th>\n",
       "      <td>-2.032024</td>\n",
       "      <td>-0.512162</td>\n",
       "      <td>0.027854</td>\n",
       "      <td>1.597100</td>\n",
       "      <td>0.714862</td>\n",
       "      <td>0.756121</td>\n",
       "      <td>-0.558637</td>\n",
       "    </tr>\n",
       "    <tr>\n",
       "      <th>3</th>\n",
       "      <td>-2.032024</td>\n",
       "      <td>-0.512162</td>\n",
       "      <td>0.027854</td>\n",
       "      <td>0.726867</td>\n",
       "      <td>-1.743615</td>\n",
       "      <td>-1.678542</td>\n",
       "      <td>0.836806</td>\n",
       "    </tr>\n",
       "    <tr>\n",
       "      <th>4</th>\n",
       "      <td>-2.032024</td>\n",
       "      <td>-0.512162</td>\n",
       "      <td>0.027854</td>\n",
       "      <td>1.597100</td>\n",
       "      <td>0.714862</td>\n",
       "      <td>-0.679706</td>\n",
       "      <td>-0.558637</td>\n",
       "    </tr>\n",
       "    <tr>\n",
       "      <th>...</th>\n",
       "      <td>...</td>\n",
       "      <td>...</td>\n",
       "      <td>...</td>\n",
       "      <td>...</td>\n",
       "      <td>...</td>\n",
       "      <td>...</td>\n",
       "      <td>...</td>\n",
       "    </tr>\n",
       "    <tr>\n",
       "      <th>102</th>\n",
       "      <td>0.859977</td>\n",
       "      <td>0.761946</td>\n",
       "      <td>0.027854</td>\n",
       "      <td>1.597100</td>\n",
       "      <td>0.714862</td>\n",
       "      <td>0.756121</td>\n",
       "      <td>0.836806</td>\n",
       "    </tr>\n",
       "    <tr>\n",
       "      <th>103</th>\n",
       "      <td>0.859977</td>\n",
       "      <td>0.761946</td>\n",
       "      <td>0.027854</td>\n",
       "      <td>-1.013599</td>\n",
       "      <td>0.714862</td>\n",
       "      <td>0.756121</td>\n",
       "      <td>0.836806</td>\n",
       "    </tr>\n",
       "    <tr>\n",
       "      <th>104</th>\n",
       "      <td>0.859977</td>\n",
       "      <td>0.761946</td>\n",
       "      <td>0.027854</td>\n",
       "      <td>-1.013599</td>\n",
       "      <td>0.714862</td>\n",
       "      <td>0.756121</td>\n",
       "      <td>0.836806</td>\n",
       "    </tr>\n",
       "    <tr>\n",
       "      <th>105</th>\n",
       "      <td>0.859977</td>\n",
       "      <td>-1.786271</td>\n",
       "      <td>0.027854</td>\n",
       "      <td>1.597100</td>\n",
       "      <td>-1.743615</td>\n",
       "      <td>-1.865824</td>\n",
       "      <td>0.836806</td>\n",
       "    </tr>\n",
       "    <tr>\n",
       "      <th>106</th>\n",
       "      <td>0.859977</td>\n",
       "      <td>0.761946</td>\n",
       "      <td>0.027854</td>\n",
       "      <td>1.597100</td>\n",
       "      <td>-1.743615</td>\n",
       "      <td>0.756121</td>\n",
       "      <td>0.836806</td>\n",
       "    </tr>\n",
       "  </tbody>\n",
       "</table>\n",
       "<p>107 rows × 7 columns</p>\n",
       "</div>"
      ],
      "text/plain": [
       "     work_year  experience_level  employment_type  job_title  remote_ratio  \\\n",
       "0    -2.032024          0.761946         0.027854   0.726867     -1.743615   \n",
       "1    -2.032024         -0.512162         0.027854   1.597100      0.714862   \n",
       "2    -2.032024         -0.512162         0.027854   1.597100      0.714862   \n",
       "3    -2.032024         -0.512162         0.027854   0.726867     -1.743615   \n",
       "4    -2.032024         -0.512162         0.027854   1.597100      0.714862   \n",
       "..         ...               ...              ...        ...           ...   \n",
       "102   0.859977          0.761946         0.027854   1.597100      0.714862   \n",
       "103   0.859977          0.761946         0.027854  -1.013599      0.714862   \n",
       "104   0.859977          0.761946         0.027854  -1.013599      0.714862   \n",
       "105   0.859977         -1.786271         0.027854   1.597100     -1.743615   \n",
       "106   0.859977          0.761946         0.027854   1.597100     -1.743615   \n",
       "\n",
       "     company_location  company_size  \n",
       "0           -0.429997     -1.954080  \n",
       "1            0.756121     -0.558637  \n",
       "2            0.756121     -0.558637  \n",
       "3           -1.678542      0.836806  \n",
       "4           -0.679706     -0.558637  \n",
       "..                ...           ...  \n",
       "102          0.756121      0.836806  \n",
       "103          0.756121      0.836806  \n",
       "104          0.756121      0.836806  \n",
       "105         -1.865824      0.836806  \n",
       "106          0.756121      0.836806  \n",
       "\n",
       "[107 rows x 7 columns]"
      ]
     },
     "execution_count": 87,
     "metadata": {},
     "output_type": "execute_result"
    }
   ],
   "source": [
    "testeo"
   ]
  },
  {
   "cell_type": "markdown",
   "id": "5c0a688a",
   "metadata": {},
   "source": [
    "**PREDICCIONES**"
   ]
  },
  {
   "cell_type": "code",
   "execution_count": 99,
   "id": "d9dd2dee",
   "metadata": {},
   "outputs": [],
   "source": [
    "import pandas as pd\n",
    "from sklearn.preprocessing import LabelEncoder, OrdinalEncoder\n",
    "from sklearn.preprocessing import StandardScaler\n",
    "from sklearn.model_selection import train_test_split as tts   \n",
    "import pylab as plt\n",
    "import seaborn as sns\n",
    "import numpy as np\n",
    "#modelos: regresiones y clasificación\n",
    "#regresion lineal y regresiones\n",
    "#lineal\n",
    "from sklearn.linear_model import LinearRegression as LinReg\n",
    "from sklearn.linear_model import Lasso        \n",
    "from sklearn.linear_model import Ridge        \n",
    "from sklearn.linear_model import ElasticNet   \n",
    "# support vector regressor\n",
    "from sklearn.svm import SVR  # support vector regressor\n",
    "#random forest\n",
    "from sklearn.ensemble import RandomForestRegressor as RFR  \n",
    "from sklearn.tree import ExtraTreeRegressor as ETR\n",
    "#boosting\n",
    "from sklearn.ensemble import GradientBoostingRegressor as GBR\n",
    "from xgboost import XGBRegressor as XGBR\n",
    "from catboost import CatBoostRegressor as CTR\n",
    "#from lightgbm import LGBMRegressor as LGBMR\n",
    "#clasificacion\n",
    "from sklearn.linear_model import LogisticRegression\n",
    "#clasificacion multi-etiqueta\n",
    "from sklearn.linear_model import LogisticRegression\n",
    "import warnings\n",
    "warnings.filterwarnings('ignore')\n",
    "from sklearn.metrics import mean_squared_error as mse  # error cuadratico medio"
   ]
  },
  {
   "cell_type": "code",
   "execution_count": 105,
   "id": "a21ca0f5",
   "metadata": {},
   "outputs": [
    {
     "data": {
      "text/plain": [
       "((400, 7), (100, 7), (400,), (100,))"
      ]
     },
     "execution_count": 105,
     "metadata": {},
     "output_type": "execute_result"
    }
   ],
   "source": [
    "#DIVISIONES \n",
    "\n",
    "X_train, X_test, y_train, y_test = tts(X, y, train_size=0.8, test_size=0.2, random_state=22)\n",
    "\n",
    "X_train.shape, X_test.shape, y_train.shape, y_test.shape"
   ]
  },
  {
   "cell_type": "code",
   "execution_count": 109,
   "id": "9ba8458f",
   "metadata": {},
   "outputs": [
    {
     "data": {
      "text/html": [
       "<div>\n",
       "<style scoped>\n",
       "    .dataframe tbody tr th:only-of-type {\n",
       "        vertical-align: middle;\n",
       "    }\n",
       "\n",
       "    .dataframe tbody tr th {\n",
       "        vertical-align: top;\n",
       "    }\n",
       "\n",
       "    .dataframe thead th {\n",
       "        text-align: right;\n",
       "    }\n",
       "</style>\n",
       "<table border=\"1\" class=\"dataframe\">\n",
       "  <thead>\n",
       "    <tr style=\"text-align: right;\">\n",
       "      <th></th>\n",
       "      <th>work_year</th>\n",
       "      <th>experience_level</th>\n",
       "      <th>employment_type</th>\n",
       "      <th>job_title</th>\n",
       "      <th>remote_ratio</th>\n",
       "      <th>company_location</th>\n",
       "      <th>company_size</th>\n",
       "    </tr>\n",
       "  </thead>\n",
       "  <tbody>\n",
       "    <tr>\n",
       "      <th>94</th>\n",
       "      <td>0.859977</td>\n",
       "      <td>0.761946</td>\n",
       "      <td>0.027854</td>\n",
       "      <td>-0.143366</td>\n",
       "      <td>-1.743615</td>\n",
       "      <td>0.756121</td>\n",
       "      <td>0.836806</td>\n",
       "    </tr>\n",
       "    <tr>\n",
       "      <th>350</th>\n",
       "      <td>-2.032024</td>\n",
       "      <td>-1.786271</td>\n",
       "      <td>0.027854</td>\n",
       "      <td>1.597100</td>\n",
       "      <td>0.714862</td>\n",
       "      <td>0.006993</td>\n",
       "      <td>-1.954080</td>\n",
       "    </tr>\n",
       "    <tr>\n",
       "      <th>288</th>\n",
       "      <td>-0.586023</td>\n",
       "      <td>2.036055</td>\n",
       "      <td>-8.425971</td>\n",
       "      <td>-1.013599</td>\n",
       "      <td>0.714862</td>\n",
       "      <td>0.756121</td>\n",
       "      <td>-1.954080</td>\n",
       "    </tr>\n",
       "    <tr>\n",
       "      <th>420</th>\n",
       "      <td>-0.586023</td>\n",
       "      <td>2.036055</td>\n",
       "      <td>0.027854</td>\n",
       "      <td>-1.013599</td>\n",
       "      <td>-0.514377</td>\n",
       "      <td>-1.491261</td>\n",
       "      <td>0.836806</td>\n",
       "    </tr>\n",
       "    <tr>\n",
       "      <th>163</th>\n",
       "      <td>-2.032024</td>\n",
       "      <td>-1.786271</td>\n",
       "      <td>0.027854</td>\n",
       "      <td>-1.013599</td>\n",
       "      <td>-0.514377</td>\n",
       "      <td>-0.679706</td>\n",
       "      <td>0.836806</td>\n",
       "    </tr>\n",
       "    <tr>\n",
       "      <th>...</th>\n",
       "      <td>...</td>\n",
       "      <td>...</td>\n",
       "      <td>...</td>\n",
       "      <td>...</td>\n",
       "      <td>...</td>\n",
       "      <td>...</td>\n",
       "      <td>...</td>\n",
       "    </tr>\n",
       "    <tr>\n",
       "      <th>356</th>\n",
       "      <td>-0.586023</td>\n",
       "      <td>-0.512162</td>\n",
       "      <td>0.027854</td>\n",
       "      <td>-1.013599</td>\n",
       "      <td>-0.514377</td>\n",
       "      <td>-1.179124</td>\n",
       "      <td>0.836806</td>\n",
       "    </tr>\n",
       "    <tr>\n",
       "      <th>448</th>\n",
       "      <td>-2.032024</td>\n",
       "      <td>-0.512162</td>\n",
       "      <td>0.027854</td>\n",
       "      <td>-0.143366</td>\n",
       "      <td>-0.514377</td>\n",
       "      <td>-1.116697</td>\n",
       "      <td>-0.558637</td>\n",
       "    </tr>\n",
       "    <tr>\n",
       "      <th>300</th>\n",
       "      <td>0.859977</td>\n",
       "      <td>0.761946</td>\n",
       "      <td>0.027854</td>\n",
       "      <td>-0.143366</td>\n",
       "      <td>-1.743615</td>\n",
       "      <td>-1.116697</td>\n",
       "      <td>0.836806</td>\n",
       "    </tr>\n",
       "    <tr>\n",
       "      <th>132</th>\n",
       "      <td>-0.586023</td>\n",
       "      <td>-0.512162</td>\n",
       "      <td>0.027854</td>\n",
       "      <td>-1.013599</td>\n",
       "      <td>-0.514377</td>\n",
       "      <td>0.756121</td>\n",
       "      <td>-0.558637</td>\n",
       "    </tr>\n",
       "    <tr>\n",
       "      <th>373</th>\n",
       "      <td>-0.586023</td>\n",
       "      <td>-1.786271</td>\n",
       "      <td>0.027854</td>\n",
       "      <td>1.597100</td>\n",
       "      <td>0.714862</td>\n",
       "      <td>-0.305143</td>\n",
       "      <td>-0.558637</td>\n",
       "    </tr>\n",
       "  </tbody>\n",
       "</table>\n",
       "<p>400 rows × 7 columns</p>\n",
       "</div>"
      ],
      "text/plain": [
       "     work_year  experience_level  employment_type  job_title  remote_ratio  \\\n",
       "94    0.859977          0.761946         0.027854  -0.143366     -1.743615   \n",
       "350  -2.032024         -1.786271         0.027854   1.597100      0.714862   \n",
       "288  -0.586023          2.036055        -8.425971  -1.013599      0.714862   \n",
       "420  -0.586023          2.036055         0.027854  -1.013599     -0.514377   \n",
       "163  -2.032024         -1.786271         0.027854  -1.013599     -0.514377   \n",
       "..         ...               ...              ...        ...           ...   \n",
       "356  -0.586023         -0.512162         0.027854  -1.013599     -0.514377   \n",
       "448  -2.032024         -0.512162         0.027854  -0.143366     -0.514377   \n",
       "300   0.859977          0.761946         0.027854  -0.143366     -1.743615   \n",
       "132  -0.586023         -0.512162         0.027854  -1.013599     -0.514377   \n",
       "373  -0.586023         -1.786271         0.027854   1.597100      0.714862   \n",
       "\n",
       "     company_location  company_size  \n",
       "94           0.756121      0.836806  \n",
       "350          0.006993     -1.954080  \n",
       "288          0.756121     -1.954080  \n",
       "420         -1.491261      0.836806  \n",
       "163         -0.679706      0.836806  \n",
       "..                ...           ...  \n",
       "356         -1.179124      0.836806  \n",
       "448         -1.116697     -0.558637  \n",
       "300         -1.116697      0.836806  \n",
       "132          0.756121     -0.558637  \n",
       "373         -0.305143     -0.558637  \n",
       "\n",
       "[400 rows x 7 columns]"
      ]
     },
     "execution_count": 109,
     "metadata": {},
     "output_type": "execute_result"
    }
   ],
   "source": []
  },
  {
   "cell_type": "markdown",
   "id": "e4545cf0",
   "metadata": {},
   "source": [
    "-- RFR --"
   ]
  },
  {
   "cell_type": "code",
   "execution_count": 125,
   "id": "e8a0a249",
   "metadata": {},
   "outputs": [],
   "source": [
    "def predecir(x_train, x_test, y_train, y_test):\n",
    "    #inicializamos todos los modelos que vamos a probar\n",
    "    svr=SVR()\n",
    "    rfr=RFR()\n",
    "    etr=ETR()\n",
    "    gbr=GBR()\n",
    "    xgbr=XGBR()\n",
    "    ctr=CTR()\n",
    "    linreg=LinReg()\n",
    "    lasso=Lasso()\n",
    "    ridge=Ridge()\n",
    "    elastic=ElasticNet()\n",
    "    #los entrenamos\n",
    "    svr.fit(x_train, y_train)\n",
    "    rfr.fit(x_train, y_train)\n",
    "    etr.fit(x_train, y_train)\n",
    "    gbr.fit(x_train, y_train)\n",
    "    xgbr.fit(x_train, y_train)\n",
    "    ctr.fit(x_train, y_train, verbose=0)\n",
    "    linreg.fit(x_train, y_train)\n",
    "    lasso.fit(x_train, y_train)\n",
    "    ridge.fit(x_train, y_train)\n",
    "    elastic.fit(x_train, y_train)\n",
    "    #predecimos\n",
    "    y_pred1 = svr.predict(x_test)\n",
    "    y_pred2 = rfr.predict(x_test)\n",
    "    y_pred3 = etr.predict(x_test)\n",
    "    y_pred4 = gbr.predict(x_test)\n",
    "    y_pred5 = xgbr.predict(x_test)\n",
    "    y_pred6 = ctr.predict(x_test)\n",
    "    y_pred7 = linreg.predict(x_test)\n",
    "    y_pred8 = lasso.predict(x_test)\n",
    "    y_pred9 = ridge.predict(x_test)\n",
    "    y_pred10 = elastic.predict(x_test)\n",
    "    #calculamos error cuadrático medio (mse)\n",
    "    mse1 = mse(y_test, y_pred1, squared=False)\n",
    "    mse2 = mse(y_test, y_pred2, squared=False)\n",
    "    mse3 = mse(y_test, y_pred3, squared=False)\n",
    "    mse4 = mse(y_test, y_pred4, squared=False)\n",
    "    mse5 = mse(y_test, y_pred5, squared=False)\n",
    "    mse6 = mse(y_test, y_pred6, squared=False)\n",
    "    mse7 = mse(y_test, y_pred7, squared=False)\n",
    "    mse8 = mse(y_test, y_pred8, squared=False)\n",
    "    mse9 = mse(y_test, y_pred9, squared=False)\n",
    "    mse10 = mse(y_test, y_pred10, squared=False)\n",
    "    #creamos una lista con todos los mse\n",
    "    temp = [mse1, mse2, mse3, mse4, mse5, mse6, mse7, mse8, mse9, mse10]\n",
    "    #pedimos a la función que nos devuelva el valor más bajo de mse   \n",
    "    minimo = min(temp)\n",
    "    #le ponemos un mensajito para que quede más mono\n",
    "    if minimo == mse1:\n",
    "        return f'El mejor modelo es SVR con un mse de {mse1}'\n",
    "    elif minimo == mse2:\n",
    "        return f'El mejor modelo es RFR con un mse de {mse2}'\n",
    "    elif minimo == mse3:\n",
    "        return f'El mejor modelo es ETR con un mse de {mse3}'\n",
    "    elif minimo == mse4:\n",
    "        return f'El mejor modelo es GBR con un mse de {mse4}'\n",
    "    elif minimo == mse5:\n",
    "        return f'El mejor modelo es XGBR con un mse de {mse5}'\n",
    "    elif minimo == mse6:\n",
    "        return f'El mejor modelo es CTR con un mse de {mse6}'\n",
    "    elif minimo == mse7:\n",
    "        return f'El mejor modelo es LINREG con un mse de {mse7}'\n",
    "    elif minimo == mse8:\n",
    "        return f'El mejor modelo es LASSO con un mse de {mse8}'\n",
    "    elif minimo == mse9:\n",
    "        return f'El mejor modelo es RIDGE con un mse de {mse9}'\n",
    "    elif minimo == mse10:\n",
    "        return f'El mejor modelo es ELASTIC con un mse de {mse10}'"
   ]
  },
  {
   "cell_type": "code",
   "execution_count": null,
   "id": "1e511f0b",
   "metadata": {},
   "outputs": [],
   "source": []
  },
  {
   "cell_type": "code",
   "execution_count": 127,
   "id": "db4e6e36",
   "metadata": {},
   "outputs": [
    {
     "data": {
      "text/plain": [
       "'El mejor modelo es RFR con un mse de 41021.14158908165'"
      ]
     },
     "execution_count": 127,
     "metadata": {},
     "output_type": "execute_result"
    }
   ],
   "source": [
    "predecir(X_train, X_test, y_train, y_test)"
   ]
  },
  {
   "cell_type": "code",
   "execution_count": 115,
   "id": "47c483b7",
   "metadata": {},
   "outputs": [
    {
     "data": {
      "text/plain": [
       "(100, 7)"
      ]
     },
     "execution_count": 115,
     "metadata": {},
     "output_type": "execute_result"
    }
   ],
   "source": [
    "X_test.shape"
   ]
  },
  {
   "cell_type": "code",
   "execution_count": 89,
   "id": "85d2c905",
   "metadata": {},
   "outputs": [],
   "source": [
    "from sklearn.ensemble import RandomForestRegressor as RFR  "
   ]
  },
  {
   "cell_type": "code",
   "execution_count": 90,
   "id": "ee788501",
   "metadata": {},
   "outputs": [],
   "source": [
    "rfr=RFR()"
   ]
  },
  {
   "cell_type": "code",
   "execution_count": 91,
   "id": "80305a36",
   "metadata": {},
   "outputs": [
    {
     "data": {
      "text/plain": [
       "RandomForestRegressor()"
      ]
     },
     "execution_count": 91,
     "metadata": {},
     "output_type": "execute_result"
    }
   ],
   "source": [
    "rfr.fit(X_train, y_train)"
   ]
  },
  {
   "cell_type": "code",
   "execution_count": 92,
   "id": "7c306c04",
   "metadata": {},
   "outputs": [],
   "source": [
    "y_pred = rfr.predict(X_test)"
   ]
  },
  {
   "cell_type": "code",
   "execution_count": 93,
   "id": "9f2d2f28",
   "metadata": {},
   "outputs": [],
   "source": [
    "from sklearn.metrics import mean_squared_error as mse   "
   ]
  },
  {
   "cell_type": "code",
   "execution_count": 94,
   "id": "b347c674",
   "metadata": {},
   "outputs": [
    {
     "data": {
      "text/plain": [
       "41702.07584176582"
      ]
     },
     "execution_count": 94,
     "metadata": {},
     "output_type": "execute_result"
    }
   ],
   "source": [
    "mse(y_test, y_pred, squared = False)"
   ]
  },
  {
   "cell_type": "code",
   "execution_count": null,
   "id": "e839e17e",
   "metadata": {},
   "outputs": [],
   "source": [
    "y_pred "
   ]
  },
  {
   "cell_type": "code",
   "execution_count": null,
   "id": "b877057b",
   "metadata": {},
   "outputs": [],
   "source": [
    "prueba = pd.DataFrame(y_pred, columns = ['salary_in_usd'])"
   ]
  },
  {
   "cell_type": "code",
   "execution_count": null,
   "id": "c9ead66a",
   "metadata": {},
   "outputs": [],
   "source": [
    "prueba.to_csv('../data/prueba5.csv', index_label = 'ID')"
   ]
  },
  {
   "cell_type": "code",
   "execution_count": null,
   "id": "0888f2d8",
   "metadata": {},
   "outputs": [],
   "source": [
    "#modelos\n",
    "#regresion lineal y regresiones\n",
    "#lineal\n",
    "from sklearn.linear_model import LinearRegression as LinReg\n",
    "from sklearn.linear_model import Lasso        \n",
    "from sklearn.linear_model import Ridge        \n",
    "from sklearn.linear_model import ElasticNet   \n",
    "linreg=LinReg()\n",
    "lasso=Lasso()\n",
    "ridge=Ridge()\n",
    "elastic=ElasticNet()\n",
    "\n",
    "# support vector regressor\n",
    "from sklearn.svm import SVR  # support vector regressor\n",
    "svr=SVR()\n",
    "\n",
    "#random forest\n",
    "from sklearn.ensemble import RandomForestRegressor as RFR  \n",
    "from sklearn.tree import ExtraTreeRegressor as ETR\n",
    "rfr=RFR()\n",
    "etr=ETR()\n",
    "\n",
    "#boosting\n",
    "from sklearn.ensemble import GradientBoostingRegressor as GBR\n",
    "from xgboost import XGBRegressor as XGBR\n",
    "from catboost import CatBoostRegressor as CTR\n",
    "from lightgbm import LGBMRegressor as LGBMR\n",
    "gbr=GBR()\n",
    "xgbr=XGBR()\n",
    "ctr=CTR()\n",
    "lgbmr=LGBMR()\n",
    "\n",
    "#clasificacion\n",
    "from sklearn.linear_model import LogisticRegression\n",
    "\n",
    "#clasificacion multi-etiqueta\n",
    "from sklearn.linear_model import LogisticRegression\n",
    "\n"
   ]
  }
 ],
 "metadata": {
  "kernelspec": {
   "display_name": "Python 3 (ipykernel)",
   "language": "python",
   "name": "python3"
  },
  "language_info": {
   "codemirror_mode": {
    "name": "ipython",
    "version": 3
   },
   "file_extension": ".py",
   "mimetype": "text/x-python",
   "name": "python",
   "nbconvert_exporter": "python",
   "pygments_lexer": "ipython3",
   "version": "3.9.12"
  }
 },
 "nbformat": 4,
 "nbformat_minor": 5
}
