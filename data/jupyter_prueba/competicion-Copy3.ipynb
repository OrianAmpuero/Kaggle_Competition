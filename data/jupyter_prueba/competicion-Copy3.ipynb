{
 "cells": [
  {
   "cell_type": "markdown",
   "id": "ed82ed7c",
   "metadata": {},
   "source": [
    "# Voy a intentar normalizar work year y remote ratio e intentar hacer label encoder en las demas a ver que sale"
   ]
  },
  {
   "cell_type": "code",
   "execution_count": null,
   "id": "152b5c59",
   "metadata": {},
   "outputs": [],
   "source": [
    "import pandas as pd\n",
    "import pylab as plt\n",
    "import seaborn as sns\n",
    "import numpy as np"
   ]
  },
  {
   "cell_type": "code",
   "execution_count": null,
   "id": "1869fb92",
   "metadata": {},
   "outputs": [],
   "source": [
    "from sklearn.model_selection import train_test_split as tts   \n",
    "from sklearn.metrics import mean_squared_error as mse   \n",
    "from sklearn.svm import SVR\n",
    "from sklearn.ensemble import RandomForestRegressor as RFR  \n",
    "from sklearn.tree import ExtraTreeRegressor as ETR\n",
    "from sklearn.ensemble import GradientBoostingRegressor as GBR\n",
    "from xgboost import XGBRegressor as XGBR\n",
    "from catboost import CatBoostRegressor as CTR\n",
    "from sklearn.linear_model import LinearRegression as LinReg\n",
    "from sklearn.linear_model import Lasso    \n",
    "from sklearn.linear_model import Ridge\n",
    "from sklearn.linear_model import ElasticNet \n"
   ]
  },
  {
   "cell_type": "code",
   "execution_count": null,
   "id": "fceed9e8",
   "metadata": {},
   "outputs": [],
   "source": [
    "muestra=pd.read_csv('../data/muestra.csv')\n"
   ]
  },
  {
   "cell_type": "code",
   "execution_count": null,
   "id": "8a5190d9",
   "metadata": {},
   "outputs": [],
   "source": [
    "muestra.head()"
   ]
  },
  {
   "cell_type": "code",
   "execution_count": null,
   "id": "c7228a1b",
   "metadata": {},
   "outputs": [],
   "source": [
    "salaries = pd.read_csv('../data/salaries_data.csv')"
   ]
  },
  {
   "cell_type": "code",
   "execution_count": null,
   "id": "428a4c5c",
   "metadata": {},
   "outputs": [],
   "source": [
    "salaries.head()"
   ]
  },
  {
   "cell_type": "code",
   "execution_count": null,
   "id": "11171cc5",
   "metadata": {},
   "outputs": [],
   "source": [
    "testeo = pd.read_csv('../data/testeo.csv')"
   ]
  },
  {
   "cell_type": "code",
   "execution_count": null,
   "id": "71949137",
   "metadata": {},
   "outputs": [],
   "source": [
    "testeo.head()"
   ]
  },
  {
   "cell_type": "code",
   "execution_count": null,
   "id": "93f93564",
   "metadata": {},
   "outputs": [],
   "source": [
    "salaries.info(memory_usage='deep')"
   ]
  },
  {
   "cell_type": "code",
   "execution_count": null,
   "id": "25d50c3d",
   "metadata": {},
   "outputs": [],
   "source": [
    "salaries.shape"
   ]
  },
  {
   "cell_type": "code",
   "execution_count": null,
   "id": "0601dc7a",
   "metadata": {
    "scrolled": true
   },
   "outputs": [],
   "source": [
    "testeo.shape"
   ]
  },
  {
   "cell_type": "code",
   "execution_count": null,
   "id": "b899ed33",
   "metadata": {},
   "outputs": [],
   "source": [
    "salaries2 = salaries.copy()\n",
    "y=salaries2.salary_in_usd"
   ]
  },
  {
   "cell_type": "code",
   "execution_count": null,
   "id": "2c2f46d0",
   "metadata": {},
   "outputs": [],
   "source": [
    "salaries2.drop('salary_in_usd',axis=1,inplace=True)"
   ]
  },
  {
   "cell_type": "code",
   "execution_count": null,
   "id": "d9b9b011",
   "metadata": {},
   "outputs": [],
   "source": [
    "salaries2.shape"
   ]
  },
  {
   "cell_type": "code",
   "execution_count": null,
   "id": "bd28a903",
   "metadata": {},
   "outputs": [],
   "source": [
    "salaries3 = pd.concat([salaries2, testeo]).reset_index()"
   ]
  },
  {
   "cell_type": "code",
   "execution_count": null,
   "id": "52d78866",
   "metadata": {},
   "outputs": [],
   "source": [
    "salaries3.drop('index',axis=1,inplace=True)"
   ]
  },
  {
   "cell_type": "code",
   "execution_count": null,
   "id": "f66abf24",
   "metadata": {},
   "outputs": [],
   "source": [
    "salaries3.head()"
   ]
  },
  {
   "cell_type": "code",
   "execution_count": null,
   "id": "83d25fb7",
   "metadata": {},
   "outputs": [],
   "source": [
    "plt.figure(figsize=(15, 10))\n",
    "\n",
    "sns.set(style='white')\n",
    "\n",
    "mask=np.triu(np.ones_like(salaries3.corr(), dtype=bool))\n",
    "\n",
    "cmap=sns.diverging_palette(0, 10, as_cmap=True)\n",
    "\n",
    "\n",
    "sns.heatmap(salaries.corr(),\n",
    "          cmap=cmap,\n",
    "          center=0,\n",
    "          square=True,\n",
    "          annot=True,\n",
    "          linewidths=0.5,\n",
    "          cbar_kws={'shrink': 0.5});"
   ]
  },
  {
   "cell_type": "code",
   "execution_count": null,
   "id": "8750a42b",
   "metadata": {},
   "outputs": [],
   "source": [
    "_ = salaries3.hist(figsize=(20, 14))"
   ]
  },
  {
   "cell_type": "code",
   "execution_count": null,
   "id": "9df62211",
   "metadata": {},
   "outputs": [],
   "source": [
    "salaries3[\"experience_level\"].value_counts()"
   ]
  },
  {
   "cell_type": "code",
   "execution_count": null,
   "id": "bd6ec070",
   "metadata": {},
   "outputs": [],
   "source": [
    "salaries3[\"employment_type\"].value_counts()"
   ]
  },
  {
   "cell_type": "code",
   "execution_count": null,
   "id": "cc2d57e3",
   "metadata": {},
   "outputs": [],
   "source": [
    "jobs = salaries3[\"job_title\"].value_counts()\n",
    "jobs"
   ]
  },
  {
   "cell_type": "code",
   "execution_count": null,
   "id": "02842bed",
   "metadata": {
    "scrolled": true
   },
   "outputs": [],
   "source": [
    "salaries3[\"employee_residence\"].value_counts()"
   ]
  },
  {
   "cell_type": "code",
   "execution_count": null,
   "id": "f40e57fa",
   "metadata": {},
   "outputs": [],
   "source": [
    "salaries3[\"company_size\"].value_counts()"
   ]
  },
  {
   "cell_type": "code",
   "execution_count": null,
   "id": "ac45ba26",
   "metadata": {},
   "outputs": [],
   "source": [
    "salaries3.head()"
   ]
  },
  {
   "cell_type": "code",
   "execution_count": null,
   "id": "eb891d11",
   "metadata": {},
   "outputs": [],
   "source": [
    "salaries3.drop(['salary','salary_currency'],axis=1,inplace=True)"
   ]
  },
  {
   "cell_type": "code",
   "execution_count": null,
   "id": "468aaf57",
   "metadata": {},
   "outputs": [],
   "source": [
    "salaries3.head()"
   ]
  },
  {
   "cell_type": "code",
   "execution_count": null,
   "id": "8e7610f9",
   "metadata": {},
   "outputs": [],
   "source": [
    "super_high = ['US','NZ','CA','CA','AE','CN','DZ','SG','DK','JP','AU','BE']\n",
    "high = ['DE','GB','AT','PL','IE','CZ','FR','CH','SI','RO','NL']\n",
    "medium=['GR','ES','PT','LU','CL','HU','EE','IN','NG','MT']"
   ]
  },
  {
   "cell_type": "code",
   "execution_count": null,
   "id": "3a438765",
   "metadata": {},
   "outputs": [],
   "source": [
    "new_location = []\n",
    "for e in salaries3.company_location:\n",
    "    if e in super_high:\n",
    "        new_location.append('super_high')\n",
    "    elif e in high:\n",
    "        new_location.append('high')\n",
    "    elif e in medium:\n",
    "        new_location.append('medium')\n",
    "    else:\n",
    "        new_location.append('low')"
   ]
  },
  {
   "cell_type": "code",
   "execution_count": null,
   "id": "aedfc5e9",
   "metadata": {},
   "outputs": [],
   "source": [
    "salaries3.company_location = new_location"
   ]
  },
  {
   "cell_type": "code",
   "execution_count": null,
   "id": "d447f64d",
   "metadata": {},
   "outputs": [],
   "source": [
    "salaries3.head()"
   ]
  },
  {
   "cell_type": "code",
   "execution_count": null,
   "id": "5476107c",
   "metadata": {},
   "outputs": [],
   "source": [
    "salaries3.drop('employee_residence',axis=1, inplace=True)"
   ]
  },
  {
   "cell_type": "code",
   "execution_count": null,
   "id": "8cbef29e",
   "metadata": {},
   "outputs": [],
   "source": [
    "salaries3.head()"
   ]
  },
  {
   "cell_type": "code",
   "execution_count": null,
   "id": "818a5c60",
   "metadata": {},
   "outputs": [],
   "source": [
    "def limpiar_job(column):\n",
    "    if 'Scientist' in column:\n",
    "        return 'Data Scientist'\n",
    "    elif 'Engineer' in column:\n",
    "        return 'Data Engineer'\n",
    "    elif 'Analyst' in column:\n",
    "        return 'Data Analyst '\n",
    "    else:\n",
    "        return 'Machine Learning Engineer'"
   ]
  },
  {
   "cell_type": "code",
   "execution_count": null,
   "id": "a082caf2",
   "metadata": {},
   "outputs": [],
   "source": [
    "salaries3['job_title'] = salaries3['job_title'].apply(limpiar_job)"
   ]
  },
  {
   "cell_type": "code",
   "execution_count": null,
   "id": "1be1d233",
   "metadata": {},
   "outputs": [],
   "source": [
    "salaries3.head()"
   ]
  },
  {
   "cell_type": "markdown",
   "id": "5e366a36",
   "metadata": {},
   "source": [
    "# Hasta aqui creo que todo esta mas o menos bien\n",
    "## Voy a probar label encoder a ver que pasa y despues puedo probar get dummies a ver que da mejor"
   ]
  },
  {
   "cell_type": "code",
   "execution_count": null,
   "id": "80f76a75",
   "metadata": {},
   "outputs": [],
   "source": [
    "salaries3=pd.get_dummies(salaries3, columns=['experience_level', 'employment_type', 'job_title',\\\n",
    "                                         'company_location', 'company_size','employee_residence','remote_ratio'], drop_first=True)"
   ]
  },
  {
   "cell_type": "code",
   "execution_count": null,
   "id": "668a38b5",
   "metadata": {},
   "outputs": [],
   "source": [
    "salaries3.company_size.value_counts()"
   ]
  },
  {
   "cell_type": "code",
   "execution_count": null,
   "id": "0ba647db",
   "metadata": {},
   "outputs": [],
   "source": [
    "#salaries3.company_location=LabelEncoder().fit_transform(salaries3.company_location)\n",
    "\n",
    "salaries3.head()"
   ]
  },
  {
   "cell_type": "code",
   "execution_count": null,
   "id": "2e7f6b85",
   "metadata": {},
   "outputs": [],
   "source": [
    "#salaries3.job_title=LabelEncoder().fit_transform(salaries3.job_title)\n",
    "\n",
    "#salaries3.head()"
   ]
  },
  {
   "cell_type": "code",
   "execution_count": null,
   "id": "6785b365",
   "metadata": {},
   "outputs": [],
   "source": [
    "#salaries3.employment_type=LabelEncoder().fit_transform(salaries3.employment_type)\n"
   ]
  },
  {
   "cell_type": "code",
   "execution_count": null,
   "id": "89fde0ba",
   "metadata": {},
   "outputs": [],
   "source": [
    "#salaries3.experience_level=LabelEncoder().fit_transform(salaries3.experience_level)\n"
   ]
  },
  {
   "cell_type": "code",
   "execution_count": null,
   "id": "2a2bc68a",
   "metadata": {},
   "outputs": [],
   "source": [
    "salaries3=pd.get_dummies(salaries3, columns=['company_size','company_location','job_title','employment_type','experience_level'], drop_first=True)\n",
    "\n",
    "salaries3.head()"
   ]
  },
  {
   "cell_type": "markdown",
   "id": "2ec780d8",
   "metadata": {},
   "source": [
    "# Normalizo workyear y remote ratio para ver que sale "
   ]
  },
  {
   "cell_type": "code",
   "execution_count": null,
   "id": "5711c7c1",
   "metadata": {},
   "outputs": [],
   "source": [
    "from sklearn.preprocessing import StandardScaler\n",
    "\n",
    "scaler=StandardScaler()"
   ]
  },
  {
   "cell_type": "code",
   "execution_count": null,
   "id": "3d783a8e",
   "metadata": {},
   "outputs": [],
   "source": [
    "#salaries3[['work_year','remote_ratio']] = scaler.fit_transform(salaries3[['work_year','remote_ratio']])\n"
   ]
  },
  {
   "cell_type": "code",
   "execution_count": null,
   "id": "dc190519",
   "metadata": {},
   "outputs": [],
   "source": [
    "salaries3[['work_year']] = scaler.fit_transform(salaries3[['work_year']])\n"
   ]
  },
  {
   "cell_type": "code",
   "execution_count": null,
   "id": "accb1e78",
   "metadata": {},
   "outputs": [],
   "source": [
    "salaries3.head()"
   ]
  },
  {
   "cell_type": "markdown",
   "id": "1a2932e9",
   "metadata": {},
   "source": [
    "# Hasta aqui la limpieza ?¿ ahora a probar modelos"
   ]
  },
  {
   "cell_type": "code",
   "execution_count": null,
   "id": "66f4f8a7",
   "metadata": {},
   "outputs": [],
   "source": [
    "salaries4 = salaries3.iloc[:500,:]\n",
    "testeofin= salaries3.iloc[500:,:]"
   ]
  },
  {
   "cell_type": "code",
   "execution_count": null,
   "id": "28b61463",
   "metadata": {},
   "outputs": [],
   "source": [
    "salaries4.shape"
   ]
  },
  {
   "cell_type": "code",
   "execution_count": null,
   "id": "27f86066",
   "metadata": {},
   "outputs": [],
   "source": [
    "testeofin.shape"
   ]
  },
  {
   "cell_type": "code",
   "execution_count": null,
   "id": "ffcbbfe9",
   "metadata": {},
   "outputs": [],
   "source": [
    "x_train, x_test, y_train, y_test = tts(salaries4, y, train_size=0.8, test_size=0.2, random_state=22)"
   ]
  },
  {
   "cell_type": "code",
   "execution_count": null,
   "id": "65d6ec58",
   "metadata": {},
   "outputs": [],
   "source": [
    "def predecir(x_train, x_test, y_train, y_test):\n",
    "    #inicializamos todos los modelos que vamos a probar\n",
    "    svr=SVR()\n",
    "    rfr=RFR()\n",
    "    etr=ETR()\n",
    "    gbr=GBR()\n",
    "    xgbr=XGBR()\n",
    "    ctr=CTR()\n",
    "    linreg=LinReg()\n",
    "    lasso=Lasso()\n",
    "    ridge=Ridge()\n",
    "    elastic=ElasticNet()\n",
    "    #los entrenamos\n",
    "    svr.fit(x_train, y_train)\n",
    "    rfr.fit(x_train, y_train)\n",
    "    etr.fit(x_train, y_train)\n",
    "    gbr.fit(x_train, y_train)\n",
    "    xgbr.fit(x_train, y_train)\n",
    "    ctr.fit(x_train, y_train, verbose=0)\n",
    "    linreg.fit(x_train, y_train)\n",
    "    lasso.fit(x_train, y_train)\n",
    "    ridge.fit(x_train, y_train)\n",
    "    elastic.fit(x_train, y_train)\n",
    "    #predecimos\n",
    "    y_pred1 = svr.predict(x_test)\n",
    "    y_pred2 = rfr.predict(x_test)\n",
    "    y_pred3 = etr.predict(x_test)\n",
    "    y_pred4 = gbr.predict(x_test)\n",
    "    y_pred5 = xgbr.predict(x_test)\n",
    "    y_pred6 = ctr.predict(x_test)\n",
    "    y_pred7 = linreg.predict(x_test)\n",
    "    y_pred8 = lasso.predict(x_test)\n",
    "    y_pred9 = ridge.predict(x_test)\n",
    "    y_pred10 = elastic.predict(x_test)\n",
    "    #calculamos error cuadrático medio (mse)\n",
    "    mse1 = mse(y_test, y_pred1, squared=False)\n",
    "    mse2 = mse(y_test, y_pred2, squared=False)\n",
    "    mse3 = mse(y_test, y_pred3, squared=False)\n",
    "    mse4 = mse(y_test, y_pred4, squared=False)\n",
    "    mse5 = mse(y_test, y_pred5, squared=False)\n",
    "    mse6 = mse(y_test, y_pred6, squared=False)\n",
    "    mse7 = mse(y_test, y_pred7, squared=False)\n",
    "    mse8 = mse(y_test, y_pred8, squared=False)\n",
    "    mse9 = mse(y_test, y_pred9, squared=False)\n",
    "    mse10 = mse(y_test, y_pred10, squared=False)\n",
    "    #creamos una lista con todos los mse\n",
    "    temp = [mse1, mse2, mse3, mse4, mse5, mse6, mse7, mse8, mse9, mse10]\n",
    "    #pedimos a la función que nos devuelva el valor más bajo de mse\n",
    "    minimo = min(temp)\n",
    "    #le ponemos un mensajito para que quede más mono\n",
    "    if minimo == mse1:\n",
    "        return f'El mejor modelo es SVR con un mse de {mse1}'\n",
    "    elif minimo == mse2:\n",
    "        return f'El mejor modelo es RFR con un mse de {mse2}'\n",
    "    elif minimo == mse3:\n",
    "        return f'El mejor modelo es ETR con un mse de {mse3}'\n",
    "    elif minimo == mse4:\n",
    "        return f'El mejor modelo es GBR con un mse de {mse4}'\n",
    "    elif minimo == mse5:\n",
    "        return f'El mejor modelo es XGBR con un mse de {mse5}'\n",
    "    elif minimo == mse6:\n",
    "        return f'El mejor modelo es CTR con un mse de {mse6}'\n",
    "    elif minimo == mse7:\n",
    "        return f'El mejor modelo es LINREG con un mse de {mse7}'\n",
    "    elif minimo == mse8:\n",
    "        return f'El mejor modelo es LASSO con un mse de {mse8}'\n",
    "    elif minimo == mse9:\n",
    "        return f'El mejor modelo es RIDGE con un mse de {mse9}'\n",
    "    elif minimo == mse10:\n",
    "        return f'El mejor modelo es ELASTIC con un mse de {mse10}'"
   ]
  },
  {
   "cell_type": "code",
   "execution_count": null,
   "id": "30728114",
   "metadata": {},
   "outputs": [],
   "source": [
    "predecir(x_train, x_test, y_train, y_test)"
   ]
  },
  {
   "cell_type": "code",
   "execution_count": null,
   "id": "57b05319",
   "metadata": {},
   "outputs": [],
   "source": [
    "rfr=RFR()\n"
   ]
  },
  {
   "cell_type": "code",
   "execution_count": null,
   "id": "c78e81af",
   "metadata": {},
   "outputs": [],
   "source": [
    "rfr.fit(x_train, y_train)\n"
   ]
  },
  {
   "cell_type": "code",
   "execution_count": null,
   "id": "e5be963f",
   "metadata": {},
   "outputs": [],
   "source": [
    "y_pred16 = rfr.predict(x_test)\n"
   ]
  },
  {
   "cell_type": "code",
   "execution_count": null,
   "id": "84a29985",
   "metadata": {},
   "outputs": [],
   "source": [
    "mse15 = mse(y_test, y_pred16, squared=False)\n"
   ]
  },
  {
   "cell_type": "code",
   "execution_count": null,
   "id": "d44293dc",
   "metadata": {},
   "outputs": [],
   "source": [
    "mse15"
   ]
  },
  {
   "cell_type": "code",
   "execution_count": null,
   "id": "df79e941",
   "metadata": {},
   "outputs": [],
   "source": [
    "y_pred_test13 = rfr.predict(testeofin)"
   ]
  },
  {
   "cell_type": "code",
   "execution_count": null,
   "id": "5b66f58e",
   "metadata": {},
   "outputs": [],
   "source": [
    "muestra.salary_in_usd = y_pred_test13"
   ]
  },
  {
   "cell_type": "code",
   "execution_count": null,
   "id": "e99e4e8a",
   "metadata": {},
   "outputs": [],
   "source": [
    "error13 = muestra.copy()"
   ]
  },
  {
   "cell_type": "code",
   "execution_count": null,
   "id": "1a89cbb1",
   "metadata": {},
   "outputs": [],
   "source": [
    "error13.to_csv('../data/error13.csv', index=False)\n"
   ]
  },
  {
   "cell_type": "code",
   "execution_count": null,
   "id": "e301e9ae",
   "metadata": {},
   "outputs": [],
   "source": []
  },
  {
   "cell_type": "code",
   "execution_count": null,
   "id": "23338938",
   "metadata": {},
   "outputs": [],
   "source": []
  },
  {
   "cell_type": "code",
   "execution_count": null,
   "id": "b2190e44",
   "metadata": {},
   "outputs": [],
   "source": []
  },
  {
   "cell_type": "code",
   "execution_count": null,
   "id": "f12e4c3c",
   "metadata": {},
   "outputs": [],
   "source": []
  },
  {
   "cell_type": "code",
   "execution_count": null,
   "id": "e73e3032",
   "metadata": {},
   "outputs": [],
   "source": []
  },
  {
   "cell_type": "code",
   "execution_count": null,
   "id": "0f16e964",
   "metadata": {},
   "outputs": [],
   "source": []
  },
  {
   "cell_type": "code",
   "execution_count": null,
   "id": "f5e18f4e",
   "metadata": {},
   "outputs": [],
   "source": []
  },
  {
   "cell_type": "markdown",
   "id": "b549a695",
   "metadata": {},
   "source": [
    "# De aqui para abajo noooooo"
   ]
  },
  {
   "cell_type": "code",
   "execution_count": null,
   "id": "fa554888",
   "metadata": {},
   "outputs": [],
   "source": [
    "salaries.groupby('experience_level').mean()"
   ]
  },
  {
   "cell_type": "code",
   "execution_count": null,
   "id": "118ebee2",
   "metadata": {},
   "outputs": [],
   "source": []
  },
  {
   "cell_type": "code",
   "execution_count": null,
   "id": "ab4c72b4",
   "metadata": {},
   "outputs": [],
   "source": [
    "salaries3.describe(include='all').T"
   ]
  },
  {
   "cell_type": "code",
   "execution_count": null,
   "id": "60de3240",
   "metadata": {},
   "outputs": [],
   "source": []
  },
  {
   "cell_type": "code",
   "execution_count": null,
   "id": "22d662ea",
   "metadata": {},
   "outputs": [],
   "source": [
    "salaries3=pd.get_dummies(salaries3, columns=['company_size'], drop_first=True)\n",
    "\n",
    "salaries3.head()"
   ]
  },
  {
   "cell_type": "code",
   "execution_count": null,
   "id": "93fb1592",
   "metadata": {},
   "outputs": [],
   "source": [
    "salaries3=pd.get_dummies(salaries3, columns=['experience_level'], drop_first=True)\n"
   ]
  },
  {
   "cell_type": "code",
   "execution_count": null,
   "id": "d2a05eaf",
   "metadata": {},
   "outputs": [],
   "source": [
    "salaries3.job_title.value_counts()"
   ]
  },
  {
   "cell_type": "code",
   "execution_count": null,
   "id": "864430f0",
   "metadata": {},
   "outputs": [],
   "source": [
    "def limpiar_job(column):\n",
    "    if 'Scientist' in column:\n",
    "        return 'Data Scientist'\n",
    "    elif 'Engineer' in column:\n",
    "        return 'Data Engineer'\n",
    "    elif 'Analyst' in column:\n",
    "        return 'Data Analyst '\n",
    "    else:\n",
    "        return 'Machine Learning Engineer'"
   ]
  },
  {
   "cell_type": "code",
   "execution_count": null,
   "id": "475c4425",
   "metadata": {},
   "outputs": [],
   "source": [
    "salaries3['job_title'] = salaries3['job_title'].apply(limpiar_job)"
   ]
  },
  {
   "cell_type": "code",
   "execution_count": null,
   "id": "a9670aaf",
   "metadata": {},
   "outputs": [],
   "source": [
    "salaries3.head()"
   ]
  },
  {
   "cell_type": "code",
   "execution_count": null,
   "id": "8b2e1634",
   "metadata": {},
   "outputs": [],
   "source": [
    "salaries3.job_title.value_counts()"
   ]
  },
  {
   "cell_type": "code",
   "execution_count": null,
   "id": "eaff1073",
   "metadata": {},
   "outputs": [],
   "source": [
    "salaries3=pd.get_dummies(salaries3, columns=['job_title'], drop_first=True)\n",
    "\n",
    "salaries3.head()"
   ]
  },
  {
   "cell_type": "code",
   "execution_count": null,
   "id": "d6a2f3d1",
   "metadata": {},
   "outputs": [],
   "source": [
    "salaries3.employment_type.value_counts()"
   ]
  },
  {
   "cell_type": "code",
   "execution_count": null,
   "id": "a8a85a1c",
   "metadata": {},
   "outputs": [],
   "source": [
    "salaries3=pd.get_dummies(salaries3, columns=['employment_type'], drop_first=True)\n",
    "\n",
    "salaries3.head()"
   ]
  },
  {
   "cell_type": "code",
   "execution_count": null,
   "id": "eba9716d",
   "metadata": {},
   "outputs": [],
   "source": [
    "#salaries3.drop('employee_residence',axis=1,inplace=True)"
   ]
  },
  {
   "cell_type": "code",
   "execution_count": null,
   "id": "4b999c8b",
   "metadata": {},
   "outputs": [],
   "source": [
    "salaries3[\"company_location\"].value_counts()"
   ]
  },
  {
   "cell_type": "code",
   "execution_count": null,
   "id": "4af1d702",
   "metadata": {},
   "outputs": [],
   "source": [
    "salaries3=pd.get_dummies(salaries3, columns=['employee_residence'], drop_first=True)\n",
    "\n",
    "salaries3.head()"
   ]
  },
  {
   "cell_type": "code",
   "execution_count": null,
   "id": "706d2fc0",
   "metadata": {},
   "outputs": [],
   "source": [
    "salaries3=pd.get_dummies(salaries3, columns=['company_location'], drop_first=True)\n",
    "\n",
    "salaries3.head()"
   ]
  },
  {
   "cell_type": "code",
   "execution_count": null,
   "id": "1dcb8d93",
   "metadata": {},
   "outputs": [],
   "source": [
    "salaries3=pd.get_dummies(salaries3, columns=['remote_ratio'], drop_first=True)\n",
    "\n",
    "salaries3.head()"
   ]
  },
  {
   "cell_type": "code",
   "execution_count": null,
   "id": "1069997f",
   "metadata": {},
   "outputs": [],
   "source": [
    "salaries3=pd.get_dummies(salaries3, columns=['work_year'], drop_first=True)\n",
    "\n",
    "salaries3.head()"
   ]
  },
  {
   "cell_type": "code",
   "execution_count": null,
   "id": "245327ce",
   "metadata": {},
   "outputs": [],
   "source": []
  },
  {
   "cell_type": "code",
   "execution_count": null,
   "id": "7376572d",
   "metadata": {},
   "outputs": [],
   "source": [
    "prueba = salaries.groupby('company_location').mean()\n",
    "prueba = prueba.reset_index()\n",
    "prueba"
   ]
  },
  {
   "cell_type": "code",
   "execution_count": null,
   "id": "daf1e09d",
   "metadata": {},
   "outputs": [],
   "source": [
    "sorted_countries = list(salaries2[\"company_location\"].value_counts().index)\n",
    "number_of_employees = salaries2[\"company_location\"].value_counts()\n",
    "len(number_of_employees)"
   ]
  },
  {
   "cell_type": "code",
   "execution_count": null,
   "id": "ea504d9e",
   "metadata": {},
   "outputs": [],
   "source": [
    "#prueba[\"company_location\"] = pd.Categorical(prueba[\"company_location\"], categories = sorted_countries)\n",
    "a = prueba.sort_values(by = \"company_location\")\n",
    "#a\n",
    "a"
   ]
  },
  {
   "cell_type": "code",
   "execution_count": null,
   "id": "9b54c89b",
   "metadata": {},
   "outputs": [],
   "source": []
  },
  {
   "cell_type": "code",
   "execution_count": null,
   "id": "5fb4a498",
   "metadata": {},
   "outputs": [],
   "source": [
    "b =  a.sort_values(by=['salary_in_usd'], ascending=False)\n",
    "#a['company_location'] = number_of_employees.values\n",
    "#a\n",
    "b\n",
    "super_high = ['US','NZ','CA','CA','AE','CN','DZ','SG','DK','JP','AU','BE']\n",
    "high = ['DE','GB','AT','PL','IE','CZ','FR','CH','SI','RO','NL']\n",
    "medium=['GR','ES','PT','LU','CL','HU','EE','IN','NG','MT']\n"
   ]
  },
  {
   "cell_type": "code",
   "execution_count": null,
   "id": "e54a2671",
   "metadata": {},
   "outputs": [],
   "source": [
    "#a['mean_salary']= a['salary_in_usd']/a['employee_number']\n",
    "#a"
   ]
  },
  {
   "cell_type": "code",
   "execution_count": null,
   "id": "7e45590f",
   "metadata": {},
   "outputs": [],
   "source": [
    "number_of_employees.values"
   ]
  },
  {
   "cell_type": "code",
   "execution_count": null,
   "id": "377d3f2e",
   "metadata": {},
   "outputs": [],
   "source": [
    "#b =  a.sort_values(by=['salary_in_usd'], ascending=False)\n",
    "#b['number'] = number_of_employees.values\n",
    "#b"
   ]
  },
  {
   "cell_type": "code",
   "execution_count": null,
   "id": "030264e8",
   "metadata": {},
   "outputs": [],
   "source": [
    "#Esto no porque da una media de salario para algunos paises que no tiene sentido \n",
    "#b['mean_salary']= b['salary_in_usd']/b['number']\n",
    "#b"
   ]
  },
  {
   "cell_type": "code",
   "execution_count": null,
   "id": "8fe8346d",
   "metadata": {},
   "outputs": [],
   "source": [
    "b.describe(include='all').T"
   ]
  },
  {
   "cell_type": "code",
   "execution_count": null,
   "id": "ba083979",
   "metadata": {},
   "outputs": [],
   "source": [
    "b"
   ]
  },
  {
   "cell_type": "code",
   "execution_count": null,
   "id": "290c3c0b",
   "metadata": {},
   "outputs": [],
   "source": [
    "new_company=[]\n",
    "for e in b.salary_in_usd:\n",
    "    if e>= 85501.152174 and e <= 144892.682434: \n",
    "        new_company.append('high')\n",
    "    elif e>= 54945.75 and e<= 85501.152174:\n",
    "        new_company.append('medium')\n",
    "    elif e >= 24911.25 and e<= 54945.75:\n",
    "        new_company.append('low')\n",
    "    else:\n",
    "        new_company.append('super_low')"
   ]
  },
  {
   "cell_type": "code",
   "execution_count": null,
   "id": "99832923",
   "metadata": {},
   "outputs": [],
   "source": [
    "b.company_location= new_company"
   ]
  },
  {
   "cell_type": "code",
   "execution_count": null,
   "id": "fa8c2288",
   "metadata": {},
   "outputs": [],
   "source": [
    "b"
   ]
  },
  {
   "cell_type": "code",
   "execution_count": null,
   "id": "8805f9a1",
   "metadata": {},
   "outputs": [],
   "source": [
    "salaries3.company_location=b.company_location"
   ]
  },
  {
   "cell_type": "code",
   "execution_count": null,
   "id": "8d9d622a",
   "metadata": {},
   "outputs": [],
   "source": [
    "salaries3"
   ]
  },
  {
   "cell_type": "code",
   "execution_count": null,
   "id": "5c955309",
   "metadata": {},
   "outputs": [],
   "source": [
    "super_high = ['US','NZ','CA','CA','AE','CN','DZ','SG','DK','JP','AU','BE']\n",
    "high = ['DE','GB','AT','PL','IE','CZ','FR','CH','SI','RO','NL']\n",
    "medium=['GR','ES','PT','LU','CL','HU','EE','IN','NG','MT']"
   ]
  },
  {
   "cell_type": "code",
   "execution_count": null,
   "id": "d44d97c6",
   "metadata": {},
   "outputs": [],
   "source": []
  },
  {
   "cell_type": "code",
   "execution_count": null,
   "id": "fe224a0f",
   "metadata": {},
   "outputs": [],
   "source": [
    "new_location = []\n",
    "for e in salaries3.company_location:\n",
    "    if e in super_high:\n",
    "        new_location.append('super_high')\n",
    "    elif e in high:\n",
    "        new_location.append('high')\n",
    "    elif e in medium:\n",
    "        new_location.append('medium')\n",
    "    else:\n",
    "        new_location.append('low')\n",
    "\n",
    "\n",
    "        \n"
   ]
  },
  {
   "cell_type": "code",
   "execution_count": null,
   "id": "877c348d",
   "metadata": {},
   "outputs": [],
   "source": [
    "salaries3.company_location = new_location"
   ]
  },
  {
   "cell_type": "code",
   "execution_count": null,
   "id": "1e29cc6a",
   "metadata": {},
   "outputs": [],
   "source": [
    "salaries3.drop('employee_residence',axis=1, inplace=True)"
   ]
  },
  {
   "cell_type": "code",
   "execution_count": null,
   "id": "d6aa7602",
   "metadata": {},
   "outputs": [],
   "source": [
    "salaries3.head()"
   ]
  },
  {
   "cell_type": "code",
   "execution_count": null,
   "id": "75963d3d",
   "metadata": {},
   "outputs": [],
   "source": [
    "salaries3=pd.get_dummies(salaries3, columns=['company_location'], drop_first=True)\n",
    "\n",
    "salaries3.head()"
   ]
  },
  {
   "cell_type": "code",
   "execution_count": null,
   "id": "11b9cbe6",
   "metadata": {},
   "outputs": [],
   "source": [
    "salaries4 = salaries3.iloc[:500,:]\n",
    "testeofin= salaries3.iloc[500:,:]"
   ]
  },
  {
   "cell_type": "code",
   "execution_count": null,
   "id": "ea8e1af1",
   "metadata": {},
   "outputs": [],
   "source": [
    "testeofin.reset_index()"
   ]
  },
  {
   "cell_type": "code",
   "execution_count": null,
   "id": "17b91b9c",
   "metadata": {},
   "outputs": [],
   "source": [
    "testeofin.reset_index(inplace=True)"
   ]
  },
  {
   "cell_type": "code",
   "execution_count": null,
   "id": "bf10d2e3",
   "metadata": {},
   "outputs": [],
   "source": [
    "testeofin"
   ]
  },
  {
   "cell_type": "code",
   "execution_count": null,
   "id": "1f9bb54f",
   "metadata": {},
   "outputs": [],
   "source": [
    "testeofin.drop('index',axis=1,inplace=True)"
   ]
  },
  {
   "cell_type": "code",
   "execution_count": null,
   "id": "4d37e569",
   "metadata": {},
   "outputs": [],
   "source": [
    "testeofin"
   ]
  },
  {
   "cell_type": "code",
   "execution_count": null,
   "id": "d890e0be",
   "metadata": {},
   "outputs": [],
   "source": [
    "salaries4.head()"
   ]
  },
  {
   "cell_type": "code",
   "execution_count": null,
   "id": "b2a026ce",
   "metadata": {},
   "outputs": [],
   "source": [
    "testeofin.shape"
   ]
  },
  {
   "cell_type": "code",
   "execution_count": null,
   "id": "8ddee099",
   "metadata": {},
   "outputs": [],
   "source": [
    "salaries4.shape"
   ]
  },
  {
   "cell_type": "code",
   "execution_count": null,
   "id": "7741b257",
   "metadata": {},
   "outputs": [],
   "source": [
    "#from sklearn.ensemble import RandomForestRegressor as RFR  \n",
    "from sklearn.model_selection import train_test_split as tts      # el alias es mio\n"
   ]
  },
  {
   "cell_type": "code",
   "execution_count": null,
   "id": "b2a980a3",
   "metadata": {},
   "outputs": [],
   "source": [
    "rfr=RFR()\n"
   ]
  },
  {
   "cell_type": "code",
   "execution_count": null,
   "id": "02d6f01c",
   "metadata": {},
   "outputs": [],
   "source": [
    "x_train, x_test, y_train, y_test = tts(salaries4, y, train_size=0.8, test_size=0.2, random_state=22)\n"
   ]
  },
  {
   "cell_type": "code",
   "execution_count": null,
   "id": "364ac1ce",
   "metadata": {},
   "outputs": [],
   "source": [
    "len(y_train)"
   ]
  },
  {
   "cell_type": "code",
   "execution_count": null,
   "id": "3e51179c",
   "metadata": {},
   "outputs": [],
   "source": [
    "rfr.fit(X_train, y_train)\n"
   ]
  },
  {
   "cell_type": "code",
   "execution_count": null,
   "id": "bb844074",
   "metadata": {},
   "outputs": [],
   "source": [
    "y_pred_rf = rfr.predict(X_test)"
   ]
  },
  {
   "cell_type": "code",
   "execution_count": null,
   "id": "1beb2f9e",
   "metadata": {},
   "outputs": [],
   "source": [
    "from sklearn.metrics import mean_squared_error as mse   \n"
   ]
  },
  {
   "cell_type": "code",
   "execution_count": null,
   "id": "44b8b701",
   "metadata": {},
   "outputs": [],
   "source": [
    "mse(y_test, y_pred, squared=False)"
   ]
  },
  {
   "cell_type": "code",
   "execution_count": null,
   "id": "c7955a13",
   "metadata": {},
   "outputs": [],
   "source": []
  },
  {
   "cell_type": "code",
   "execution_count": null,
   "id": "033e0d74",
   "metadata": {},
   "outputs": [],
   "source": [
    "rfr.fit(salaries4,y)\n"
   ]
  },
  {
   "cell_type": "code",
   "execution_count": null,
   "id": "f686490d",
   "metadata": {},
   "outputs": [],
   "source": [
    "y_pred_test = rfr.predict(testeofin)"
   ]
  },
  {
   "cell_type": "code",
   "execution_count": null,
   "id": "b97f3615",
   "metadata": {},
   "outputs": [],
   "source": [
    "y_pred_test"
   ]
  },
  {
   "cell_type": "code",
   "execution_count": null,
   "id": "ee99607c",
   "metadata": {},
   "outputs": [],
   "source": [
    "muestra.salary_in_usd = y_pred_test"
   ]
  },
  {
   "cell_type": "code",
   "execution_count": null,
   "id": "851e8e66",
   "metadata": {},
   "outputs": [],
   "source": [
    "error1 = muestra.copy()"
   ]
  },
  {
   "cell_type": "code",
   "execution_count": null,
   "id": "c93ca70a",
   "metadata": {},
   "outputs": [],
   "source": [
    "error1.to_csv('../data/error1.csv', index=False)\n",
    "\n"
   ]
  },
  {
   "cell_type": "code",
   "execution_count": null,
   "id": "333789f4",
   "metadata": {},
   "outputs": [],
   "source": [
    "from sklearn.svm import SVR  "
   ]
  },
  {
   "cell_type": "code",
   "execution_count": null,
   "id": "c96e37c5",
   "metadata": {},
   "outputs": [],
   "source": [
    "svr=SVR()"
   ]
  },
  {
   "cell_type": "code",
   "execution_count": null,
   "id": "e95696e8",
   "metadata": {},
   "outputs": [],
   "source": [
    "svr.fit(X_train, y_train)"
   ]
  },
  {
   "cell_type": "code",
   "execution_count": null,
   "id": "9169d7e3",
   "metadata": {},
   "outputs": [],
   "source": [
    "y_pred_svr = svr.predict(X_test)"
   ]
  },
  {
   "cell_type": "code",
   "execution_count": null,
   "id": "7f5068e8",
   "metadata": {},
   "outputs": [],
   "source": [
    "mse(y_test, y_pred, squared=False)"
   ]
  },
  {
   "cell_type": "code",
   "execution_count": null,
   "id": "39a3d441",
   "metadata": {},
   "outputs": [],
   "source": [
    "svr.fit(salaries4,y)\n"
   ]
  },
  {
   "cell_type": "code",
   "execution_count": null,
   "id": "de2c29de",
   "metadata": {},
   "outputs": [],
   "source": [
    "y_pred_svr = rfr.predict(testeofin)"
   ]
  },
  {
   "cell_type": "code",
   "execution_count": null,
   "id": "cda7f6e2",
   "metadata": {},
   "outputs": [],
   "source": [
    "muestra.salary_in_usd = y_pred_svr"
   ]
  },
  {
   "cell_type": "code",
   "execution_count": null,
   "id": "c282b53d",
   "metadata": {},
   "outputs": [],
   "source": [
    "error2 = muestra.copy()"
   ]
  },
  {
   "cell_type": "code",
   "execution_count": null,
   "id": "90c8d8e4",
   "metadata": {},
   "outputs": [],
   "source": [
    "error2.to_csv('../data/error2.csv', index=False)\n"
   ]
  },
  {
   "cell_type": "code",
   "execution_count": null,
   "id": "17f5927a",
   "metadata": {},
   "outputs": [],
   "source": [
    "\n",
    "from sklearn.preprocessing import StandardScaler\n",
    "\n",
    "scaler=StandardScaler()"
   ]
  },
  {
   "cell_type": "code",
   "execution_count": null,
   "id": "e4c52317",
   "metadata": {},
   "outputs": [],
   "source": [
    "salaries4[['work_year','remote_ratio']] = scaler.fit_transform(salaries4[['work_year','remote_ratio']])\n"
   ]
  },
  {
   "cell_type": "code",
   "execution_count": null,
   "id": "384488a5",
   "metadata": {},
   "outputs": [],
   "source": [
    "salaries4.head()"
   ]
  },
  {
   "cell_type": "code",
   "execution_count": null,
   "id": "ef19fd3b",
   "metadata": {},
   "outputs": [],
   "source": [
    "rfr2=RFR()"
   ]
  },
  {
   "cell_type": "code",
   "execution_count": null,
   "id": "c25fa348",
   "metadata": {},
   "outputs": [],
   "source": [
    "rfr2.fit(X_train, y_train)\n"
   ]
  },
  {
   "cell_type": "code",
   "execution_count": null,
   "id": "e7ef4526",
   "metadata": {},
   "outputs": [],
   "source": [
    "y_pred_rf2 = rfr2.predict(X_test)"
   ]
  },
  {
   "cell_type": "code",
   "execution_count": null,
   "id": "8256f55c",
   "metadata": {},
   "outputs": [],
   "source": [
    "mse(y_test, y_pred2, squared=False)"
   ]
  },
  {
   "cell_type": "code",
   "execution_count": null,
   "id": "55412612",
   "metadata": {},
   "outputs": [],
   "source": []
  },
  {
   "cell_type": "code",
   "execution_count": null,
   "id": "3641f92e",
   "metadata": {},
   "outputs": [],
   "source": [
    "rfr2.fit(salaries4,y)\n"
   ]
  },
  {
   "cell_type": "code",
   "execution_count": null,
   "id": "cf91b987",
   "metadata": {},
   "outputs": [],
   "source": [
    "y_pred_test2 = rfr2.predict(testeofin)"
   ]
  },
  {
   "cell_type": "code",
   "execution_count": null,
   "id": "0d9375a1",
   "metadata": {},
   "outputs": [],
   "source": [
    "muestra.salary_in_usd = y_pred_test2"
   ]
  },
  {
   "cell_type": "code",
   "execution_count": null,
   "id": "0adb4797",
   "metadata": {},
   "outputs": [],
   "source": [
    "error3 = muestra.copy()"
   ]
  },
  {
   "cell_type": "code",
   "execution_count": null,
   "id": "d8aff537",
   "metadata": {},
   "outputs": [],
   "source": [
    "error3.to_csv('../data/error3.csv', index=False)\n"
   ]
  },
  {
   "cell_type": "code",
   "execution_count": null,
   "id": "238b256b",
   "metadata": {},
   "outputs": [],
   "source": [
    "x_train, x_test, y_train, y_test = tts(salaries4, y, train_size=0.8, test_size=0.2, random_state=22)"
   ]
  },
  {
   "cell_type": "code",
   "execution_count": null,
   "id": "7e756009",
   "metadata": {},
   "outputs": [],
   "source": [
    "%pip install xgboost"
   ]
  },
  {
   "cell_type": "code",
   "execution_count": null,
   "id": "ee7e12fc",
   "metadata": {},
   "outputs": [],
   "source": [
    "from sklearn.svm import SVR\n",
    "from sklearn.ensemble import RandomForestRegressor as RFR  \n",
    "from sklearn.tree import ExtraTreeRegressor as ETR\n",
    "from sklearn.ensemble import GradientBoostingRegressor as GBR\n",
    "from xgboost import XGBRegressor as XGBR\n",
    "from catboost import CatBoostRegressor as CTR\n",
    "from sklearn.linear_model import LinearRegression as LinReg\n",
    "from sklearn.linear_model import Lasso    \n",
    "from sklearn.linear_model import Ridge\n",
    "from sklearn.linear_model import ElasticNet "
   ]
  },
  {
   "cell_type": "code",
   "execution_count": null,
   "id": "75349c48",
   "metadata": {},
   "outputs": [],
   "source": [
    "def predecir(x_train, x_test, y_train, y_test):\n",
    "    #inicializamos todos los modelos que vamos a probar\n",
    "    svr=SVR()\n",
    "    rfr=RFR()\n",
    "    etr=ETR()\n",
    "    gbr=GBR()\n",
    "    xgbr=XGBR()\n",
    "    ctr=CTR()\n",
    "    linreg=LinReg()\n",
    "    lasso=Lasso()\n",
    "    ridge=Ridge()\n",
    "    elastic=ElasticNet()\n",
    "    #los entrenamos\n",
    "    svr.fit(x_train, y_train)\n",
    "    rfr.fit(x_train, y_train)\n",
    "    etr.fit(x_train, y_train)\n",
    "    gbr.fit(x_train, y_train)\n",
    "    xgbr.fit(x_train, y_train)\n",
    "    ctr.fit(x_train, y_train, verbose=0)\n",
    "    linreg.fit(x_train, y_train)\n",
    "    lasso.fit(x_train, y_train)\n",
    "    ridge.fit(x_train, y_train)\n",
    "    elastic.fit(x_train, y_train)\n",
    "    #predecimos\n",
    "    y_pred1 = svr.predict(x_test)\n",
    "    y_pred2 = rfr.predict(x_test)\n",
    "    y_pred3 = etr.predict(x_test)\n",
    "    y_pred4 = gbr.predict(x_test)\n",
    "    y_pred5 = xgbr.predict(x_test)\n",
    "    y_pred6 = ctr.predict(x_test)\n",
    "    y_pred7 = linreg.predict(x_test)\n",
    "    y_pred8 = lasso.predict(x_test)\n",
    "    y_pred9 = ridge.predict(x_test)\n",
    "    y_pred10 = elastic.predict(x_test)\n",
    "    #calculamos error cuadrático medio (mse)\n",
    "    mse1 = mse(y_test, y_pred1, squared=False)\n",
    "    mse2 = mse(y_test, y_pred2, squared=False)\n",
    "    mse3 = mse(y_test, y_pred3, squared=False)\n",
    "    mse4 = mse(y_test, y_pred4, squared=False)\n",
    "    mse5 = mse(y_test, y_pred5, squared=False)\n",
    "    mse6 = mse(y_test, y_pred6, squared=False)\n",
    "    mse7 = mse(y_test, y_pred7, squared=False)\n",
    "    mse8 = mse(y_test, y_pred8, squared=False)\n",
    "    mse9 = mse(y_test, y_pred9, squared=False)\n",
    "    mse10 = mse(y_test, y_pred10, squared=False)\n",
    "    #creamos una lista con todos los mse\n",
    "    temp = [mse1, mse2, mse3, mse4, mse5, mse6, mse7, mse8, mse9, mse10]\n",
    "    #pedimos a la función que nos devuelva el valor más bajo de mse\n",
    "    minimo = min(temp)\n",
    "    #le ponemos un mensajito para que quede más mono\n",
    "    if minimo == mse1:\n",
    "        return f'El mejor modelo es SVR con un mse de {mse1}'\n",
    "    elif minimo == mse2:\n",
    "        return f'El mejor modelo es RFR con un mse de {mse2}'\n",
    "    elif minimo == mse3:\n",
    "        return f'El mejor modelo es ETR con un mse de {mse3}'\n",
    "    elif minimo == mse4:\n",
    "        return f'El mejor modelo es GBR con un mse de {mse4}'\n",
    "    elif minimo == mse5:\n",
    "        return f'El mejor modelo es XGBR con un mse de {mse5}'\n",
    "    elif minimo == mse6:\n",
    "        return f'El mejor modelo es CTR con un mse de {mse6}'\n",
    "    elif minimo == mse7:\n",
    "        return f'El mejor modelo es LINREG con un mse de {mse7}'\n",
    "    elif minimo == mse8:\n",
    "        return f'El mejor modelo es LASSO con un mse de {mse8}'\n",
    "    elif minimo == mse9:\n",
    "        return f'El mejor modelo es RIDGE con un mse de {mse9}'\n",
    "    elif minimo == mse10:\n",
    "        return f'El mejor modelo es ELASTIC con un mse de {mse10}'"
   ]
  },
  {
   "cell_type": "code",
   "execution_count": null,
   "id": "fd3a49a4",
   "metadata": {},
   "outputs": [],
   "source": [
    "predecir(x_train, x_test, y_train, y_test)"
   ]
  },
  {
   "cell_type": "code",
   "execution_count": null,
   "id": "cb280f0b",
   "metadata": {},
   "outputs": [],
   "source": [
    "rfr=RFR()"
   ]
  },
  {
   "cell_type": "code",
   "execution_count": null,
   "id": "6f7dc50e",
   "metadata": {},
   "outputs": [],
   "source": [
    "rfr.fit(x_train, y_train)"
   ]
  },
  {
   "cell_type": "code",
   "execution_count": null,
   "id": "93981116",
   "metadata": {},
   "outputs": [],
   "source": [
    "y_pred_rf3 = rfr.predict(x_test)"
   ]
  },
  {
   "cell_type": "code",
   "execution_count": null,
   "id": "4f875087",
   "metadata": {},
   "outputs": [],
   "source": [
    "mse14 = mse(y_test, y_pred_rf3, squared=False)"
   ]
  },
  {
   "cell_type": "code",
   "execution_count": null,
   "id": "aebd99f5",
   "metadata": {},
   "outputs": [],
   "source": [
    "mse14"
   ]
  },
  {
   "cell_type": "code",
   "execution_count": null,
   "id": "df9a8c2d",
   "metadata": {},
   "outputs": [],
   "source": [
    "mse8 = mse(y_test, y_pred8, squared=False)"
   ]
  },
  {
   "cell_type": "code",
   "execution_count": null,
   "id": "07d7b050",
   "metadata": {},
   "outputs": [],
   "source": [
    "mse8"
   ]
  },
  {
   "cell_type": "code",
   "execution_count": null,
   "id": "e68913a4",
   "metadata": {},
   "outputs": [],
   "source": [
    "y_pred_test5 = rfr.predict(testeofin)"
   ]
  },
  {
   "cell_type": "code",
   "execution_count": null,
   "id": "f4775f5a",
   "metadata": {},
   "outputs": [],
   "source": [
    "muestra.salary_in_usd = y_pred_test5"
   ]
  },
  {
   "cell_type": "code",
   "execution_count": null,
   "id": "caf53843",
   "metadata": {},
   "outputs": [],
   "source": [
    "error5 = muestra.copy()"
   ]
  },
  {
   "cell_type": "code",
   "execution_count": null,
   "id": "a2748e59",
   "metadata": {},
   "outputs": [],
   "source": [
    "error5.to_csv('../data/error5.csv', index=False)\n"
   ]
  },
  {
   "cell_type": "code",
   "execution_count": null,
   "id": "c2d9a578",
   "metadata": {},
   "outputs": [],
   "source": []
  }
 ],
 "metadata": {
  "kernelspec": {
   "display_name": "Python 3 (ipykernel)",
   "language": "python",
   "name": "python3"
  },
  "language_info": {
   "codemirror_mode": {
    "name": "ipython",
    "version": 3
   },
   "file_extension": ".py",
   "mimetype": "text/x-python",
   "name": "python",
   "nbconvert_exporter": "python",
   "pygments_lexer": "ipython3",
   "version": "3.9.12"
  }
 },
 "nbformat": 4,
 "nbformat_minor": 5
}
