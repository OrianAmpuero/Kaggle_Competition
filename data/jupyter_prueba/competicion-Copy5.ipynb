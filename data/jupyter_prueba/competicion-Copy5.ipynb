{
 "cells": [
  {
   "cell_type": "code",
   "execution_count": 1,
   "id": "152b5c59",
   "metadata": {},
   "outputs": [],
   "source": [
    "import pandas as pd\n",
    "import pylab as plt\n",
    "import seaborn as sns\n",
    "import numpy as np"
   ]
  },
  {
   "cell_type": "code",
   "execution_count": 2,
   "id": "1869fb92",
   "metadata": {},
   "outputs": [],
   "source": [
    "from sklearn.model_selection import train_test_split as tts   \n",
    "from sklearn.metrics import mean_squared_error as mse   \n",
    "from sklearn.svm import SVR\n",
    "from sklearn.ensemble import RandomForestRegressor as RFR  \n",
    "from sklearn.tree import ExtraTreeRegressor as ETR\n",
    "from sklearn.ensemble import GradientBoostingRegressor as GBR\n",
    "from xgboost import XGBRegressor as XGBR\n",
    "from catboost import CatBoostRegressor as CTR\n",
    "from sklearn.linear_model import LinearRegression as LinReg\n",
    "from sklearn.linear_model import Lasso    \n",
    "from sklearn.linear_model import Ridge\n",
    "from sklearn.linear_model import ElasticNet \n"
   ]
  },
  {
   "cell_type": "code",
   "execution_count": 3,
   "id": "fceed9e8",
   "metadata": {},
   "outputs": [],
   "source": [
    "muestra=pd.read_csv('../data/muestra.csv')\n"
   ]
  },
  {
   "cell_type": "code",
   "execution_count": 4,
   "id": "8a5190d9",
   "metadata": {},
   "outputs": [
    {
     "data": {
      "text/html": [
       "<div>\n",
       "<style scoped>\n",
       "    .dataframe tbody tr th:only-of-type {\n",
       "        vertical-align: middle;\n",
       "    }\n",
       "\n",
       "    .dataframe tbody tr th {\n",
       "        vertical-align: top;\n",
       "    }\n",
       "\n",
       "    .dataframe thead th {\n",
       "        text-align: right;\n",
       "    }\n",
       "</style>\n",
       "<table border=\"1\" class=\"dataframe\">\n",
       "  <thead>\n",
       "    <tr style=\"text-align: right;\">\n",
       "      <th></th>\n",
       "      <th>id</th>\n",
       "      <th>salary_in_usd</th>\n",
       "    </tr>\n",
       "  </thead>\n",
       "  <tbody>\n",
       "    <tr>\n",
       "      <th>0</th>\n",
       "      <td>0</td>\n",
       "      <td>70377</td>\n",
       "    </tr>\n",
       "    <tr>\n",
       "      <th>1</th>\n",
       "      <td>1</td>\n",
       "      <td>85839</td>\n",
       "    </tr>\n",
       "    <tr>\n",
       "      <th>2</th>\n",
       "      <td>2</td>\n",
       "      <td>63613</td>\n",
       "    </tr>\n",
       "    <tr>\n",
       "      <th>3</th>\n",
       "      <td>3</td>\n",
       "      <td>88561</td>\n",
       "    </tr>\n",
       "    <tr>\n",
       "      <th>4</th>\n",
       "      <td>4</td>\n",
       "      <td>37621</td>\n",
       "    </tr>\n",
       "  </tbody>\n",
       "</table>\n",
       "</div>"
      ],
      "text/plain": [
       "   id  salary_in_usd\n",
       "0   0          70377\n",
       "1   1          85839\n",
       "2   2          63613\n",
       "3   3          88561\n",
       "4   4          37621"
      ]
     },
     "execution_count": 4,
     "metadata": {},
     "output_type": "execute_result"
    }
   ],
   "source": [
    "muestra.head()"
   ]
  },
  {
   "cell_type": "code",
   "execution_count": 5,
   "id": "c7228a1b",
   "metadata": {},
   "outputs": [],
   "source": [
    "salaries = pd.read_csv('../data/salaries_data.csv')"
   ]
  },
  {
   "cell_type": "code",
   "execution_count": 6,
   "id": "428a4c5c",
   "metadata": {},
   "outputs": [
    {
     "data": {
      "text/html": [
       "<div>\n",
       "<style scoped>\n",
       "    .dataframe tbody tr th:only-of-type {\n",
       "        vertical-align: middle;\n",
       "    }\n",
       "\n",
       "    .dataframe tbody tr th {\n",
       "        vertical-align: top;\n",
       "    }\n",
       "\n",
       "    .dataframe thead th {\n",
       "        text-align: right;\n",
       "    }\n",
       "</style>\n",
       "<table border=\"1\" class=\"dataframe\">\n",
       "  <thead>\n",
       "    <tr style=\"text-align: right;\">\n",
       "      <th></th>\n",
       "      <th>work_year</th>\n",
       "      <th>experience_level</th>\n",
       "      <th>employment_type</th>\n",
       "      <th>job_title</th>\n",
       "      <th>salary</th>\n",
       "      <th>salary_currency</th>\n",
       "      <th>salary_in_usd</th>\n",
       "      <th>employee_residence</th>\n",
       "      <th>remote_ratio</th>\n",
       "      <th>company_location</th>\n",
       "      <th>company_size</th>\n",
       "    </tr>\n",
       "  </thead>\n",
       "  <tbody>\n",
       "    <tr>\n",
       "      <th>0</th>\n",
       "      <td>2022</td>\n",
       "      <td>SE</td>\n",
       "      <td>FT</td>\n",
       "      <td>Data Engineer</td>\n",
       "      <td>140250</td>\n",
       "      <td>USD</td>\n",
       "      <td>140250</td>\n",
       "      <td>US</td>\n",
       "      <td>100</td>\n",
       "      <td>US</td>\n",
       "      <td>M</td>\n",
       "    </tr>\n",
       "    <tr>\n",
       "      <th>1</th>\n",
       "      <td>2022</td>\n",
       "      <td>SE</td>\n",
       "      <td>FT</td>\n",
       "      <td>Data Engineer</td>\n",
       "      <td>135000</td>\n",
       "      <td>USD</td>\n",
       "      <td>135000</td>\n",
       "      <td>US</td>\n",
       "      <td>100</td>\n",
       "      <td>US</td>\n",
       "      <td>M</td>\n",
       "    </tr>\n",
       "    <tr>\n",
       "      <th>2</th>\n",
       "      <td>2021</td>\n",
       "      <td>MI</td>\n",
       "      <td>FT</td>\n",
       "      <td>BI Data Analyst</td>\n",
       "      <td>100000</td>\n",
       "      <td>USD</td>\n",
       "      <td>100000</td>\n",
       "      <td>US</td>\n",
       "      <td>100</td>\n",
       "      <td>US</td>\n",
       "      <td>M</td>\n",
       "    </tr>\n",
       "    <tr>\n",
       "      <th>3</th>\n",
       "      <td>2021</td>\n",
       "      <td>MI</td>\n",
       "      <td>CT</td>\n",
       "      <td>ML Engineer</td>\n",
       "      <td>270000</td>\n",
       "      <td>USD</td>\n",
       "      <td>270000</td>\n",
       "      <td>US</td>\n",
       "      <td>100</td>\n",
       "      <td>US</td>\n",
       "      <td>L</td>\n",
       "    </tr>\n",
       "    <tr>\n",
       "      <th>4</th>\n",
       "      <td>2021</td>\n",
       "      <td>MI</td>\n",
       "      <td>FT</td>\n",
       "      <td>Data Engineer</td>\n",
       "      <td>22000</td>\n",
       "      <td>EUR</td>\n",
       "      <td>26005</td>\n",
       "      <td>RO</td>\n",
       "      <td>0</td>\n",
       "      <td>US</td>\n",
       "      <td>L</td>\n",
       "    </tr>\n",
       "  </tbody>\n",
       "</table>\n",
       "</div>"
      ],
      "text/plain": [
       "   work_year experience_level employment_type        job_title  salary  \\\n",
       "0       2022               SE              FT    Data Engineer  140250   \n",
       "1       2022               SE              FT    Data Engineer  135000   \n",
       "2       2021               MI              FT  BI Data Analyst  100000   \n",
       "3       2021               MI              CT      ML Engineer  270000   \n",
       "4       2021               MI              FT    Data Engineer   22000   \n",
       "\n",
       "  salary_currency  salary_in_usd employee_residence  remote_ratio  \\\n",
       "0             USD         140250                 US           100   \n",
       "1             USD         135000                 US           100   \n",
       "2             USD         100000                 US           100   \n",
       "3             USD         270000                 US           100   \n",
       "4             EUR          26005                 RO             0   \n",
       "\n",
       "  company_location company_size  \n",
       "0               US            M  \n",
       "1               US            M  \n",
       "2               US            M  \n",
       "3               US            L  \n",
       "4               US            L  "
      ]
     },
     "execution_count": 6,
     "metadata": {},
     "output_type": "execute_result"
    }
   ],
   "source": [
    "salaries.head()"
   ]
  },
  {
   "cell_type": "code",
   "execution_count": 7,
   "id": "11171cc5",
   "metadata": {},
   "outputs": [],
   "source": [
    "testeo = pd.read_csv('../data/testeo.csv')"
   ]
  },
  {
   "cell_type": "code",
   "execution_count": 8,
   "id": "71949137",
   "metadata": {},
   "outputs": [
    {
     "data": {
      "text/html": [
       "<div>\n",
       "<style scoped>\n",
       "    .dataframe tbody tr th:only-of-type {\n",
       "        vertical-align: middle;\n",
       "    }\n",
       "\n",
       "    .dataframe tbody tr th {\n",
       "        vertical-align: top;\n",
       "    }\n",
       "\n",
       "    .dataframe thead th {\n",
       "        text-align: right;\n",
       "    }\n",
       "</style>\n",
       "<table border=\"1\" class=\"dataframe\">\n",
       "  <thead>\n",
       "    <tr style=\"text-align: right;\">\n",
       "      <th></th>\n",
       "      <th>work_year</th>\n",
       "      <th>experience_level</th>\n",
       "      <th>employment_type</th>\n",
       "      <th>job_title</th>\n",
       "      <th>salary</th>\n",
       "      <th>salary_currency</th>\n",
       "      <th>employee_residence</th>\n",
       "      <th>remote_ratio</th>\n",
       "      <th>company_location</th>\n",
       "      <th>company_size</th>\n",
       "    </tr>\n",
       "  </thead>\n",
       "  <tbody>\n",
       "    <tr>\n",
       "      <th>0</th>\n",
       "      <td>2020</td>\n",
       "      <td>SE</td>\n",
       "      <td>FT</td>\n",
       "      <td>Machine Learning Scientist</td>\n",
       "      <td>260000</td>\n",
       "      <td>USD</td>\n",
       "      <td>JP</td>\n",
       "      <td>0</td>\n",
       "      <td>JP</td>\n",
       "      <td>S</td>\n",
       "    </tr>\n",
       "    <tr>\n",
       "      <th>1</th>\n",
       "      <td>2020</td>\n",
       "      <td>MI</td>\n",
       "      <td>FT</td>\n",
       "      <td>Lead Data Analyst</td>\n",
       "      <td>87000</td>\n",
       "      <td>USD</td>\n",
       "      <td>US</td>\n",
       "      <td>100</td>\n",
       "      <td>US</td>\n",
       "      <td>L</td>\n",
       "    </tr>\n",
       "    <tr>\n",
       "      <th>2</th>\n",
       "      <td>2020</td>\n",
       "      <td>MI</td>\n",
       "      <td>FT</td>\n",
       "      <td>Data Analyst</td>\n",
       "      <td>85000</td>\n",
       "      <td>USD</td>\n",
       "      <td>US</td>\n",
       "      <td>100</td>\n",
       "      <td>US</td>\n",
       "      <td>L</td>\n",
       "    </tr>\n",
       "    <tr>\n",
       "      <th>3</th>\n",
       "      <td>2020</td>\n",
       "      <td>MI</td>\n",
       "      <td>FT</td>\n",
       "      <td>Machine Learning Engineer</td>\n",
       "      <td>299000</td>\n",
       "      <td>CNY</td>\n",
       "      <td>CN</td>\n",
       "      <td>0</td>\n",
       "      <td>CN</td>\n",
       "      <td>M</td>\n",
       "    </tr>\n",
       "    <tr>\n",
       "      <th>4</th>\n",
       "      <td>2020</td>\n",
       "      <td>MI</td>\n",
       "      <td>FT</td>\n",
       "      <td>Product Data Analyst</td>\n",
       "      <td>450000</td>\n",
       "      <td>INR</td>\n",
       "      <td>IN</td>\n",
       "      <td>100</td>\n",
       "      <td>IN</td>\n",
       "      <td>L</td>\n",
       "    </tr>\n",
       "  </tbody>\n",
       "</table>\n",
       "</div>"
      ],
      "text/plain": [
       "   work_year experience_level employment_type                   job_title  \\\n",
       "0       2020               SE              FT  Machine Learning Scientist   \n",
       "1       2020               MI              FT           Lead Data Analyst   \n",
       "2       2020               MI              FT                Data Analyst   \n",
       "3       2020               MI              FT   Machine Learning Engineer   \n",
       "4       2020               MI              FT        Product Data Analyst   \n",
       "\n",
       "   salary salary_currency employee_residence  remote_ratio company_location  \\\n",
       "0  260000             USD                 JP             0               JP   \n",
       "1   87000             USD                 US           100               US   \n",
       "2   85000             USD                 US           100               US   \n",
       "3  299000             CNY                 CN             0               CN   \n",
       "4  450000             INR                 IN           100               IN   \n",
       "\n",
       "  company_size  \n",
       "0            S  \n",
       "1            L  \n",
       "2            L  \n",
       "3            M  \n",
       "4            L  "
      ]
     },
     "execution_count": 8,
     "metadata": {},
     "output_type": "execute_result"
    }
   ],
   "source": [
    "testeo.head()"
   ]
  },
  {
   "cell_type": "code",
   "execution_count": 9,
   "id": "93f93564",
   "metadata": {},
   "outputs": [
    {
     "name": "stdout",
     "output_type": "stream",
     "text": [
      "<class 'pandas.core.frame.DataFrame'>\n",
      "RangeIndex: 500 entries, 0 to 499\n",
      "Data columns (total 11 columns):\n",
      " #   Column              Non-Null Count  Dtype \n",
      "---  ------              --------------  ----- \n",
      " 0   work_year           500 non-null    int64 \n",
      " 1   experience_level    500 non-null    object\n",
      " 2   employment_type     500 non-null    object\n",
      " 3   job_title           500 non-null    object\n",
      " 4   salary              500 non-null    int64 \n",
      " 5   salary_currency     500 non-null    object\n",
      " 6   salary_in_usd       500 non-null    int64 \n",
      " 7   employee_residence  500 non-null    object\n",
      " 8   remote_ratio        500 non-null    int64 \n",
      " 9   company_location    500 non-null    object\n",
      " 10  company_size        500 non-null    object\n",
      "dtypes: int64(4), object(7)\n",
      "memory usage: 224.3 KB\n"
     ]
    }
   ],
   "source": [
    "salaries.info(memory_usage='deep')"
   ]
  },
  {
   "cell_type": "code",
   "execution_count": 10,
   "id": "25d50c3d",
   "metadata": {},
   "outputs": [
    {
     "data": {
      "text/plain": [
       "(500, 11)"
      ]
     },
     "execution_count": 10,
     "metadata": {},
     "output_type": "execute_result"
    }
   ],
   "source": [
    "salaries.shape"
   ]
  },
  {
   "cell_type": "code",
   "execution_count": 11,
   "id": "0601dc7a",
   "metadata": {
    "scrolled": true
   },
   "outputs": [
    {
     "data": {
      "text/plain": [
       "(107, 10)"
      ]
     },
     "execution_count": 11,
     "metadata": {},
     "output_type": "execute_result"
    }
   ],
   "source": [
    "testeo.shape"
   ]
  },
  {
   "cell_type": "code",
   "execution_count": 12,
   "id": "b899ed33",
   "metadata": {},
   "outputs": [],
   "source": [
    "salaries2 = salaries.copy()\n"
   ]
  },
  {
   "cell_type": "code",
   "execution_count": 13,
   "id": "174a6a12",
   "metadata": {},
   "outputs": [
    {
     "name": "stderr",
     "output_type": "stream",
     "text": [
      "/var/folders/0p/q9p3n_m96v7fgw9v0l4dvkyr0000gn/T/ipykernel_27318/1326823474.py:11: FutureWarning: The frame.append method is deprecated and will be removed from pandas in a future version. Use pandas.concat instead.\n",
      "  outliers=outliers.append(res, sort=True)\n",
      "/var/folders/0p/q9p3n_m96v7fgw9v0l4dvkyr0000gn/T/ipykernel_27318/1326823474.py:11: FutureWarning: The frame.append method is deprecated and will be removed from pandas in a future version. Use pandas.concat instead.\n",
      "  outliers=outliers.append(res, sort=True)\n",
      "/var/folders/0p/q9p3n_m96v7fgw9v0l4dvkyr0000gn/T/ipykernel_27318/1326823474.py:11: FutureWarning: The frame.append method is deprecated and will be removed from pandas in a future version. Use pandas.concat instead.\n",
      "  outliers=outliers.append(res, sort=True)\n",
      "/var/folders/0p/q9p3n_m96v7fgw9v0l4dvkyr0000gn/T/ipykernel_27318/1326823474.py:11: FutureWarning: The frame.append method is deprecated and will be removed from pandas in a future version. Use pandas.concat instead.\n",
      "  outliers=outliers.append(res, sort=True)\n"
     ]
    }
   ],
   "source": [
    "stats=salaries2.describe().T\n",
    "stats['IQR']=stats['75%']-stats['25%']\n",
    "outliers=pd.DataFrame(columns=stats.index)\n",
    "for c in stats.index:\n",
    "    iqr=stats.at[c, 'IQR']\n",
    "    cutoff=1.5 * iqr   # test de tukey\n",
    "    lower=stats.at[c, '25%'] - cutoff\n",
    "    upper=stats.at[c, '75%'] + cutoff\n",
    "    res=salaries2[(salaries2[c] < lower) | (salaries2[c] > upper)].copy()\n",
    "    res['outliers']=c\n",
    "    outliers=outliers.append(res, sort=True)\n",
    "outliers['outliers'].value_counts()\n",
    "clean_index=[i for i in salaries2.index if i not in outliers.index]\n",
    "salaries2=salaries2.iloc[clean_index]"
   ]
  },
  {
   "cell_type": "code",
   "execution_count": 14,
   "id": "58885117",
   "metadata": {},
   "outputs": [],
   "source": [
    "y=salaries2.salary_in_usd"
   ]
  },
  {
   "cell_type": "code",
   "execution_count": 15,
   "id": "2c2f46d0",
   "metadata": {},
   "outputs": [],
   "source": [
    "salaries2.drop('salary_in_usd',axis=1,inplace=True)"
   ]
  },
  {
   "cell_type": "code",
   "execution_count": 16,
   "id": "99d3596d",
   "metadata": {},
   "outputs": [],
   "source": [
    "#salaries2.drop(['salary','salary_currency'],axis=1,inplace=True)"
   ]
  },
  {
   "cell_type": "code",
   "execution_count": 17,
   "id": "d9b9b011",
   "metadata": {},
   "outputs": [
    {
     "data": {
      "text/plain": [
       "(463, 10)"
      ]
     },
     "execution_count": 17,
     "metadata": {},
     "output_type": "execute_result"
    }
   ],
   "source": [
    "salaries2.shape"
   ]
  },
  {
   "cell_type": "code",
   "execution_count": 18,
   "id": "bd28a903",
   "metadata": {},
   "outputs": [],
   "source": [
    "salaries3 = pd.concat([salaries2, testeo]).reset_index()"
   ]
  },
  {
   "cell_type": "code",
   "execution_count": 19,
   "id": "52d78866",
   "metadata": {},
   "outputs": [],
   "source": [
    "salaries3.drop('index',axis=1,inplace=True)"
   ]
  },
  {
   "cell_type": "code",
   "execution_count": 20,
   "id": "f66abf24",
   "metadata": {},
   "outputs": [
    {
     "data": {
      "text/plain": [
       "(570, 10)"
      ]
     },
     "execution_count": 20,
     "metadata": {},
     "output_type": "execute_result"
    }
   ],
   "source": [
    "salaries3.shape"
   ]
  },
  {
   "cell_type": "code",
   "execution_count": 21,
   "id": "83d25fb7",
   "metadata": {},
   "outputs": [
    {
     "data": {
      "image/png": "[encoded data removed]",
      "text/plain": [
       "<Figure size 1080x720 with 2 Axes>"
      ]
     },
     "metadata": {
      "needs_background": "light"
     },
     "output_type": "display_data"
    }
   ],
   "source": [
    "plt.figure(figsize=(15, 10))\n",
    "\n",
    "sns.set(style='white')\n",
    "\n",
    "mask=np.triu(np.ones_like(salaries3.corr(), dtype=bool))\n",
    "\n",
    "cmap=sns.diverging_palette(0, 10, as_cmap=True)\n",
    "\n",
    "\n",
    "sns.heatmap(salaries.corr(),\n",
    "          cmap=cmap,\n",
    "          center=0,\n",
    "          square=True,\n",
    "          annot=True,\n",
    "          linewidths=0.5,\n",
    "          cbar_kws={'shrink': 0.5});"
   ]
  },
  {
   "cell_type": "code",
   "execution_count": 22,
   "id": "8750a42b",
   "metadata": {},
   "outputs": [
    {
     "data": {
      "image/png": "[encoded data removed]",
      "text/plain": [
       "<Figure size 1440x1008 with 4 Axes>"
      ]
     },
     "metadata": {},
     "output_type": "display_data"
    }
   ],
   "source": [
    "_ = salaries3.hist(figsize=(20, 14))"
   ]
  },
  {
   "cell_type": "code",
   "execution_count": 23,
   "id": "9df62211",
   "metadata": {},
   "outputs": [
    {
     "data": {
      "text/plain": [
       "SE    272\n",
       "MI    198\n",
       "EN     78\n",
       "EX     22\n",
       "Name: experience_level, dtype: int64"
      ]
     },
     "execution_count": 23,
     "metadata": {},
     "output_type": "execute_result"
    }
   ],
   "source": [
    "salaries3[\"experience_level\"].value_counts()"
   ]
  },
  {
   "cell_type": "code",
   "execution_count": 24,
   "id": "bd6ec070",
   "metadata": {},
   "outputs": [
    {
     "data": {
      "text/plain": [
       "FT    553\n",
       "PT      9\n",
       "CT      4\n",
       "FL      4\n",
       "Name: employment_type, dtype: int64"
      ]
     },
     "execution_count": 24,
     "metadata": {},
     "output_type": "execute_result"
    }
   ],
   "source": [
    "salaries3[\"employment_type\"].value_counts()"
   ]
  },
  {
   "cell_type": "code",
   "execution_count": 25,
   "id": "02842bed",
   "metadata": {
    "scrolled": true
   },
   "outputs": [
    {
     "data": {
      "text/plain": [
       "US    323\n",
       "GB     44\n",
       "CA     29\n",
       "DE     25\n",
       "FR     18\n",
       "ES     15\n",
       "GR     13\n",
       "IN      7\n",
       "PT      6\n",
       "PK      6\n",
       "BR      6\n",
       "NL      5\n",
       "PL      4\n",
       "RU      4\n",
       "JP      4\n",
       "IT      4\n",
       "VN      3\n",
       "AE      3\n",
       "TR      3\n",
       "AU      3\n",
       "AT      3\n",
       "BE      2\n",
       "MX      2\n",
       "SI      2\n",
       "DK      2\n",
       "NG      2\n",
       "RO      2\n",
       "SG      2\n",
       "MT      1\n",
       "MY      1\n",
       "BO      1\n",
       "AR      1\n",
       "LU      1\n",
       "CN      1\n",
       "HR      1\n",
       "HN      1\n",
       "HU      1\n",
       "IQ      1\n",
       "CO      1\n",
       "PH      1\n",
       "HK      1\n",
       "RS      1\n",
       "IR      1\n",
       "DZ      1\n",
       "PR      1\n",
       "CZ      1\n",
       "EE      1\n",
       "BG      1\n",
       "UA      1\n",
       "NZ      1\n",
       "JE      1\n",
       "CH      1\n",
       "KE      1\n",
       "IE      1\n",
       "MD      1\n",
       "TN      1\n",
       "Name: employee_residence, dtype: int64"
      ]
     },
     "execution_count": 25,
     "metadata": {},
     "output_type": "execute_result"
    }
   ],
   "source": [
    "salaries3[\"employee_residence\"].value_counts()"
   ]
  },
  {
   "cell_type": "code",
   "execution_count": 26,
   "id": "f40e57fa",
   "metadata": {},
   "outputs": [
    {
     "data": {
      "text/plain": [
       "M    318\n",
       "L    178\n",
       "S     74\n",
       "Name: company_size, dtype: int64"
      ]
     },
     "execution_count": 26,
     "metadata": {},
     "output_type": "execute_result"
    }
   ],
   "source": [
    "salaries3[\"company_size\"].value_counts()"
   ]
  },
  {
   "cell_type": "code",
   "execution_count": 27,
   "id": "eb891d11",
   "metadata": {},
   "outputs": [],
   "source": [
    "salaries3.drop(['salary','salary_currency'],axis=1,inplace=True)"
   ]
  },
  {
   "cell_type": "code",
   "execution_count": 29,
   "id": "5476107c",
   "metadata": {},
   "outputs": [],
   "source": [
    "salaries3.drop('employee_residence',axis=1, inplace=True)"
   ]
  },
  {
   "cell_type": "code",
   "execution_count": null,
   "id": "8cbef29e",
   "metadata": {},
   "outputs": [],
   "source": [
    "salaries3.head()"
   ]
  },
  {
   "cell_type": "code",
   "execution_count": 30,
   "id": "80f76a75",
   "metadata": {},
   "outputs": [],
   "source": [
    "salaries3=pd.get_dummies(salaries3, columns=['experience_level', 'employment_type', 'job_title',\\\n",
    "                                         'company_location', 'company_size'], drop_first=True)"
   ]
  },
  {
   "cell_type": "code",
   "execution_count": null,
   "id": "0ba647db",
   "metadata": {},
   "outputs": [],
   "source": [
    "\n",
    "salaries3.head()"
   ]
  },
  {
   "cell_type": "code",
   "execution_count": 32,
   "id": "5711c7c1",
   "metadata": {},
   "outputs": [],
   "source": [
    "from sklearn.preprocessing import StandardScaler\n",
    "\n",
    "scaler=StandardScaler()"
   ]
  },
  {
   "cell_type": "code",
   "execution_count": 34,
   "id": "dc190519",
   "metadata": {},
   "outputs": [],
   "source": [
    "salaries3[['work_year','remote_ratio']] = scaler.fit_transform(salaries3[['work_year','remote_ratio']])\n"
   ]
  },
  {
   "cell_type": "code",
   "execution_count": 35,
   "id": "accb1e78",
   "metadata": {},
   "outputs": [
    {
     "data": {
      "text/plain": [
       "(570, 102)"
      ]
     },
     "execution_count": 35,
     "metadata": {},
     "output_type": "execute_result"
    }
   ],
   "source": [
    "salaries3.shape"
   ]
  },
  {
   "cell_type": "code",
   "execution_count": 37,
   "id": "ad56efb9",
   "metadata": {},
   "outputs": [
    {
     "data": {
      "text/html": [
       "<div>\n",
       "<style scoped>\n",
       "    .dataframe tbody tr th:only-of-type {\n",
       "        vertical-align: middle;\n",
       "    }\n",
       "\n",
       "    .dataframe tbody tr th {\n",
       "        vertical-align: top;\n",
       "    }\n",
       "\n",
       "    .dataframe thead th {\n",
       "        text-align: right;\n",
       "    }\n",
       "</style>\n",
       "<table border=\"1\" class=\"dataframe\">\n",
       "  <thead>\n",
       "    <tr style=\"text-align: right;\">\n",
       "      <th></th>\n",
       "      <th>work_year</th>\n",
       "      <th>remote_ratio</th>\n",
       "      <th>experience_level_EX</th>\n",
       "      <th>experience_level_MI</th>\n",
       "      <th>experience_level_SE</th>\n",
       "      <th>employment_type_FL</th>\n",
       "      <th>employment_type_FT</th>\n",
       "      <th>employment_type_PT</th>\n",
       "      <th>job_title_Analytics Engineer</th>\n",
       "      <th>job_title_Applied Data Scientist</th>\n",
       "      <th>...</th>\n",
       "      <th>company_location_RO</th>\n",
       "      <th>company_location_RU</th>\n",
       "      <th>company_location_SG</th>\n",
       "      <th>company_location_SI</th>\n",
       "      <th>company_location_TR</th>\n",
       "      <th>company_location_UA</th>\n",
       "      <th>company_location_US</th>\n",
       "      <th>company_location_VN</th>\n",
       "      <th>company_size_M</th>\n",
       "      <th>company_size_S</th>\n",
       "    </tr>\n",
       "  </thead>\n",
       "  <tbody>\n",
       "    <tr>\n",
       "      <th>0</th>\n",
       "      <td>0.820950</td>\n",
       "      <td>0.700449</td>\n",
       "      <td>0</td>\n",
       "      <td>0</td>\n",
       "      <td>1</td>\n",
       "      <td>0</td>\n",
       "      <td>1</td>\n",
       "      <td>0</td>\n",
       "      <td>0</td>\n",
       "      <td>0</td>\n",
       "      <td>...</td>\n",
       "      <td>0</td>\n",
       "      <td>0</td>\n",
       "      <td>0</td>\n",
       "      <td>0</td>\n",
       "      <td>0</td>\n",
       "      <td>0</td>\n",
       "      <td>1</td>\n",
       "      <td>0</td>\n",
       "      <td>1</td>\n",
       "      <td>0</td>\n",
       "    </tr>\n",
       "    <tr>\n",
       "      <th>1</th>\n",
       "      <td>0.820950</td>\n",
       "      <td>0.700449</td>\n",
       "      <td>0</td>\n",
       "      <td>0</td>\n",
       "      <td>1</td>\n",
       "      <td>0</td>\n",
       "      <td>1</td>\n",
       "      <td>0</td>\n",
       "      <td>0</td>\n",
       "      <td>0</td>\n",
       "      <td>...</td>\n",
       "      <td>0</td>\n",
       "      <td>0</td>\n",
       "      <td>0</td>\n",
       "      <td>0</td>\n",
       "      <td>0</td>\n",
       "      <td>0</td>\n",
       "      <td>1</td>\n",
       "      <td>0</td>\n",
       "      <td>1</td>\n",
       "      <td>0</td>\n",
       "    </tr>\n",
       "    <tr>\n",
       "      <th>2</th>\n",
       "      <td>-0.636812</td>\n",
       "      <td>0.700449</td>\n",
       "      <td>0</td>\n",
       "      <td>1</td>\n",
       "      <td>0</td>\n",
       "      <td>0</td>\n",
       "      <td>1</td>\n",
       "      <td>0</td>\n",
       "      <td>0</td>\n",
       "      <td>0</td>\n",
       "      <td>...</td>\n",
       "      <td>0</td>\n",
       "      <td>0</td>\n",
       "      <td>0</td>\n",
       "      <td>0</td>\n",
       "      <td>0</td>\n",
       "      <td>0</td>\n",
       "      <td>1</td>\n",
       "      <td>0</td>\n",
       "      <td>1</td>\n",
       "      <td>0</td>\n",
       "    </tr>\n",
       "    <tr>\n",
       "      <th>3</th>\n",
       "      <td>-0.636812</td>\n",
       "      <td>0.700449</td>\n",
       "      <td>0</td>\n",
       "      <td>1</td>\n",
       "      <td>0</td>\n",
       "      <td>0</td>\n",
       "      <td>0</td>\n",
       "      <td>0</td>\n",
       "      <td>0</td>\n",
       "      <td>0</td>\n",
       "      <td>...</td>\n",
       "      <td>0</td>\n",
       "      <td>0</td>\n",
       "      <td>0</td>\n",
       "      <td>0</td>\n",
       "      <td>0</td>\n",
       "      <td>0</td>\n",
       "      <td>1</td>\n",
       "      <td>0</td>\n",
       "      <td>0</td>\n",
       "      <td>0</td>\n",
       "    </tr>\n",
       "    <tr>\n",
       "      <th>4</th>\n",
       "      <td>-0.636812</td>\n",
       "      <td>-1.756510</td>\n",
       "      <td>0</td>\n",
       "      <td>1</td>\n",
       "      <td>0</td>\n",
       "      <td>0</td>\n",
       "      <td>1</td>\n",
       "      <td>0</td>\n",
       "      <td>0</td>\n",
       "      <td>0</td>\n",
       "      <td>...</td>\n",
       "      <td>0</td>\n",
       "      <td>0</td>\n",
       "      <td>0</td>\n",
       "      <td>0</td>\n",
       "      <td>0</td>\n",
       "      <td>0</td>\n",
       "      <td>1</td>\n",
       "      <td>0</td>\n",
       "      <td>0</td>\n",
       "      <td>0</td>\n",
       "    </tr>\n",
       "  </tbody>\n",
       "</table>\n",
       "<p>5 rows × 102 columns</p>\n",
       "</div>"
      ],
      "text/plain": [
       "   work_year  remote_ratio  experience_level_EX  experience_level_MI  \\\n",
       "0   0.820950      0.700449                    0                    0   \n",
       "1   0.820950      0.700449                    0                    0   \n",
       "2  -0.636812      0.700449                    0                    1   \n",
       "3  -0.636812      0.700449                    0                    1   \n",
       "4  -0.636812     -1.756510                    0                    1   \n",
       "\n",
       "   experience_level_SE  employment_type_FL  employment_type_FT  \\\n",
       "0                    1                   0                   1   \n",
       "1                    1                   0                   1   \n",
       "2                    0                   0                   1   \n",
       "3                    0                   0                   0   \n",
       "4                    0                   0                   1   \n",
       "\n",
       "   employment_type_PT  job_title_Analytics Engineer  \\\n",
       "0                   0                             0   \n",
       "1                   0                             0   \n",
       "2                   0                             0   \n",
       "3                   0                             0   \n",
       "4                   0                             0   \n",
       "\n",
       "   job_title_Applied Data Scientist  ...  company_location_RO  \\\n",
       "0                                 0  ...                    0   \n",
       "1                                 0  ...                    0   \n",
       "2                                 0  ...                    0   \n",
       "3                                 0  ...                    0   \n",
       "4                                 0  ...                    0   \n",
       "\n",
       "   company_location_RU  company_location_SG  company_location_SI  \\\n",
       "0                    0                    0                    0   \n",
       "1                    0                    0                    0   \n",
       "2                    0                    0                    0   \n",
       "3                    0                    0                    0   \n",
       "4                    0                    0                    0   \n",
       "\n",
       "   company_location_TR  company_location_UA  company_location_US  \\\n",
       "0                    0                    0                    1   \n",
       "1                    0                    0                    1   \n",
       "2                    0                    0                    1   \n",
       "3                    0                    0                    1   \n",
       "4                    0                    0                    1   \n",
       "\n",
       "   company_location_VN  company_size_M  company_size_S  \n",
       "0                    0               1               0  \n",
       "1                    0               1               0  \n",
       "2                    0               1               0  \n",
       "3                    0               0               0  \n",
       "4                    0               0               0  \n",
       "\n",
       "[5 rows x 102 columns]"
      ]
     },
     "execution_count": 37,
     "metadata": {},
     "output_type": "execute_result"
    }
   ],
   "source": [
    "salaries3.head()"
   ]
  },
  {
   "cell_type": "code",
   "execution_count": 38,
   "id": "66f4f8a7",
   "metadata": {},
   "outputs": [],
   "source": [
    "salaries4 = salaries3.iloc[0:463]\n",
    "testeofin= salaries3.iloc[463:]"
   ]
  },
  {
   "cell_type": "code",
   "execution_count": 39,
   "id": "3a695f4b",
   "metadata": {},
   "outputs": [],
   "source": [
    "salaries4 = salaries3.iloc[:463,:]\n",
    "testeofin= salaries3.iloc[463:,:]"
   ]
  },
  {
   "cell_type": "code",
   "execution_count": 40,
   "id": "28b61463",
   "metadata": {},
   "outputs": [
    {
     "data": {
      "text/plain": [
       "(463, 102)"
      ]
     },
     "execution_count": 40,
     "metadata": {},
     "output_type": "execute_result"
    }
   ],
   "source": [
    "salaries4.shape"
   ]
  },
  {
   "cell_type": "code",
   "execution_count": 41,
   "id": "27f86066",
   "metadata": {},
   "outputs": [
    {
     "data": {
      "text/plain": [
       "(107, 102)"
      ]
     },
     "execution_count": 41,
     "metadata": {},
     "output_type": "execute_result"
    }
   ],
   "source": [
    "testeofin.shape"
   ]
  },
  {
   "cell_type": "code",
   "execution_count": 42,
   "id": "acd556eb",
   "metadata": {},
   "outputs": [
    {
     "data": {
      "text/plain": [
       "(463,)"
      ]
     },
     "execution_count": 42,
     "metadata": {},
     "output_type": "execute_result"
    }
   ],
   "source": [
    "y.shape"
   ]
  },
  {
   "cell_type": "code",
   "execution_count": 43,
   "id": "ffcbbfe9",
   "metadata": {},
   "outputs": [],
   "source": [
    "x_train, x_test, y_train, y_test = tts(salaries4, y, train_size=0.8, test_size=0.2, random_state=22)"
   ]
  },
  {
   "cell_type": "code",
   "execution_count": 44,
   "id": "65d6ec58",
   "metadata": {},
   "outputs": [],
   "source": [
    "def predecir(x_train, x_test, y_train, y_test):\n",
    "    #inicializamos todos los modelos que vamos a probar\n",
    "    svr=SVR()\n",
    "    rfr=RFR()\n",
    "    etr=ETR()\n",
    "    gbr=GBR()\n",
    "    xgbr=XGBR()\n",
    "    ctr=CTR()\n",
    "    linreg=LinReg()\n",
    "    lasso=Lasso()\n",
    "    ridge=Ridge()\n",
    "    elastic=ElasticNet()\n",
    "    #los entrenamos\n",
    "    svr.fit(x_train, y_train)\n",
    "    rfr.fit(x_train, y_train)\n",
    "    etr.fit(x_train, y_train)\n",
    "    gbr.fit(x_train, y_train)\n",
    "    xgbr.fit(x_train, y_train)\n",
    "    ctr.fit(x_train, y_train, verbose=0)\n",
    "    linreg.fit(x_train, y_train)\n",
    "    lasso.fit(x_train, y_train)\n",
    "    ridge.fit(x_train, y_train)\n",
    "    elastic.fit(x_train, y_train)\n",
    "    #predecimos\n",
    "    y_pred1 = svr.predict(x_test)\n",
    "    y_pred2 = rfr.predict(x_test)\n",
    "    y_pred3 = etr.predict(x_test)\n",
    "    y_pred4 = gbr.predict(x_test)\n",
    "    y_pred5 = xgbr.predict(x_test)\n",
    "    y_pred6 = ctr.predict(x_test)\n",
    "    y_pred7 = linreg.predict(x_test)\n",
    "    y_pred8 = lasso.predict(x_test)\n",
    "    y_pred9 = ridge.predict(x_test)\n",
    "    y_pred10 = elastic.predict(x_test)\n",
    "    #calculamos error cuadrático medio (mse)\n",
    "    mse1 = mse(y_test, y_pred1, squared=False)\n",
    "    mse2 = mse(y_test, y_pred2, squared=False)\n",
    "    mse3 = mse(y_test, y_pred3, squared=False)\n",
    "    mse4 = mse(y_test, y_pred4, squared=False)\n",
    "    mse5 = mse(y_test, y_pred5, squared=False)\n",
    "    mse6 = mse(y_test, y_pred6, squared=False)\n",
    "    mse7 = mse(y_test, y_pred7, squared=False)\n",
    "    mse8 = mse(y_test, y_pred8, squared=False)\n",
    "    mse9 = mse(y_test, y_pred9, squared=False)\n",
    "    mse10 = mse(y_test, y_pred10, squared=False)\n",
    "    #creamos una lista con todos los mse\n",
    "    temp = [mse1, mse2, mse3, mse4, mse5, mse6, mse7, mse8, mse9, mse10]\n",
    "    #pedimos a la función que nos devuelva el valor más bajo de mse\n",
    "    minimo = min(temp)\n",
    "    #le ponemos un mensajito para que quede más mono\n",
    "    if minimo == mse1:\n",
    "        return f'El mejor modelo es SVR con un mse de {mse1}'\n",
    "    elif minimo == mse2:\n",
    "        return f'El mejor modelo es RFR con un mse de {mse2}'\n",
    "    elif minimo == mse3:\n",
    "        return f'El mejor modelo es ETR con un mse de {mse3}'\n",
    "    elif minimo == mse4:\n",
    "        return f'El mejor modelo es GBR con un mse de {mse4}'\n",
    "    elif minimo == mse5:\n",
    "        return f'El mejor modelo es XGBR con un mse de {mse5}'\n",
    "    elif minimo == mse6:\n",
    "        return f'El mejor modelo es CTR con un mse de {mse6}'\n",
    "    elif minimo == mse7:\n",
    "        return f'El mejor modelo es LINREG con un mse de {mse7}'\n",
    "    elif minimo == mse8:\n",
    "        return f'El mejor modelo es LASSO con un mse de {mse8}'\n",
    "    elif minimo == mse9:\n",
    "        return f'El mejor modelo es RIDGE con un mse de {mse9}'\n",
    "    elif minimo == mse10:\n",
    "        return f'El mejor modelo es ELASTIC con un mse de {mse10}'"
   ]
  },
  {
   "cell_type": "code",
   "execution_count": 45,
   "id": "30728114",
   "metadata": {},
   "outputs": [
    {
     "data": {
      "text/plain": [
       "'El mejor modelo es RIDGE con un mse de 34207.94432400609'"
      ]
     },
     "execution_count": 45,
     "metadata": {},
     "output_type": "execute_result"
    }
   ],
   "source": [
    "predecir(x_train, x_test, y_train, y_test)"
   ]
  },
  {
   "cell_type": "code",
   "execution_count": 46,
   "id": "57b05319",
   "metadata": {},
   "outputs": [],
   "source": [
    "ridge=Ridge()"
   ]
  },
  {
   "cell_type": "code",
   "execution_count": 47,
   "id": "c78e81af",
   "metadata": {},
   "outputs": [
    {
     "data": {
      "text/plain": [
       "Ridge()"
      ]
     },
     "execution_count": 47,
     "metadata": {},
     "output_type": "execute_result"
    }
   ],
   "source": [
    "ridge.fit(x_train, y_train)\n"
   ]
  },
  {
   "cell_type": "code",
   "execution_count": 48,
   "id": "e5be963f",
   "metadata": {},
   "outputs": [],
   "source": [
    "y_pred19 = ridge.predict(x_test)\n"
   ]
  },
  {
   "cell_type": "code",
   "execution_count": 49,
   "id": "84a29985",
   "metadata": {},
   "outputs": [],
   "source": [
    "mse18 = mse(y_test, y_pred19, squared=False)\n"
   ]
  },
  {
   "cell_type": "code",
   "execution_count": 50,
   "id": "d44293dc",
   "metadata": {},
   "outputs": [
    {
     "data": {
      "text/plain": [
       "34207.94432400609"
      ]
     },
     "execution_count": 50,
     "metadata": {},
     "output_type": "execute_result"
    }
   ],
   "source": [
    "mse18"
   ]
  },
  {
   "cell_type": "code",
   "execution_count": 51,
   "id": "df79e941",
   "metadata": {},
   "outputs": [],
   "source": [
    "y_pred_test16 = ridge.predict(testeofin)"
   ]
  },
  {
   "cell_type": "code",
   "execution_count": 52,
   "id": "5b66f58e",
   "metadata": {},
   "outputs": [],
   "source": [
    "muestra.salary_in_usd = y_pred_test16"
   ]
  },
  {
   "cell_type": "code",
   "execution_count": null,
   "id": "e99e4e8a",
   "metadata": {},
   "outputs": [],
   "source": [
    "error16 = muestra.copy()"
   ]
  },
  {
   "cell_type": "code",
   "execution_count": null,
   "id": "1a89cbb1",
   "metadata": {},
   "outputs": [],
   "source": [
    "error16.to_csv('../data/error16.csv', index=False)\n"
   ]
  },
  {
   "cell_type": "markdown",
   "id": "43368ebc",
   "metadata": {},
   "source": [
    "# Esto son cosas que he probado pero no han servido"
   ]
  },
  {
   "cell_type": "code",
   "execution_count": null,
   "id": "b2190e44",
   "metadata": {},
   "outputs": [],
   "source": [
    "#jobs = salaries3[\"job_title\"].value_counts()\n"
   ]
  },
  {
   "cell_type": "code",
   "execution_count": null,
   "id": "f12e4c3c",
   "metadata": {},
   "outputs": [],
   "source": [
    "'''def limpiar_job(column):\n",
    "    if 'Scientist' in column:\n",
    "        return 'Data Scientist'\n",
    "    elif 'Engineer' in column:\n",
    "        return 'Data Engineer'\n",
    "    elif 'Analyst' in column:\n",
    "        return 'Data Analyst '\n",
    "    else:\n",
    "        return 'Machine Learning Engineer' '''"
   ]
  },
  {
   "cell_type": "code",
   "execution_count": null,
   "id": "e73e3032",
   "metadata": {},
   "outputs": [],
   "source": [
    "#salaries3['job_title'] = salaries3['job_title'].apply(limpiar_job)"
   ]
  },
  {
   "cell_type": "code",
   "execution_count": null,
   "id": "0f16e964",
   "metadata": {},
   "outputs": [],
   "source": [
    "#from sklearn.preprocessing import LabelEncoder, OrdinalEncoder\n",
    "#salaries3.company_location=LabelEncoder().fit_transform(salaries3.company_location)\n",
    "#salaries3.job_title=LabelEncoder().fit_transform(salaries3.job_title)\n",
    "#salaries3.employment_type=LabelEncoder().fit_transform(salaries3.employment_type)\n",
    "#salaries3.experience_level=LabelEncoder().fit_transform(salaries3.experience_level)\n"
   ]
  },
  {
   "cell_type": "code",
   "execution_count": null,
   "id": "bd708862",
   "metadata": {},
   "outputs": [],
   "source": [
    "'''super_high = ['US','NZ','CA','CA','AE','CN','DZ','SG','DK','JP','AU','BE']\n",
    "high = ['DE','GB','AT','PL','IE','CZ','FR','CH','SI','RO','NL']\n",
    "medium=['GR','ES','PT','LU','CL','HU','EE','IN','NG','MT'] '''"
   ]
  },
  {
   "cell_type": "code",
   "execution_count": null,
   "id": "fe0e7d78",
   "metadata": {},
   "outputs": [],
   "source": [
    "'''new_location = []\n",
    "for e in salaries3.company_location:\n",
    "    if e in super_high:\n",
    "        new_location.append('super_high')\n",
    "    elif e in high:\n",
    "        new_location.append('high')\n",
    "    elif e in medium:\n",
    "        new_location.append('medium')\n",
    "    else:\n",
    "        new_location.append('low') '''"
   ]
  },
  {
   "cell_type": "code",
   "execution_count": null,
   "id": "e2dc9d88",
   "metadata": {},
   "outputs": [],
   "source": [
    "#salaries3.company_location = new_location"
   ]
  },
  {
   "cell_type": "code",
   "execution_count": null,
   "id": "3aa8f0f1",
   "metadata": {},
   "outputs": [],
   "source": []
  },
  {
   "cell_type": "code",
   "execution_count": null,
   "id": "30c69962",
   "metadata": {},
   "outputs": [],
   "source": []
  },
  {
   "cell_type": "code",
   "execution_count": null,
   "id": "f5e18f4e",
   "metadata": {},
   "outputs": [],
   "source": []
  },
  {
   "cell_type": "markdown",
   "id": "b549a695",
   "metadata": {},
   "source": [
    "# De aqui para abajo nada de nada "
   ]
  },
  {
   "cell_type": "code",
   "execution_count": null,
   "id": "fa554888",
   "metadata": {},
   "outputs": [],
   "source": [
    "#salaries.groupby('experience_level').mean()"
   ]
  },
  {
   "cell_type": "code",
   "execution_count": null,
   "id": "ab4c72b4",
   "metadata": {},
   "outputs": [],
   "source": [
    "#salaries3.describe(include='all').T"
   ]
  },
  {
   "cell_type": "code",
   "execution_count": null,
   "id": "22d662ea",
   "metadata": {},
   "outputs": [],
   "source": [
    "#salaries3=pd.get_dummies(salaries3, columns=['company_size'], drop_first=True)\n",
    "\n",
    "#salaries3.head()"
   ]
  },
  {
   "cell_type": "code",
   "execution_count": null,
   "id": "93fb1592",
   "metadata": {},
   "outputs": [],
   "source": [
    "#salaries3=pd.get_dummies(salaries3, columns=['experience_level'], drop_first=True)\n"
   ]
  },
  {
   "cell_type": "code",
   "execution_count": null,
   "id": "d2a05eaf",
   "metadata": {},
   "outputs": [],
   "source": [
    "#salaries3.job_title.value_counts()"
   ]
  },
  {
   "cell_type": "code",
   "execution_count": null,
   "id": "864430f0",
   "metadata": {},
   "outputs": [],
   "source": [
    "'''def limpiar_job(column):\n",
    "    if 'Scientist' in column:\n",
    "        return 'Data Scientist'\n",
    "    elif 'Engineer' in column:\n",
    "        return 'Data Engineer'\n",
    "    elif 'Analyst' in column:\n",
    "        return 'Data Analyst '\n",
    "    else:\n",
    "        return 'Machine Learning Engineer' '''"
   ]
  },
  {
   "cell_type": "code",
   "execution_count": null,
   "id": "475c4425",
   "metadata": {},
   "outputs": [],
   "source": [
    "#salaries3['job_title'] = salaries3['job_title'].apply(limpiar_job)"
   ]
  },
  {
   "cell_type": "code",
   "execution_count": null,
   "id": "8b2e1634",
   "metadata": {},
   "outputs": [],
   "source": [
    "#salaries3.job_title.value_counts()"
   ]
  },
  {
   "cell_type": "code",
   "execution_count": null,
   "id": "eaff1073",
   "metadata": {},
   "outputs": [],
   "source": [
    "#salaries3=pd.get_dummies(salaries3, columns=['job_title'], drop_first=True)\n"
   ]
  },
  {
   "cell_type": "code",
   "execution_count": null,
   "id": "d6a2f3d1",
   "metadata": {},
   "outputs": [],
   "source": [
    "#salaries3.employment_type.value_counts()"
   ]
  },
  {
   "cell_type": "code",
   "execution_count": null,
   "id": "a8a85a1c",
   "metadata": {},
   "outputs": [],
   "source": [
    "#salaries3=pd.get_dummies(salaries3, columns=['employment_type'], drop_first=True)\n",
    "\n"
   ]
  },
  {
   "cell_type": "code",
   "execution_count": null,
   "id": "eba9716d",
   "metadata": {},
   "outputs": [],
   "source": [
    "#salaries3.drop('employee_residence',axis=1,inplace=True)"
   ]
  },
  {
   "cell_type": "code",
   "execution_count": null,
   "id": "4b999c8b",
   "metadata": {},
   "outputs": [],
   "source": [
    "#salaries3[\"company_location\"].value_counts()"
   ]
  },
  {
   "cell_type": "code",
   "execution_count": null,
   "id": "4af1d702",
   "metadata": {},
   "outputs": [],
   "source": [
    "#salaries3=pd.get_dummies(salaries3, columns=['employee_residence'], drop_first=True)\n",
    "\n"
   ]
  },
  {
   "cell_type": "code",
   "execution_count": null,
   "id": "706d2fc0",
   "metadata": {},
   "outputs": [],
   "source": [
    "#salaries3=pd.get_dummies(salaries3, columns=['company_location'], drop_first=True)\n",
    "\n"
   ]
  },
  {
   "cell_type": "code",
   "execution_count": null,
   "id": "1dcb8d93",
   "metadata": {},
   "outputs": [],
   "source": [
    "#salaries3=pd.get_dummies(salaries3, columns=['remote_ratio'], drop_first=True)\n",
    "\n"
   ]
  },
  {
   "cell_type": "code",
   "execution_count": null,
   "id": "1069997f",
   "metadata": {},
   "outputs": [],
   "source": [
    "#salaries3=pd.get_dummies(salaries3, columns=['work_year'], drop_first=True)\n",
    "\n"
   ]
  },
  {
   "cell_type": "code",
   "execution_count": null,
   "id": "7376572d",
   "metadata": {},
   "outputs": [],
   "source": [
    "#prueba = salaries.groupby('company_location').mean()\n",
    "#prueba = prueba.reset_index()\n",
    "#prueba"
   ]
  },
  {
   "cell_type": "code",
   "execution_count": null,
   "id": "daf1e09d",
   "metadata": {},
   "outputs": [],
   "source": [
    "#sorted_countries = list(salaries2[\"company_location\"].value_counts().index)\n",
    "#number_of_employees = salaries2[\"company_location\"].value_counts()\n",
    "#len(number_of_employees)"
   ]
  },
  {
   "cell_type": "code",
   "execution_count": null,
   "id": "ea504d9e",
   "metadata": {},
   "outputs": [],
   "source": [
    "#prueba[\"company_location\"] = pd.Categorical(prueba[\"company_location\"], categories = sorted_countries)\n",
    "#a = prueba.sort_values(by = \"company_location\")\n",
    "#a\n",
    "#a"
   ]
  },
  {
   "cell_type": "code",
   "execution_count": null,
   "id": "5fb4a498",
   "metadata": {},
   "outputs": [],
   "source": [
    "#b =  a.sort_values(by=['salary_in_usd'], ascending=False)\n",
    "#a['company_location'] = number_of_employees.values\n",
    "#a\n",
    "#b\n",
    "#super_high = ['US','NZ','CA','CA','AE','CN','DZ','SG','DK','JP','AU','BE']\n",
    "#high = ['DE','GB','AT','PL','IE','CZ','FR','CH','SI','RO','NL']\n",
    "#medium=['GR','ES','PT','LU','CL','HU','EE','IN','NG','MT']\n"
   ]
  },
  {
   "cell_type": "code",
   "execution_count": null,
   "id": "e54a2671",
   "metadata": {},
   "outputs": [],
   "source": [
    "#a['mean_salary']= a['salary_in_usd']/a['employee_number']\n",
    "#a"
   ]
  },
  {
   "cell_type": "code",
   "execution_count": null,
   "id": "7e45590f",
   "metadata": {},
   "outputs": [],
   "source": [
    "#number_of_employees.values"
   ]
  },
  {
   "cell_type": "code",
   "execution_count": null,
   "id": "377d3f2e",
   "metadata": {},
   "outputs": [],
   "source": [
    "#b =  a.sort_values(by=['salary_in_usd'], ascending=False)\n",
    "#b['number'] = number_of_employees.values\n",
    "#b"
   ]
  },
  {
   "cell_type": "code",
   "execution_count": null,
   "id": "030264e8",
   "metadata": {},
   "outputs": [],
   "source": [
    "#Esto no porque da una media de salario para algunos paises que no tiene sentido \n",
    "#b['mean_salary']= b['salary_in_usd']/b['number']\n",
    "#b"
   ]
  },
  {
   "cell_type": "code",
   "execution_count": null,
   "id": "8fe8346d",
   "metadata": {},
   "outputs": [],
   "source": [
    "#b.describe(include='all').T"
   ]
  },
  {
   "cell_type": "code",
   "execution_count": null,
   "id": "ba083979",
   "metadata": {},
   "outputs": [],
   "source": []
  },
  {
   "cell_type": "code",
   "execution_count": null,
   "id": "290c3c0b",
   "metadata": {},
   "outputs": [],
   "source": [
    "'''\n",
    "new_company=[]\n",
    "for e in b.salary_in_usd:\n",
    "    if e>= 85501.152174 and e <= 144892.682434: \n",
    "        new_company.append('high')\n",
    "    elif e>= 54945.75 and e<= 85501.152174:\n",
    "        new_company.append('medium')\n",
    "    elif e >= 24911.25 and e<= 54945.75:\n",
    "        new_company.append('low')\n",
    "    else:\n",
    "        new_company.append('super_low') '''"
   ]
  },
  {
   "cell_type": "code",
   "execution_count": null,
   "id": "99832923",
   "metadata": {},
   "outputs": [],
   "source": [
    "#b.company_location= new_company"
   ]
  },
  {
   "cell_type": "code",
   "execution_count": null,
   "id": "fa8c2288",
   "metadata": {},
   "outputs": [],
   "source": []
  },
  {
   "cell_type": "code",
   "execution_count": null,
   "id": "8805f9a1",
   "metadata": {},
   "outputs": [],
   "source": [
    "#salaries3.company_location=b.company_location"
   ]
  },
  {
   "cell_type": "code",
   "execution_count": null,
   "id": "8d9d622a",
   "metadata": {},
   "outputs": [],
   "source": [
    "#salaries3"
   ]
  },
  {
   "cell_type": "code",
   "execution_count": null,
   "id": "5c955309",
   "metadata": {},
   "outputs": [],
   "source": [
    "#super_high = ['US','NZ','CA','CA','AE','CN','DZ','SG','DK','JP','AU','BE']\n",
    "#high = ['DE','GB','AT','PL','IE','CZ','FR','CH','SI','RO','NL']\n",
    "#medium=['GR','ES','PT','LU','CL','HU','EE','IN','NG','MT']"
   ]
  },
  {
   "cell_type": "code",
   "execution_count": null,
   "id": "fe224a0f",
   "metadata": {},
   "outputs": [],
   "source": [
    "'''new_location = []\n",
    "for e in salaries3.company_location:\n",
    "    if e in super_high:\n",
    "        new_location.append('super_high')\n",
    "    elif e in high:\n",
    "        new_location.append('high')\n",
    "    elif e in medium:\n",
    "        new_location.append('medium')\n",
    "    else:\n",
    "        new_location.append('low') '''\n",
    "\n",
    "\n",
    "        \n"
   ]
  },
  {
   "cell_type": "code",
   "execution_count": null,
   "id": "877c348d",
   "metadata": {},
   "outputs": [],
   "source": [
    "#salaries3.company_location = new_location"
   ]
  },
  {
   "cell_type": "code",
   "execution_count": null,
   "id": "1e29cc6a",
   "metadata": {},
   "outputs": [],
   "source": [
    "#salaries3.drop('employee_residence',axis=1, inplace=True)"
   ]
  },
  {
   "cell_type": "code",
   "execution_count": null,
   "id": "d6aa7602",
   "metadata": {},
   "outputs": [],
   "source": [
    "#salaries3.head()"
   ]
  },
  {
   "cell_type": "code",
   "execution_count": null,
   "id": "75963d3d",
   "metadata": {},
   "outputs": [],
   "source": [
    "#salaries3=pd.get_dummies(salaries3, columns=['company_location'], drop_first=True)\n",
    "\n",
    "#salaries3.head()"
   ]
  },
  {
   "cell_type": "code",
   "execution_count": null,
   "id": "11b9cbe6",
   "metadata": {},
   "outputs": [],
   "source": [
    "#salaries4 = salaries3.iloc[:500,:]\n",
    "#testeofin= salaries3.iloc[500:,:]"
   ]
  },
  {
   "cell_type": "code",
   "execution_count": null,
   "id": "ea8e1af1",
   "metadata": {},
   "outputs": [],
   "source": [
    "#testeofin.reset_index()"
   ]
  },
  {
   "cell_type": "code",
   "execution_count": null,
   "id": "17b91b9c",
   "metadata": {},
   "outputs": [],
   "source": [
    "#testeofin.reset_index(inplace=True)"
   ]
  }
 ],
 "metadata": {
  "kernelspec": {
   "display_name": "Python 3 (ipykernel)",
   "language": "python",
   "name": "python3"
  },
  "language_info": {
   "codemirror_mode": {
    "name": "ipython",
    "version": 3
   },
   "file_extension": ".py",
   "mimetype": "text/x-python",
   "name": "python",
   "nbconvert_exporter": "python",
   "pygments_lexer": "ipython3",
   "version": "3.9.12"
  }
 },
 "nbformat": 4,
 "nbformat_minor": 5
}
