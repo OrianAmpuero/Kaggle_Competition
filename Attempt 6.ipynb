{
 "cells": [
  {
   "cell_type": "code",
   "execution_count": 1,
   "id": "2e7d4a88",
   "metadata": {},
   "outputs": [],
   "source": [
    "from lazypredict.Supervised import LazyRegressor"
   ]
  },
  {
   "cell_type": "code",
   "execution_count": 2,
   "id": "a54f61b5",
   "metadata": {},
   "outputs": [],
   "source": [
    "import pandas as pd\n",
    "import numpy as np\n",
    "import statsmodels.api as sm\n",
    "from statsmodels.formula.api import ols\n",
    "\n",
    "from sklearn.preprocessing import LabelEncoder\n",
    "from sklearn.model_selection import train_test_split as tts\n",
    "\n",
    "from sklearn.preprocessing import StandardScaler, MinMaxScaler  \n",
    "from sklearn.decomposition import PCA\n",
    "\n",
    "from sklearn.preprocessing import StandardScaler\n",
    "\n",
    "from sklearn.metrics import mean_squared_error as mse\n",
    "from sklearn.metrics import r2_score as r2\n",
    "\n",
    "from sklearn.linear_model import LinearRegression as LinReg\n",
    "from sklearn.linear_model import Lasso        # regularizacion L1\n",
    "from sklearn.linear_model import Ridge        # regularizacion L2\n",
    "from sklearn.linear_model import ElasticNet\n",
    "\n",
    "from sklearn.linear_model import LogisticRegression as LogReg\n",
    "\n",
    "from sklearn.svm import SVR\n",
    "from sklearn.ensemble import RandomForestRegressor as RFR  \n",
    "from sklearn.tree import ExtraTreeRegressor as ETR\n",
    "from sklearn.ensemble import GradientBoostingRegressor as GBR\n",
    "from xgboost import XGBRegressor as XGBR\n",
    "from lightgbm import LGBMRegressor as LGBMR\n",
    "from sklearn.model_selection import GridSearchCV\n",
    "from hyperopt import fmin, hp, tpe, Trials, space_eval, STATUS_OK\n",
    "from catboost import CatBoostRegressor as CTR\n",
    "from lightgbm import LGBMRegressor as LGBMR\n",
    "from sklearn.naive_bayes import GaussianNB\n"
   ]
  },
  {
   "cell_type": "code",
   "execution_count": 3,
   "id": "a7422db0",
   "metadata": {},
   "outputs": [],
   "source": [
    "salaries=pd.read_csv(r'data/salaries_data.csv')\n",
    "testeo=pd.read_csv(r'data/testeo.csv')\n",
    "muestra=pd.read_csv(r'data/muestra.csv')"
   ]
  },
  {
   "cell_type": "code",
   "execution_count": null,
   "id": "2b831933",
   "metadata": {},
   "outputs": [],
   "source": []
  }
 ],
 "metadata": {
  "kernelspec": {
   "display_name": "clase",
   "language": "python",
   "name": "clase"
  },
  "language_info": {
   "codemirror_mode": {
    "name": "ipython",
    "version": 3
   },
   "file_extension": ".py",
   "mimetype": "text/x-python",
   "name": "python",
   "nbconvert_exporter": "python",
   "pygments_lexer": "ipython3",
   "version": "3.7.13"
  }
 },
 "nbformat": 4,
 "nbformat_minor": 5
}
