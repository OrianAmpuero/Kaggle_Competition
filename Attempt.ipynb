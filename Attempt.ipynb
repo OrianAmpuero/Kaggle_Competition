{
 "cells": [
  {
   "cell_type": "code",
   "execution_count": 2,
   "id": "133710a4",
   "metadata": {},
   "outputs": [],
   "source": [
    "import pandas as pd"
   ]
  },
  {
   "cell_type": "code",
   "execution_count": 9,
   "id": "090725c7",
   "metadata": {},
   "outputs": [],
   "source": [
    "salaries=pd.read_csv(r'data/salaries_data.csv')\n",
    "testeo=pd.read_csv(r'data/testeo.csv')\n",
    "muestra=pd.read_csv(r'data/muestra.csv')"
   ]
  },
  {
   "cell_type": "code",
   "execution_count": 38,
   "id": "b40e936c",
   "metadata": {},
   "outputs": [
    {
     "data": {
      "text/html": [
       "<div>\n",
       "<style scoped>\n",
       "    .dataframe tbody tr th:only-of-type {\n",
       "        vertical-align: middle;\n",
       "    }\n",
       "\n",
       "    .dataframe tbody tr th {\n",
       "        vertical-align: top;\n",
       "    }\n",
       "\n",
       "    .dataframe thead th {\n",
       "        text-align: right;\n",
       "    }\n",
       "</style>\n",
       "<table border=\"1\" class=\"dataframe\">\n",
       "  <thead>\n",
       "    <tr style=\"text-align: right;\">\n",
       "      <th></th>\n",
       "      <th>work_year</th>\n",
       "      <th>experience_level</th>\n",
       "      <th>employment_type</th>\n",
       "      <th>job_title</th>\n",
       "      <th>salary</th>\n",
       "      <th>salary_currency</th>\n",
       "      <th>salary_in_usd</th>\n",
       "      <th>employee_residence</th>\n",
       "      <th>remote_ratio</th>\n",
       "      <th>company_location</th>\n",
       "      <th>company_size</th>\n",
       "    </tr>\n",
       "  </thead>\n",
       "  <tbody>\n",
       "    <tr>\n",
       "      <th>0</th>\n",
       "      <td>2022</td>\n",
       "      <td>SE</td>\n",
       "      <td>FT</td>\n",
       "      <td>Data Engineer</td>\n",
       "      <td>140250</td>\n",
       "      <td>USD</td>\n",
       "      <td>140250</td>\n",
       "      <td>US</td>\n",
       "      <td>100</td>\n",
       "      <td>US</td>\n",
       "      <td>M</td>\n",
       "    </tr>\n",
       "    <tr>\n",
       "      <th>1</th>\n",
       "      <td>2022</td>\n",
       "      <td>SE</td>\n",
       "      <td>FT</td>\n",
       "      <td>Data Engineer</td>\n",
       "      <td>135000</td>\n",
       "      <td>USD</td>\n",
       "      <td>135000</td>\n",
       "      <td>US</td>\n",
       "      <td>100</td>\n",
       "      <td>US</td>\n",
       "      <td>M</td>\n",
       "    </tr>\n",
       "    <tr>\n",
       "      <th>2</th>\n",
       "      <td>2021</td>\n",
       "      <td>MI</td>\n",
       "      <td>FT</td>\n",
       "      <td>BI Data Analyst</td>\n",
       "      <td>100000</td>\n",
       "      <td>USD</td>\n",
       "      <td>100000</td>\n",
       "      <td>US</td>\n",
       "      <td>100</td>\n",
       "      <td>US</td>\n",
       "      <td>M</td>\n",
       "    </tr>\n",
       "    <tr>\n",
       "      <th>3</th>\n",
       "      <td>2021</td>\n",
       "      <td>MI</td>\n",
       "      <td>CT</td>\n",
       "      <td>ML Engineer</td>\n",
       "      <td>270000</td>\n",
       "      <td>USD</td>\n",
       "      <td>270000</td>\n",
       "      <td>US</td>\n",
       "      <td>100</td>\n",
       "      <td>US</td>\n",
       "      <td>L</td>\n",
       "    </tr>\n",
       "    <tr>\n",
       "      <th>4</th>\n",
       "      <td>2021</td>\n",
       "      <td>MI</td>\n",
       "      <td>FT</td>\n",
       "      <td>Data Engineer</td>\n",
       "      <td>22000</td>\n",
       "      <td>EUR</td>\n",
       "      <td>26005</td>\n",
       "      <td>RO</td>\n",
       "      <td>0</td>\n",
       "      <td>US</td>\n",
       "      <td>L</td>\n",
       "    </tr>\n",
       "  </tbody>\n",
       "</table>\n",
       "</div>"
      ],
      "text/plain": [
       "   work_year experience_level employment_type        job_title  salary  \\\n",
       "0       2022               SE              FT    Data Engineer  140250   \n",
       "1       2022               SE              FT    Data Engineer  135000   \n",
       "2       2021               MI              FT  BI Data Analyst  100000   \n",
       "3       2021               MI              CT      ML Engineer  270000   \n",
       "4       2021               MI              FT    Data Engineer   22000   \n",
       "\n",
       "  salary_currency  salary_in_usd employee_residence  remote_ratio  \\\n",
       "0             USD         140250                 US           100   \n",
       "1             USD         135000                 US           100   \n",
       "2             USD         100000                 US           100   \n",
       "3             USD         270000                 US           100   \n",
       "4             EUR          26005                 RO             0   \n",
       "\n",
       "  company_location company_size  \n",
       "0               US            M  \n",
       "1               US            M  \n",
       "2               US            M  \n",
       "3               US            L  \n",
       "4               US            L  "
      ]
     },
     "execution_count": 38,
     "metadata": {},
     "output_type": "execute_result"
    }
   ],
   "source": [
    "salaries.head()"
   ]
  },
  {
   "cell_type": "code",
   "execution_count": 45,
   "id": "a65cdc43",
   "metadata": {},
   "outputs": [
    {
     "data": {
      "text/plain": [
       "array([2022, 2021, 2020], dtype=int64)"
      ]
     },
     "execution_count": 45,
     "metadata": {},
     "output_type": "execute_result"
    }
   ],
   "source": [
    "salaries.work_year.unique()"
   ]
  },
  {
   "cell_type": "code",
   "execution_count": 46,
   "id": "4f4c6a63",
   "metadata": {},
   "outputs": [
    {
     "data": {
      "text/plain": [
       "array(['SE', 'MI', 'EN', 'EX'], dtype=object)"
      ]
     },
     "execution_count": 46,
     "metadata": {},
     "output_type": "execute_result"
    }
   ],
   "source": [
    "salaries.experience_level.unique()"
   ]
  },
  {
   "cell_type": "code",
   "execution_count": 26,
   "id": "2e19fc34",
   "metadata": {},
   "outputs": [
    {
     "data": {
      "text/plain": [
       "'Data Engineer'"
      ]
     },
     "execution_count": 26,
     "metadata": {},
     "output_type": "execute_result"
    }
   ],
   "source": [
    "salaries.job_title.unique()[0]"
   ]
  },
  {
   "cell_type": "code",
   "execution_count": 43,
   "id": "25e865fe",
   "metadata": {},
   "outputs": [
    {
     "data": {
      "text/plain": [
       "Data Scientist                              121\n",
       "Data Engineer                               111\n",
       "Data Analyst                                 81\n",
       "Machine Learning Engineer                    31\n",
       "Research Scientist                           12\n",
       "Data Science Manager                         12\n",
       "Data Architect                                8\n",
       "Machine Learning Scientist                    7\n",
       "Data Analytics Manager                        7\n",
       "Big Data Engineer                             7\n",
       "Director of Data Science                      7\n",
       "ML Engineer                                   6\n",
       "Lead Data Engineer                            6\n",
       "Principal Data Scientist                      6\n",
       "Applied Data Scientist                        5\n",
       "Data Engineering Manager                      5\n",
       "Data Science Consultant                       5\n",
       "AI Scientist                                  5\n",
       "BI Data Analyst                               5\n",
       "Head of Data                                  4\n",
       "Business Data Analyst                         4\n",
       "Computer Vision Engineer                      4\n",
       "Analytics Engineer                            3\n",
       "Lead Data Scientist                           3\n",
       "Applied Machine Learning Scientist            3\n",
       "Cloud Data Engineer                           2\n",
       "Machine Learning Infrastructure Engineer      2\n",
       "Lead Data Analyst                             2\n",
       "Data Analytics Engineer                       2\n",
       "Director of Data Engineering                  2\n",
       "ETL Developer                                 2\n",
       "Head of Data Science                          2\n",
       "Machine Learning Developer                    2\n",
       "Data Science Engineer                         2\n",
       "Machine Learning Manager                      1\n",
       "Staff Data Scientist                          1\n",
       "Head of Machine Learning                      1\n",
       "Finance Data Analyst                          1\n",
       "Financial Data Analyst                        1\n",
       "Data Analytics Lead                           1\n",
       "3D Computer Vision Researcher                 1\n",
       "Principal Data Analyst                        1\n",
       "Product Data Analyst                          1\n",
       "Big Data Architect                            1\n",
       "Data Specialist                               1\n",
       "Lead Machine Learning Engineer                1\n",
       "Marketing Data Analyst                        1\n",
       "Computer Vision Software Engineer             1\n",
       "Name: job_title, dtype: int64"
      ]
     },
     "execution_count": 43,
     "metadata": {},
     "output_type": "execute_result"
    }
   ],
   "source": [
    "salaries.job_title.value_counts()"
   ]
  },
  {
   "cell_type": "code",
   "execution_count": 19,
   "id": "6cd4f76f",
   "metadata": {},
   "outputs": [
    {
     "data": {
      "text/plain": [
       "110782.44628099173"
      ]
     },
     "execution_count": 19,
     "metadata": {},
     "output_type": "execute_result"
    }
   ],
   "source": [
    "salaries[salaries.job_title==\"Data Scientist\"].salary_in_usd.mean()"
   ]
  },
  {
   "cell_type": "code",
   "execution_count": 27,
   "id": "fe148ada",
   "metadata": {},
   "outputs": [],
   "source": [
    "dicti = {}\n",
    "for i in salaries.job_title.unique():\n",
    "    mean= salaries[salaries.job_title==f\"{i}\"].salary_in_usd.mean()\n",
    "    dicti[i]=mean\n",
    "        \n",
    "        "
   ]
  },
  {
   "cell_type": "code",
   "execution_count": 35,
   "id": "74603202",
   "metadata": {},
   "outputs": [],
   "source": [
    "sorted_dicti = sorted(dicti.items(), key=lambda kv: kv[1],reverse = True)"
   ]
  },
  {
   "cell_type": "code",
   "execution_count": 36,
   "id": "d89c226e",
   "metadata": {},
   "outputs": [],
   "source": [
    "import collections\n",
    "\n",
    "sorted_dict = collections.OrderedDict(sorted_dicti)"
   ]
  },
  {
   "cell_type": "code",
   "execution_count": 37,
   "id": "2f4bc891",
   "metadata": {},
   "outputs": [
    {
     "data": {
      "text/plain": [
       "OrderedDict([('Financial Data Analyst', 450000.0),\n",
       "             ('Data Analytics Lead', 405000.0),\n",
       "             ('Principal Data Scientist', 214449.5),\n",
       "             ('Director of Data Science', 195074.0),\n",
       "             ('Applied Machine Learning Scientist', 178800.0),\n",
       "             ('Data Architect', 175934.25),\n",
       "             ('Applied Data Scientist', 175655.0),\n",
       "             ('Principal Data Analyst', 170000.0),\n",
       "             ('Head of Data Science', 167000.0),\n",
       "             ('Data Specialist', 165000.0),\n",
       "             ('Analytics Engineer', 164900.0),\n",
       "             ('Data Science Manager', 158328.5),\n",
       "             ('Director of Data Engineering', 156738.0),\n",
       "             ('Machine Learning Scientist', 143900.0),\n",
       "             ('Head of Data', 142703.25),\n",
       "             ('Lead Data Engineer', 139724.5),\n",
       "             ('Data Analytics Manager', 127134.28571428571),\n",
       "             ('Cloud Data Engineer', 124647.0),\n",
       "             ('Data Engineering Manager', 123227.2),\n",
       "             ('Machine Learning Engineer', 117583.12903225806),\n",
       "             ('ML Engineer', 117504.0),\n",
       "             ('Machine Learning Manager', 117104.0),\n",
       "             ('Lead Data Scientist', 115190.0),\n",
       "             ('Data Engineer', 111636.2072072072),\n",
       "             ('Data Scientist', 110782.44628099173),\n",
       "             ('Staff Data Scientist', 105000.0),\n",
       "             ('Research Scientist', 99953.58333333333),\n",
       "             ('Big Data Architect', 99703.0),\n",
       "             ('Lead Data Analyst', 94804.5),\n",
       "             ('Data Analyst', 92154.55555555556),\n",
       "             ('Business Data Analyst', 91253.5),\n",
       "             ('Marketing Data Analyst', 88654.0),\n",
       "             ('Lead Machine Learning Engineer', 87932.0),\n",
       "             ('Data Science Engineer', 83705.0),\n",
       "             ('BI Data Analyst', 82454.4),\n",
       "             ('Head of Machine Learning', 79039.0),\n",
       "             ('Machine Learning Developer', 78791.0),\n",
       "             ('Computer Vision Software Engineer', 70000.0),\n",
       "             ('Data Science Consultant', 67874.2),\n",
       "             ('Finance Data Analyst', 61896.0),\n",
       "             ('AI Scientist', 59410.6),\n",
       "             ('Big Data Engineer', 57080.57142857143),\n",
       "             ('ETL Developer', 54957.0),\n",
       "             ('Machine Learning Infrastructure Engineer', 54217.5),\n",
       "             ('Data Analytics Engineer', 35000.0),\n",
       "             ('Computer Vision Engineer', 28226.75),\n",
       "             ('Product Data Analyst', 20000.0),\n",
       "             ('3D Computer Vision Researcher', 5409.0)])"
      ]
     },
     "execution_count": 37,
     "metadata": {},
     "output_type": "execute_result"
    }
   ],
   "source": [
    "sorted_dict"
   ]
  },
  {
   "cell_type": "code",
   "execution_count": 39,
   "id": "b2ba7675",
   "metadata": {},
   "outputs": [
    {
     "data": {
      "text/html": [
       "<div>\n",
       "<style scoped>\n",
       "    .dataframe tbody tr th:only-of-type {\n",
       "        vertical-align: middle;\n",
       "    }\n",
       "\n",
       "    .dataframe tbody tr th {\n",
       "        vertical-align: top;\n",
       "    }\n",
       "\n",
       "    .dataframe thead th {\n",
       "        text-align: right;\n",
       "    }\n",
       "</style>\n",
       "<table border=\"1\" class=\"dataframe\">\n",
       "  <thead>\n",
       "    <tr style=\"text-align: right;\">\n",
       "      <th></th>\n",
       "      <th>work_year</th>\n",
       "      <th>experience_level</th>\n",
       "      <th>employment_type</th>\n",
       "      <th>job_title</th>\n",
       "      <th>salary</th>\n",
       "      <th>salary_currency</th>\n",
       "      <th>salary_in_usd</th>\n",
       "      <th>employee_residence</th>\n",
       "      <th>remote_ratio</th>\n",
       "      <th>company_location</th>\n",
       "      <th>company_size</th>\n",
       "    </tr>\n",
       "  </thead>\n",
       "  <tbody>\n",
       "    <tr>\n",
       "      <th>62</th>\n",
       "      <td>2021</td>\n",
       "      <td>MI</td>\n",
       "      <td>PT</td>\n",
       "      <td>3D Computer Vision Researcher</td>\n",
       "      <td>400000</td>\n",
       "      <td>INR</td>\n",
       "      <td>5409</td>\n",
       "      <td>IN</td>\n",
       "      <td>50</td>\n",
       "      <td>IN</td>\n",
       "      <td>M</td>\n",
       "    </tr>\n",
       "  </tbody>\n",
       "</table>\n",
       "</div>"
      ],
      "text/plain": [
       "    work_year experience_level employment_type                      job_title  \\\n",
       "62       2021               MI              PT  3D Computer Vision Researcher   \n",
       "\n",
       "    salary salary_currency  salary_in_usd employee_residence  remote_ratio  \\\n",
       "62  400000             INR           5409                 IN            50   \n",
       "\n",
       "   company_location company_size  \n",
       "62               IN            M  "
      ]
     },
     "execution_count": 39,
     "metadata": {},
     "output_type": "execute_result"
    }
   ],
   "source": [
    "salaries[salaries.job_title==\"3D Computer Vision Researcher\"]"
   ]
  },
  {
   "cell_type": "code",
   "execution_count": 40,
   "id": "2c444cdf",
   "metadata": {},
   "outputs": [
    {
     "data": {
      "text/html": [
       "<div>\n",
       "<style scoped>\n",
       "    .dataframe tbody tr th:only-of-type {\n",
       "        vertical-align: middle;\n",
       "    }\n",
       "\n",
       "    .dataframe tbody tr th {\n",
       "        vertical-align: top;\n",
       "    }\n",
       "\n",
       "    .dataframe thead th {\n",
       "        text-align: right;\n",
       "    }\n",
       "</style>\n",
       "<table border=\"1\" class=\"dataframe\">\n",
       "  <thead>\n",
       "    <tr style=\"text-align: right;\">\n",
       "      <th></th>\n",
       "      <th>work_year</th>\n",
       "      <th>experience_level</th>\n",
       "      <th>employment_type</th>\n",
       "      <th>job_title</th>\n",
       "      <th>salary</th>\n",
       "      <th>salary_currency</th>\n",
       "      <th>salary_in_usd</th>\n",
       "      <th>employee_residence</th>\n",
       "      <th>remote_ratio</th>\n",
       "      <th>company_location</th>\n",
       "      <th>company_size</th>\n",
       "    </tr>\n",
       "  </thead>\n",
       "  <tbody>\n",
       "    <tr>\n",
       "      <th>282</th>\n",
       "      <td>2020</td>\n",
       "      <td>MI</td>\n",
       "      <td>FT</td>\n",
       "      <td>Product Data Analyst</td>\n",
       "      <td>20000</td>\n",
       "      <td>USD</td>\n",
       "      <td>20000</td>\n",
       "      <td>HN</td>\n",
       "      <td>0</td>\n",
       "      <td>HN</td>\n",
       "      <td>S</td>\n",
       "    </tr>\n",
       "  </tbody>\n",
       "</table>\n",
       "</div>"
      ],
      "text/plain": [
       "     work_year experience_level employment_type             job_title  salary  \\\n",
       "282       2020               MI              FT  Product Data Analyst   20000   \n",
       "\n",
       "    salary_currency  salary_in_usd employee_residence  remote_ratio  \\\n",
       "282             USD          20000                 HN             0   \n",
       "\n",
       "    company_location company_size  \n",
       "282               HN            S  "
      ]
     },
     "execution_count": 40,
     "metadata": {},
     "output_type": "execute_result"
    }
   ],
   "source": [
    "salaries[salaries.job_title==\"Product Data Analyst\"]"
   ]
  },
  {
   "cell_type": "code",
   "execution_count": 42,
   "id": "5d654885",
   "metadata": {},
   "outputs": [
    {
     "data": {
      "text/html": [
       "<div>\n",
       "<style scoped>\n",
       "    .dataframe tbody tr th:only-of-type {\n",
       "        vertical-align: middle;\n",
       "    }\n",
       "\n",
       "    .dataframe tbody tr th {\n",
       "        vertical-align: top;\n",
       "    }\n",
       "\n",
       "    .dataframe thead th {\n",
       "        text-align: right;\n",
       "    }\n",
       "</style>\n",
       "<table border=\"1\" class=\"dataframe\">\n",
       "  <thead>\n",
       "    <tr style=\"text-align: right;\">\n",
       "      <th></th>\n",
       "      <th>work_year</th>\n",
       "      <th>experience_level</th>\n",
       "      <th>employment_type</th>\n",
       "      <th>job_title</th>\n",
       "      <th>salary</th>\n",
       "      <th>salary_currency</th>\n",
       "      <th>salary_in_usd</th>\n",
       "      <th>employee_residence</th>\n",
       "      <th>remote_ratio</th>\n",
       "      <th>company_location</th>\n",
       "      <th>company_size</th>\n",
       "    </tr>\n",
       "  </thead>\n",
       "  <tbody>\n",
       "    <tr>\n",
       "      <th>370</th>\n",
       "      <td>2021</td>\n",
       "      <td>MI</td>\n",
       "      <td>FT</td>\n",
       "      <td>Financial Data Analyst</td>\n",
       "      <td>450000</td>\n",
       "      <td>USD</td>\n",
       "      <td>450000</td>\n",
       "      <td>US</td>\n",
       "      <td>100</td>\n",
       "      <td>US</td>\n",
       "      <td>L</td>\n",
       "    </tr>\n",
       "  </tbody>\n",
       "</table>\n",
       "</div>"
      ],
      "text/plain": [
       "     work_year experience_level employment_type               job_title  \\\n",
       "370       2021               MI              FT  Financial Data Analyst   \n",
       "\n",
       "     salary salary_currency  salary_in_usd employee_residence  remote_ratio  \\\n",
       "370  450000             USD         450000                 US           100   \n",
       "\n",
       "    company_location company_size  \n",
       "370               US            L  "
      ]
     },
     "execution_count": 42,
     "metadata": {},
     "output_type": "execute_result"
    }
   ],
   "source": [
    "\n",
    "salaries[salaries.job_title==\"Financial Data Analyst\"]"
   ]
  },
  {
   "cell_type": "code",
   "execution_count": 44,
   "id": "1e593c5a",
   "metadata": {},
   "outputs": [
    {
     "name": "stdout",
     "output_type": "stream",
     "text": [
      "<class 'pandas.core.frame.DataFrame'>\n",
      "RangeIndex: 500 entries, 0 to 499\n",
      "Data columns (total 11 columns):\n",
      " #   Column              Non-Null Count  Dtype \n",
      "---  ------              --------------  ----- \n",
      " 0   work_year           500 non-null    int64 \n",
      " 1   experience_level    500 non-null    object\n",
      " 2   employment_type     500 non-null    object\n",
      " 3   job_title           500 non-null    object\n",
      " 4   salary              500 non-null    int64 \n",
      " 5   salary_currency     500 non-null    object\n",
      " 6   salary_in_usd       500 non-null    int64 \n",
      " 7   employee_residence  500 non-null    object\n",
      " 8   remote_ratio        500 non-null    int64 \n",
      " 9   company_location    500 non-null    object\n",
      " 10  company_size        500 non-null    object\n",
      "dtypes: int64(4), object(7)\n",
      "memory usage: 43.1+ KB\n"
     ]
    }
   ],
   "source": [
    "salaries.info()"
   ]
  },
  {
   "cell_type": "code",
   "execution_count": null,
   "id": "91f06e4d",
   "metadata": {},
   "outputs": [],
   "source": []
  }
 ],
 "metadata": {
  "kernelspec": {
   "display_name": "clase",
   "language": "python",
   "name": "clase"
  },
  "language_info": {
   "codemirror_mode": {
    "name": "ipython",
    "version": 3
   },
   "file_extension": ".py",
   "mimetype": "text/x-python",
   "name": "python",
   "nbconvert_exporter": "python",
   "pygments_lexer": "ipython3",
   "version": "3.7.13"
  }
 },
 "nbformat": 4,
 "nbformat_minor": 5
}
